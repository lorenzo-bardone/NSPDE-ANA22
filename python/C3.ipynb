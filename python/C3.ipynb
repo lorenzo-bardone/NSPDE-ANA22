{
  "nbformat": 4,
  "nbformat_minor": 0,
  "metadata": {
    "colab": {
      "name": "C3.ipynb",
      "provenance": [],
      "authorship_tag": "ABX9TyM2dnOth48qX3Kp3z7pfNGv",
      "include_colab_link": true
    },
    "kernelspec": {
      "name": "python3",
      "display_name": "Python 3"
    },
    "language_info": {
      "name": "python"
    }
  },
  "cells": [
    {
      "cell_type": "markdown",
      "metadata": {
        "id": "view-in-github",
        "colab_type": "text"
      },
      "source": [
        "<a href=\"https://colab.research.google.com/github/andreacangiani/NSPDE-ANA22/blob/main/python/C3.ipynb\" target=\"_parent\"><img src=\"https://colab.research.google.com/assets/colab-badge.svg\" alt=\"Open In Colab\"/></a>"
      ]
    },
    {
      "cell_type": "markdown",
      "source": [
        "# Finite Difference for 1D reaction-advection-diffusion problem"
      ],
      "metadata": {
        "id": "EYPTFFAQN3BY"
      }
    },
    {
      "cell_type": "markdown",
      "source": [
        "1. Finite Difference solver for the reaction-advection-diffusion problem:\n",
        "\n",
        "$-\\alpha u''(x)+\\beta u'(x)+\\gamma u(x)=f(x) \\quad \\in (a,b)$\n",
        "\n",
        "$u(a)=0, \\quad u(b)=0$"
      ],
      "metadata": {
        "id": "VXF0WBPFNRtO"
      }
    },
    {
      "cell_type": "code",
      "execution_count": null,
      "metadata": {
        "id": "cVTxIyM7NFyh"
      },
      "outputs": [],
      "source": [
        "import numpy as np\n",
        "import matplotlib.pyplot as plt\n",
        "import scipy.sparse as sp\n",
        "from scipy.sparse.linalg import spsolve"
      ]
    },
    {
      "cell_type": "markdown",
      "source": [
        "Function computing the 1D FD algebric system"
      ],
      "metadata": {
        "id": "SRJ5pqdRPUtH"
      }
    },
    {
      "cell_type": "code",
      "source": [
        "def FD1D(omega,N,alpha,beta,gamma,rhs):\n",
        "  # FD system matrix and rhs for\n",
        "  # diffusion-advection-reaction problem with coeffs\n",
        "  # alpha,beta,gamma,rhs\n",
        "  # homogeneous Dirichlet bc\n",
        "  # uniform grid in sparse CSR format\n",
        "\n",
        "  # grid\n",
        "  h = (omega[1]-omega[0])/N\n",
        "  x = np.linspace(omega[0],omega[1],N+1)\n",
        "\n",
        "  # compute rhs\n",
        "  f = rhs(x[1:-1])\n",
        "  \n",
        "  # evaluate PDE coeffs\n",
        "  diff = alpha(x)\n",
        "  conv = beta(x)\n",
        "  reac = gamma(x)\n",
        "\n",
        "  # compute diagonal entries\n",
        "  diff_term =\n",
        "  conv_term =\n",
        "\n",
        "  # compute systmen matrix\n",
        "  A =\n",
        "\n",
        "  # apply boundary conditions\n",
        "\n",
        "  return "
      ],
      "metadata": {
        "id": "vdKU9vmTOI72"
      },
      "execution_count": null,
      "outputs": []
    },
    {
      "cell_type": "markdown",
      "source": [
        "Define FD problem and solve"
      ],
      "metadata": {
        "id": "kmjRdyh3PcKK"
      }
    },
    {
      "cell_type": "code",
      "source": [
        "# Problem domain\n",
        "omega = [0,np.pi]\n",
        "\n",
        "alpha = lambda x : 1. * np.ones(len(x))\n",
        "beta = lambda x :  1. * np.ones(len(x))\n",
        "gamma = lambda x : 1. * np.ones(len(x))\n",
        "rhs = lambda x :   1. * np.ones(len(x))\n",
        "\n",
        "# Grid\n",
        "N=5\n",
        "h = (omega[1]-omega[0])/N\n",
        "x = np.linspace(omega[0],omega[1],N+1)\n",
        "\n",
        "# FD system\n",
        "A, F = FD1D(omega,N,alpha,beta,gamma,rhs)\n",
        "\n",
        "# solve\n",
        "Uh = sp.linalg.spsolve(A,F)\n",
        "\n",
        "# insert boundary conditions\n",
        "Uh = np.insert(Uh,[0, N-1], [0., 0.])\n",
        "\n",
        "# plot solution\n",
        "plt.plot(x,Uh)"
      ],
      "metadata": {
        "id": "6W46kuk6PguW"
      },
      "execution_count": null,
      "outputs": []
    },
    {
      "cell_type": "markdown",
      "source": [
        "Repeat exercise with larger system including boundary conditions"
      ],
      "metadata": {
        "id": "shVPIPkmTlQy"
      }
    },
    {
      "cell_type": "code",
      "source": [
        ""
      ],
      "metadata": {
        "id": "Csg0gbiITqSg"
      },
      "execution_count": null,
      "outputs": []
    },
    {
      "cell_type": "markdown",
      "source": [
        "Compute experimental order of convergence (EOC) using knowledge that \n",
        "\n",
        "$|| U-U_h ||_\\infty \\approx C h^k$\n",
        "\n",
        "with $C$ independent of $h$. Hence,\n",
        "\n",
        "$\\frac{|| U-U_{h_1} ||_\\infty}{|| U-U_{h_2} ||_\\infty}\\approx\\large(\\frac{h_1}{h_1}\\large)^k$,\n",
        "\n",
        "and then,\n",
        "\n",
        "$k\\approx\\frac{\\log || U-U_{h_1} ||_\\infty-\\log|| U-U_{h_2} ||_\\infty}{\\log h_1 - \\log h_2}$.\n",
        "\n",
        "Notice that to estimate the EOC you need to run at least two experiments, for instance with $h_1=h$, $h_2=h/2$."
      ],
      "metadata": {
        "id": "ohPbdO6sTsaw"
      }
    },
    {
      "cell_type": "code",
      "source": [
        "# Problem domain\n",
        "omega = [0,np.pi]\n",
        "\n",
        "alpha = lambda x : 1. * np.ones(len(x))\n",
        "beta = lambda x :  0. * np.ones(len(x))\n",
        "gamma = lambda x : 0. * np.ones(len(x))\n",
        "rhs =   lambda x : np.sin(x)\n",
        "sol =   lambda x : np.sin(x)\n",
        "\n",
        "# Fix number of experiments\n",
        "no_experiments = 12\n",
        "\n",
        "# initialise with first experiment\n",
        "\n",
        "# evaluate system for given N\n",
        "N = 5\n",
        "A, F = FD1D(omega,N,alpha,beta,gamma,rhs)\n",
        "# Solve\n",
        "U1 = sp.linalg.spsolve(A,F)\n",
        "\n",
        "for i in range(no_experiments-1):\n",
        "  # evaluate system for given N\n",
        "\n",
        "  # Solve\n",
        " \n",
        "  # Compute error \n",
        "\n",
        "  # Update\n",
        "\n"
      ],
      "metadata": {
        "id": "34lm792MXmOu"
      },
      "execution_count": null,
      "outputs": []
    },
    {
      "cell_type": "markdown",
      "source": [
        "What if the exact solution is not known? Then we can still estiate the EOC but three experiments. Indeed, letting $h_2=\\theta h_1$, we have\n",
        "\n",
        "$|| U_{h_2}-U_{h_1} ||_\\infty\\le || U-U_{h_1} ||_\\infty + || U-U_{h_2} ||_\\infty\\approx C h_1^k+C h_2^k \\approx C (1+\\theta^k) h_1^k$\n",
        "\n",
        "Now, given also $h_3 = \\theta h_2$, we have similarly\n",
        "\n",
        "$|| U_{h_3}-U_{h_2} ||_\\infty \\approx C (1+\\theta^k) h_2^k=C (1+\\theta^k)\\theta^k h_1^k$\n",
        "\n",
        "hence,\n",
        "\n",
        "$\\frac{|| U_{h_2}-U_{h_1} ||_\\infty}{|| U_{h_3}-U_{h_2} ||_\\infty}\\approx \\frac{C (1+\\theta^k) h_1^k}{C (1+\\theta^k)\\theta^k h_1^k}=\\theta^{-k}$\n",
        "\n",
        "from which $k$ can be estimated as before by passing to the logs."
      ],
      "metadata": {
        "id": "1qj6q7X1Xmwm"
      }
    },
    {
      "cell_type": "markdown",
      "source": [
        ""
      ],
      "metadata": {
        "id": "k3kDh9ypbi9-"
      }
    },
    {
      "cell_type": "markdown",
      "source": [
        "**Exercise:** try this out for the problem with $f=1$."
      ],
      "metadata": {
        "id": "N3UJHKF0XsQh"
      }
    },
    {
      "cell_type": "markdown",
      "source": [
        ""
      ],
      "metadata": {
        "id": "Ip4XOCpJb6xb"
      }
    },
    {
      "cell_type": "markdown",
      "source": [
        "# Finite Difference in 2D"
      ],
      "metadata": {
        "id": "k0NjhLsBbd5b"
      }
    },
    {
      "cell_type": "markdown",
      "source": [
        "1. Finite Difference solver for the 2D Poisson problem:\n",
        "\n",
        "$-\\Delta u=f \\quad \\in \\Omega=(a,b)^2$\n",
        "\n",
        "$u|_{\\partial\\Omega}=0$"
      ],
      "metadata": {
        "id": "zeuhbUNybj4H"
      }
    },
    {
      "cell_type": "markdown",
      "source": [
        "Function computing the 1D FD algebric system"
      ],
      "metadata": {
        "id": "x3qW3fmUdA7p"
      }
    },
    {
      "cell_type": "code",
      "source": [
        "def FD2D(omega,N,rhs):\n",
        "  # FD system matrix and rhs in omega^2 for\n",
        "  # diffusion-advection-reaction problem with coeffs\n",
        "  # alpha,beta,gamma,rhs\n",
        "  # homogeneous Dirichlet bc\n",
        "  # uniform grid in sparse CSR format\n",
        "  # with Nx = Ny = N\n",
        "\n",
        "  # grid\n",
        "  h = (omega[1]-omega[0])/N\n",
        "  x = np.linspace(omega[0],omega[1],N+1)\n",
        "  y = x\n",
        "\n",
        "  # Compute rhs\n",
        "  \n",
        "  # compute system matrix\n",
        "\n",
        "  # Implement boundary conditions\n",
        "\n",
        "\n",
        "  return"
      ],
      "metadata": {
        "id": "tdSowUE-bjKr"
      },
      "execution_count": null,
      "outputs": []
    },
    {
      "cell_type": "markdown",
      "source": [
        "Define FD problem and solve"
      ],
      "metadata": {
        "id": "k-aLijlBdhYB"
      }
    },
    {
      "cell_type": "code",
      "source": [
        "omega = [0,np.pi,0,np.pi]\n",
        "N = 100\n",
        "rhs = lambda x, y : 2 * np.sin(x) * np.sin(y)\n",
        "exact = lambda x, y : np.sin(x) * np.sin(y)\n",
        "\n",
        "# call function computing FD system\n",
        "\n",
        "# solve\n",
        "\n",
        "# plot solution\n",
        "\n",
        "# Prepare data for plotting \n",
        "\n",
        "# Plot the solution\n",
        "fig, ax = plt.subplots(subplot_kw={\"projection\": \"3d\"})\n",
        "surf = ax.plot_surface(X, Y, U, cmap=cm.coolwarm,\n",
        "                       linewidth=0, antialiased=False)\n",
        "\n",
        "plt.show()\n",
        "\n",
        "\n",
        "\n",
        "\n"
      ],
      "metadata": {
        "id": "fWI5O3vYdiKk"
      },
      "execution_count": null,
      "outputs": []
    },
    {
      "cell_type": "markdown",
      "source": [
        "**Exercise:** Compute error and EOC "
      ],
      "metadata": {
        "id": "hkDkYnV2elVw"
      }
    },
    {
      "cell_type": "markdown",
      "source": [
        "**Exercise:** Generalise to more general elliptic problems (PDE and boundary conditions)"
      ],
      "metadata": {
        "id": "3WgSBqKuezhV"
      }
    }
  ]
}