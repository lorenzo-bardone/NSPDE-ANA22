{
  "cells": [
    {
      "cell_type": "markdown",
      "metadata": {
        "colab_type": "text",
        "id": "view-in-github"
      },
      "source": [
        "<a href=\"https://colab.research.google.com/github/andreacangiani/NSPDE-ANA22/blob/main/python/C2.ipynb\" target=\"_parent\"><img src=\"https://colab.research.google.com/assets/colab-badge.svg\" alt=\"Open In Colab\"/></a>"
      ]
    },
    {
      "cell_type": "markdown",
      "metadata": {
        "id": "WLd_JqUTLlx7"
      },
      "source": [
        "# Divided differences using sparse matrix"
      ]
    },
    {
      "cell_type": "markdown",
      "metadata": {
        "id": "lAvcakieLgH4"
      },
      "source": [
        "Import the usual modules"
      ]
    },
    {
      "cell_type": "code",
      "execution_count": 1,
      "metadata": {
        "id": "UhR8FV_9KpLl"
      },
      "outputs": [],
      "source": [
        "import numpy as np\n",
        "import matplotlib.pyplot as plt\n",
        "import sympy as sym"
      ]
    },
    {
      "cell_type": "markdown",
      "metadata": {
        "id": "TEsSBeGDMz-9"
      },
      "source": [
        "New module: sparse algebra"
      ]
    },
    {
      "cell_type": "code",
      "execution_count": 2,
      "metadata": {
        "id": "knW_Lj85M3g2"
      },
      "outputs": [],
      "source": [
        "import scipy.sparse as sp"
      ]
    },
    {
      "cell_type": "markdown",
      "metadata": {
        "id": "AOx_KN1HLSBn"
      },
      "source": [
        "Function implementing the forward difference in sparse format"
      ]
    },
    {
      "cell_type": "code",
      "execution_count": 3,
      "metadata": {
        "id": "bPMMOZh0LRd5"
      },
      "outputs": [],
      "source": [
        "def forward_difference(a, b, N):\n",
        "  h = (b-a)/N\n",
        " \n",
        "  # Compute FD matrix as sparse using Compressed Sparse Row (CSR) format \n",
        "  data = [-np.ones(N+1), np.ones(N)]\n",
        "  FD = sp.diags(data,[0,1], format=\"csr\")\n",
        "  return FD / h"
      ]
    },
    {
      "cell_type": "code",
      "execution_count": 4,
      "metadata": {
        "id": "DJ6b0gTXR63S"
      },
      "outputs": [],
      "source": [
        "a=0\n",
        "b=1\n",
        "N=5\n",
        "FD = forward_difference(a, b, N)"
      ]
    },
    {
      "cell_type": "code",
      "execution_count": 5,
      "metadata": {
        "id": "kecwHOrVSNSK"
      },
      "outputs": [
        {
          "name": "stdout",
          "output_type": "stream",
          "text": [
            "  (0, 0)\t-5.0\n",
            "  (0, 1)\t5.0\n",
            "  (1, 1)\t-5.0\n",
            "  (1, 2)\t5.0\n",
            "  (2, 2)\t-5.0\n",
            "  (2, 3)\t5.0\n",
            "  (3, 3)\t-5.0\n",
            "  (3, 4)\t5.0\n",
            "  (4, 4)\t-5.0\n",
            "  (4, 5)\t5.0\n",
            "  (5, 5)\t-5.0\n"
          ]
        }
      ],
      "source": [
        "print (FD)"
      ]
    },
    {
      "cell_type": "code",
      "execution_count": 6,
      "metadata": {
        "id": "lUfU966YSY9U"
      },
      "outputs": [
        {
          "name": "stdout",
          "output_type": "stream",
          "text": [
            "[[-5.  5.  0.  0.  0.  0.]\n",
            " [ 0. -5.  5.  0.  0.  0.]\n",
            " [ 0.  0. -5.  5.  0.  0.]\n",
            " [ 0.  0.  0. -5.  5.  0.]\n",
            " [ 0.  0.  0.  0. -5.  5.]\n",
            " [ 0.  0.  0.  0.  0. -5.]]\n"
          ]
        }
      ],
      "source": [
        "print(FD.todense())"
      ]
    },
    {
      "cell_type": "markdown",
      "metadata": {
        "id": "vFJoKMnYMThw"
      },
      "source": [
        "Use the FD to evaluate the derivative of $f(x)=\\frac{x^2}{2}$"
      ]
    },
    {
      "cell_type": "code",
      "execution_count": 7,
      "metadata": {
        "id": "6Nq2C60jL6PZ"
      },
      "outputs": [
        {
          "name": "stdout",
          "output_type": "stream",
          "text": [
            "11.4 µs ± 4.75 µs per loop (mean ± std. dev. of 7 runs, 100000 loops each)\n"
          ]
        }
      ],
      "source": [
        "t = sym.var('t')\n",
        "my_f = 0.5 * t**2\n",
        "fsym = sym.lambdify(t, my_f )\n",
        "\n",
        "a=0 \n",
        "b=1\n",
        "N = 100\n",
        "\n",
        "# Evaluate FD matrix\n",
        "FD = forward_difference(a, b, N)\n",
        "\n",
        "# Values of the derivative at the \n",
        "# internal grid points\n",
        "x=np.linspace(0,1,N+1)\n",
        "\n",
        "%timeit u_x = FD.dot(fsym(x))[1:N]\n",
        "\n",
        "# Print results\n",
        "#print(u_x)"
      ]
    },
    {
      "cell_type": "markdown",
      "metadata": {
        "id": "8sObv8G9YSof"
      },
      "source": [
        "**Exercise.** Find a way to evaluate execution time and compare full vs sparse exectution time"
      ]
    },
    {
      "cell_type": "markdown",
      "metadata": {
        "id": "3EVlhgPcKty_"
      },
      "source": [
        "# Central finite differences in 1D"
      ]
    },
    {
      "cell_type": "markdown",
      "metadata": {
        "id": "cPX73u-NK2Pq"
      },
      "source": [
        "Poisson problem in 1D:\n",
        "\n",
        "$-u''(x)=f(x) \\quad \\in (a,b)$\n",
        "\n",
        "$u(a)=0, \\quad u(b)=0$\n",
        "\n",
        "We use the second central divided difference to approxima the second derivative.\n",
        "\n",
        "Given $h>0$, \n",
        "\n",
        "$u''(x)≈\\frac{u(x+h)-2u(x)+u(x-h)}{h^2}$"
      ]
    },
    {
      "cell_type": "markdown",
      "metadata": {
        "id": "Uf1tUssmNf7d"
      },
      "source": [
        "Function for second central matrix"
      ]
    },
    {
      "cell_type": "code",
      "execution_count": 8,
      "metadata": {
        "id": "6AkrOqiXNcTJ"
      },
      "outputs": [],
      "source": [
        "def CD2(N):\n",
        "  # Function defining nominator of\n",
        "  # second central FD formula on a \n",
        "  # uniform grid in sparse CSR format\n",
        "  data = [np.ones(N), -2 * np.ones(N+1), np.ones(N)]\n",
        "  return sp.diags(data,[-1,0,1], format=\"csr\")"
      ]
    },
    {
      "cell_type": "code",
      "execution_count": 9,
      "metadata": {
        "id": "KUOiecYxW5ES"
      },
      "outputs": [
        {
          "name": "stdout",
          "output_type": "stream",
          "text": [
            "[[-2.  1.  0.  0.  0.  0.]\n",
            " [ 1. -2.  1.  0.  0.  0.]\n",
            " [ 0.  1. -2.  1.  0.  0.]\n",
            " [ 0.  0.  1. -2.  1.  0.]\n",
            " [ 0.  0.  0.  1. -2.  1.]\n",
            " [ 0.  0.  0.  0.  1. -2.]]\n"
          ]
        }
      ],
      "source": [
        "N = 5\n",
        "A = CD2(N)\n",
        "\n",
        "print(A.todense())"
      ]
    },
    {
      "cell_type": "markdown",
      "metadata": {
        "id": "kQFF0QdiNvCt"
      },
      "source": [
        "Test problem:\n",
        "\n",
        "$(a,b)=(0,\\pi)$\n",
        "\n",
        "u(x)=sin(x)"
      ]
    },
    {
      "cell_type": "code",
      "execution_count": 10,
      "metadata": {
        "id": "6o6A_IUkNuMG"
      },
      "outputs": [],
      "source": [
        "# Define right-hand side function\n",
        "t = sym.var('t')\n",
        "my_f = sym.sin(t)\n",
        "rhs_f = sym.lambdify(t, my_f )\n",
        "\n",
        "# Define exact solution\n",
        "my_sol = sym.sin(t)\n",
        "exact_sol = sym.lambdify(t, my_sol )"
      ]
    },
    {
      "cell_type": "markdown",
      "metadata": {
        "id": "SWzKNz0vOOWW"
      },
      "source": [
        "Define FD problem:\n",
        "\n",
        "for $h=(b-a)/N$\n",
        "\n",
        "$ A U = - h^2 F $\n",
        "\n",
        "with $A$ the nominator of CD formula."
      ]
    },
    {
      "cell_type": "code",
      "execution_count": 11,
      "metadata": {
        "id": "9ZJJbGtGOME1"
      },
      "outputs": [],
      "source": [
        "# Problem domain\n",
        "a = 0\n",
        "b= np.pi\n",
        "\n",
        "# Size of grid\n",
        "N = 20\n",
        "h = (b-a)/N\n",
        "\n",
        "# Grid\n",
        "x = np.linspace(a,b,N+1)\n",
        "\n",
        "# CD matrix\n",
        "A = CD2(N)\n",
        "\n",
        "# Right-hand side\n",
        "F = - h**2 * rhs_f(x[1:-1])\n",
        "\n",
        "# Homogeneous Dirichlet boundary conditions\n",
        "A = A[1:-1,1:-1]\n"
      ]
    },
    {
      "cell_type": "markdown",
      "metadata": {
        "id": "3civ7pL9bGQe"
      },
      "source": [
        "Import solver"
      ]
    },
    {
      "cell_type": "code",
      "execution_count": 12,
      "metadata": {
        "id": "BEJ07uM1bJ07"
      },
      "outputs": [],
      "source": [
        "from scipy.sparse.linalg import spsolve\n",
        "from scipy.linalg import solve"
      ]
    },
    {
      "cell_type": "markdown",
      "metadata": {
        "id": "AKmPecQMO4Kr"
      },
      "source": [
        "Solve problem and print result"
      ]
    },
    {
      "cell_type": "code",
      "execution_count": 13,
      "metadata": {
        "colab": {
          "base_uri": "https://localhost:8080/",
          "height": 283
        },
        "id": "l7B-YKy9O5jF",
        "outputId": "b1bb3808-b174-4fb3-8896-1a1cf220a3fa"
      },
      "outputs": [
        {
          "data": {
            "text/plain": [
              "[<matplotlib.lines.Line2D at 0x18e83a98dc0>]"
            ]
          },
          "execution_count": 13,
          "metadata": {},
          "output_type": "execute_result"
        },
        {
          "data": {
            "image/png": "[encoded data removed]",
            "text/plain": [
              "<Figure size 432x288 with 1 Axes>"
            ]
          },
          "metadata": {
            "needs_background": "light"
          },
          "output_type": "display_data"
        }
      ],
      "source": [
        "# Compute solution at internal nodes\n",
        "FD_sol = spsolve(A,F)\n",
        "\n",
        "# plot solution\n",
        "plt.plot(x[1:-1],FD_sol)"
      ]
    },
    {
      "cell_type": "code",
      "execution_count": 14,
      "metadata": {
        "id": "UQ9kqgtrZHom"
      },
      "outputs": [
        {
          "name": "stdout",
          "output_type": "stream",
          "text": [
            "0.002058706764533902\n"
          ]
        }
      ],
      "source": [
        "# print max error\n",
        "\n",
        "print(np.max(np.abs(FD_sol-exact_sol(x[1:-1]))))"
      ]
    },
    {
      "cell_type": "markdown",
      "metadata": {
        "id": "EbHL94cyPFWM"
      },
      "source": [
        "**Exercise 1.** test for convergence and plot convergence plot"
      ]
    },
    {
      "cell_type": "markdown",
      "metadata": {},
      "source": [
        "We repeat what done before for increasingly higher values of N, then plot the error and see if it goes to 0."
      ]
    },
    {
      "cell_type": "code",
      "execution_count": 17,
      "metadata": {},
      "outputs": [
        {
          "data": {
            "image/png": "[encoded data removed]",
            "text/plain": [
              "<Figure size 432x288 with 1 Axes>"
            ]
          },
          "metadata": {
            "needs_background": "light"
          },
          "output_type": "display_data"
        },
        {
          "data": {
            "text/plain": [
              "[<matplotlib.lines.Line2D at 0x18e86f8b4f0>]"
            ]
          },
          "execution_count": 17,
          "metadata": {},
          "output_type": "execute_result"
        },
        {
          "data": {
            "image/png": "[encoded data removed]",
            "text/plain": [
              "<Figure size 432x288 with 1 Axes>"
            ]
          },
          "metadata": {
            "needs_background": "light"
          },
          "output_type": "display_data"
        }
      ],
      "source": [
        "# Define right-hand side function\n",
        "t = sym.var('t')\n",
        "my_f = sym.sin(t)\n",
        "rhs_f = sym.lambdify(t, my_f )\n",
        "\n",
        "# Define exact solution\n",
        "my_sol = sym.sin(t)\n",
        "exact_sol = sym.lambdify(t, my_sol )\n",
        "\n",
        "# Problem domain\n",
        "a = 0\n",
        "b= np.pi\n",
        "\n",
        "Nvals=[]\n",
        "errors=[]\n",
        "\n",
        "for i in range(2,10):\n",
        "    # Size of grid\n",
        "    N=2**i\n",
        "    Nvals.append(N)\n",
        "    h = (b-a)/N\n",
        "    # Grid\n",
        "    x = np.linspace(a,b,N+1)\n",
        "    # CD matrix\n",
        "    A = CD2(N)\n",
        "    # Right-hand side\n",
        "    F = - h**2 * rhs_f(x[1:-1])\n",
        "    # Homogeneous Dirichlet boundary conditions\n",
        "    A = A[1:-1,1:-1]\n",
        "    # Compute solution at internal nodes\n",
        "    FD_sol = spsolve(A,F)\n",
        "    error=np.max(np.abs(FD_sol-exact_sol(x[1:-1])))\n",
        "    errors.append(error)\n",
        "plt.loglog(Nvals,errors)\n",
        "plt.show()\n",
        "plt.plot(x[1:-1],FD_sol)"
      ]
    },
    {
      "cell_type": "markdown",
      "metadata": {
        "id": "T2QXoNYhP228"
      },
      "source": [
        "**Exercise 2.** Solve the problem with nonhomogeneous Dirichlet conditions:\n",
        "\n",
        "$-\\alpha u''(x)=f(x) \\quad \\in (a,b)$\n",
        "\n",
        "$u(a)=u_a, \\quad u(b)=u_b$"
      ]
    },
    {
      "cell_type": "markdown",
      "metadata": {
        "id": "PWX-C4sbQd-p"
      },
      "source": [
        "For example, you could fix: $(a,b)=(0,\\pi/2)$, solution $u$ as before, $\\alpha=\\frac{1}{2}$"
      ]
    },
    {
      "cell_type": "code",
      "execution_count": 18,
      "metadata": {},
      "outputs": [],
      "source": [
        "# Define right-hand side function\n",
        "alpha=1/2\n",
        "t = sym.var('t')\n",
        "my_f = (1/alpha) *sym.sin(t)\n",
        "rhs_f = sym.lambdify(t, my_f )\n",
        "\n",
        "# Define exact solution\n",
        "my_sol = (1/alpha) *sym.sin(t)\n",
        "exact_sol = sym.lambdify(t, my_sol )\n"
      ]
    },
    {
      "cell_type": "code",
      "execution_count": 19,
      "metadata": {},
      "outputs": [
        {
          "data": {
            "image/png": "[encoded data removed]",
            "text/plain": [
              "<Figure size 432x288 with 1 Axes>"
            ]
          },
          "metadata": {
            "needs_background": "light"
          },
          "output_type": "display_data"
        },
        {
          "data": {
            "text/plain": [
              "[<matplotlib.lines.Line2D at 0x18e885403d0>]"
            ]
          },
          "execution_count": 19,
          "metadata": {},
          "output_type": "execute_result"
        },
        {
          "data": {
            "image/png": "[encoded data removed]",
            "text/plain": [
              "<Figure size 432x288 with 1 Axes>"
            ]
          },
          "metadata": {
            "needs_background": "light"
          },
          "output_type": "display_data"
        }
      ],
      "source": [
        "# Problem domain\n",
        "a = 0\n",
        "b= np.pi/2\n",
        "\n",
        "#Boundary condition\n",
        "u_a=0\n",
        "u_b=exact_sol(np.pi/2)\n",
        "\n",
        "Nvals=[]\n",
        "errors=[]\n",
        "\n",
        "for i in range(2,7):\n",
        "    # Size of grid\n",
        "    N=2**i\n",
        "    Nvals.append(N)\n",
        "    h = (b-a)/N\n",
        "    # Grid\n",
        "    x = np.linspace(a,b,N+1)\n",
        "    # CD matrix\n",
        "    A = CD2(N)\n",
        "    # Right-hand side\n",
        "    F = - h**2 * rhs_f(x[1:-1])\n",
        "    # NON Homogeneous Dirichlet boundary conditions\n",
        "    A = A[1:,1:]\n",
        "    A[-1,-1]=1\n",
        "    A[-1,-2]=0\n",
        "    F=np.concatenate((F,[u_b]),0)\n",
        "    # Compute solution at internal nodes\n",
        "    FD_sol = spsolve(A,F)\n",
        "    error=np.max(np.abs(FD_sol-exact_sol(x[1:])))\n",
        "    errors.append(error)\n",
        "plt.loglog(Nvals,errors)\n",
        "plt.show()\n",
        "plt.plot(x[1:],FD_sol)\n",
        "plt.plot(x[1:],exact_sol(x[1:]))"
      ]
    },
    {
      "cell_type": "markdown",
      "metadata": {
        "id": "DwxTZDyTQ_cV"
      },
      "source": [
        "**Exercise 3.** Solve the problem with (homogeneous) Neumann conditions:\n",
        "\n",
        "$-\\alpha u''(x)=f(x) \\quad \\in (a,b)$\n",
        "\n",
        "$u(a)=u_a, \\quad u'(b)=0$"
      ]
    },
    {
      "cell_type": "markdown",
      "metadata": {
        "id": "aySe91zwRMq3"
      },
      "source": [
        "For example, you could fix: $(a,b)=(0,\\pi/2)$, solution $u$ as before, $\\alpha=1$."
      ]
    },
    {
      "cell_type": "code",
      "execution_count": 20,
      "metadata": {},
      "outputs": [],
      "source": [
        "# Define right-hand side function\n",
        "alpha=1\n",
        "u_a=1\n",
        "t = sym.var('t')\n",
        "my_f = (1/alpha) *sym.sin(t)\n",
        "rhs_f = sym.lambdify(t, my_f )\n",
        "\n",
        "# Define exact solution\n",
        "my_sol = (1/alpha) *sym.sin(t)+u_a\n",
        "exact_sol = sym.lambdify(t, my_sol )\n"
      ]
    },
    {
      "cell_type": "code",
      "execution_count": 21,
      "metadata": {},
      "outputs": [
        {
          "data": {
            "image/png": "[encoded data removed]",
            "text/plain": [
              "<Figure size 432x288 with 1 Axes>"
            ]
          },
          "metadata": {
            "needs_background": "light"
          },
          "output_type": "display_data"
        },
        {
          "data": {
            "text/plain": [
              "[<matplotlib.lines.Line2D at 0x18e85ef8070>]"
            ]
          },
          "execution_count": 21,
          "metadata": {},
          "output_type": "execute_result"
        },
        {
          "data": {
            "image/png": "[encoded data removed]",
            "text/plain": [
              "<Figure size 432x288 with 1 Axes>"
            ]
          },
          "metadata": {
            "needs_background": "light"
          },
          "output_type": "display_data"
        }
      ],
      "source": [
        "# Problem domain\n",
        "a = 0\n",
        "b= np.pi/2\n",
        "\n",
        "#Boundary condition\n",
        "u_a=1\n",
        "\n",
        "Nvals=[]\n",
        "errors=[]\n",
        "\n",
        "for i in range(2,8):\n",
        "    # Size of grid\n",
        "    N=2**i\n",
        "    Nvals.append(N)\n",
        "    h = (b-a)/N\n",
        "    # Grid\n",
        "    x = np.linspace(a,b,N+1)\n",
        "    # CD matrix\n",
        "    A = CD2(N)\n",
        "    # Right-hand side\n",
        "    F = - h**2 * rhs_f(x[1:-1])\n",
        "    # NON Homogeneous Dirichlet boundary conditions in a and Homogeneous Neumann in b\n",
        "    A[0,0]= 1\n",
        "    A[0,1]=0\n",
        "    A[-1,-1]=1\n",
        "    A[-1,-2]=-1\n",
        "    F=np.concatenate(([u_a],F,[0]),0)\n",
        "    # Compute solution at internal nodes\n",
        "    FD_sol = spsolve(A,F)\n",
        "    error=np.max(np.abs(FD_sol-exact_sol(x)))\n",
        "    errors.append(error)\n",
        "plt.loglog(Nvals,errors)\n",
        "plt.show()\n",
        "plt.plot(x,FD_sol)\n",
        "plt.plot(x,exact_sol(x))"
      ]
    },
    {
      "cell_type": "markdown",
      "metadata": {
        "id": "MyrPdJSCSOeG"
      },
      "source": [
        "**Exercise 4.** Solve the reaction-advection-diffusion problem (still with central differences):\n",
        "\n",
        "$-\\alpha u''(x)+\\beta u'(x)+\\gamma u(x)=f(x) \\quad \\in (a,b)$\n",
        "\n",
        "$u(a)=u_a, \\quad u(b)=u_b$\n"
      ]
    },
    {
      "cell_type": "code",
      "execution_count": 21,
      "metadata": {},
      "outputs": [
        {
          "name": "stdout",
          "output_type": "stream",
          "text": [
            "A= [[ 20.26423673 -10.13211836   0.           0.           0.\n",
            "    0.        ]\n",
            " [-10.13211836  20.26423673 -10.13211836   0.           0.\n",
            "    0.        ]\n",
            " [  0.         -10.13211836  20.26423673 -10.13211836   0.\n",
            "    0.        ]\n",
            " [  0.           0.         -10.13211836  20.26423673 -10.13211836\n",
            "    0.        ]\n",
            " [  0.           0.           0.         -10.13211836  20.26423673\n",
            "  -10.13211836]\n",
            " [  0.           0.           0.           0.         -10.13211836\n",
            "   20.26423673]] \n",
            "\n",
            "\n",
            " B= [[-3.18309886  3.18309886  0.          0.          0.          0.        ]\n",
            " [ 0.         -3.18309886  3.18309886  0.          0.          0.        ]\n",
            " [ 0.          0.         -3.18309886  3.18309886  0.          0.        ]\n",
            " [ 0.          0.          0.         -3.18309886  3.18309886  0.        ]\n",
            " [ 0.          0.          0.          0.         -3.18309886  3.18309886]\n",
            " [ 0.          0.          0.          0.          0.         -3.18309886]] \n",
            "\n",
            "\n",
            " M= [[-22.44733559  13.31521723   0.           0.           0.\n",
            "    0.        ]\n",
            " [ 10.13211836 -22.44733559  13.31521723   0.           0.\n",
            "    0.        ]\n",
            " [  0.          10.13211836 -22.44733559  13.31521723   0.\n",
            "    0.        ]\n",
            " [  0.           0.          10.13211836 -22.44733559  13.31521723\n",
            "    0.        ]\n",
            " [  0.           0.           0.          10.13211836 -22.44733559\n",
            "   13.31521723]\n",
            " [  0.           0.           0.           0.          10.13211836\n",
            "  -22.44733559]]\n"
          ]
        }
      ],
      "source": [
        "#definition of the matrices\n",
        "a=0\n",
        "b=np.pi/2\n",
        "alpha=1\n",
        "beta=1\n",
        "gamma=1\n",
        "\n",
        "# CD matrix for second derivative\n",
        "N=5\n",
        "h = (b-a)/N\n",
        "A = -(1/h**2)*CD2(N)\n",
        "\n",
        "# CD matrix for first derivative\n",
        "B=forward_difference(a,b,N)\n",
        "\n",
        "#matrix for the problem\n",
        "M=-alpha*A+beta*B+gamma*np.eye(N+1)\n",
        "\n",
        "print(\"A=\",A.todense(),\"\\n\\n\\n\",\"B=\",B.todense(),\"\\n\\n\\n\",\"M=\",M)"
      ]
    },
    {
      "cell_type": "code",
      "execution_count": 22,
      "metadata": {},
      "outputs": [],
      "source": [
        "#definition of the data\n",
        "alpha=-1\n",
        "beta=0\n",
        "gamma=1\n",
        "\n",
        "#for this case we take F=0 so that the solution is again the sinus, since sin''(t)=-sin(t)\n",
        "\n",
        "# Define exact solution\n",
        "my_sol = sym.sin(t)\n",
        "exact_sol = sym.lambdify(t, my_sol )\n"
      ]
    },
    {
      "cell_type": "code",
      "execution_count": 23,
      "metadata": {},
      "outputs": [
        {
          "data": {
            "image/png": "[encoded data removed]",
            "text/plain": [
              "<Figure size 432x288 with 1 Axes>"
            ]
          },
          "metadata": {
            "needs_background": "light"
          },
          "output_type": "display_data"
        },
        {
          "data": {
            "text/plain": [
              "[<matplotlib.lines.Line2D at 0x18e86e86eb0>]"
            ]
          },
          "execution_count": 23,
          "metadata": {},
          "output_type": "execute_result"
        },
        {
          "data": {
            "image/png": "[encoded data removed]",
            "text/plain": [
              "<Figure size 432x288 with 1 Axes>"
            ]
          },
          "metadata": {
            "needs_background": "light"
          },
          "output_type": "display_data"
        }
      ],
      "source": [
        "#problem domain\n",
        "a=0\n",
        "b=np.pi/2\n",
        "\n",
        "#Boundary condition\n",
        "u_a=0\n",
        "u_b=1\n",
        "\n",
        "Nvals=[]\n",
        "errors=[]\n",
        "times=[]\n",
        "\n",
        "for i in range(2,8):\n",
        "    # Size of grid\n",
        "    N=2**i\n",
        "    Nvals.append(N)\n",
        "    h = (b-a)/N\n",
        "    # Grid\n",
        "    x = np.linspace(a,b,N+1)\n",
        "\n",
        "    # CD matrix for second derivative\n",
        "    A = (1/h**2)*CD2(N)   \n",
        "\n",
        "    # CD matrix for first derivative\n",
        "    B=forward_difference(a,b,N)\n",
        "\n",
        "    #matrix for the problem\n",
        "    M=-alpha*A+beta*B+gamma*np.eye(N+1)\n",
        "\n",
        "    #Right hand side\n",
        "    F=np.zeros(N+1)\n",
        "    F[0]=u_a\n",
        "    F[-1]=u_b\n",
        "    # NON Homogeneous Dirichlet boundary conditions in a and in b\n",
        "    M[0,0]= 1\n",
        "    M[0,1]=0\n",
        "    M[-1,-1]=1\n",
        "    M[-1,-2]=0\n",
        "\n",
        "    # Compute solution at internal nodes\n",
        "    FD_sol = solve(M,F)\n",
        "    error=np.max(np.abs(FD_sol-exact_sol(x)))\n",
        "    errors.append(error)\n",
        "plt.loglog(Nvals,errors)\n",
        "plt.show()\n",
        "plt.plot(x,FD_sol)\n",
        "plt.plot(x,exact_sol(x))"
      ]
    },
    {
      "cell_type": "markdown",
      "metadata": {
        "id": "j8p08w7TRj34"
      },
      "source": [
        "**Exercise 5.** Now take any of the problems above, but this time with data such that you do not know the exact solution. How would you test the order of convergence of the FD method?"
      ]
    },
    {
      "cell_type": "code",
      "execution_count": 24,
      "metadata": {},
      "outputs": [
        {
          "name": "stderr",
          "output_type": "stream",
          "text": [
            "C:\\Users\\lollopc\\AppData\\Local\\Packages\\PythonSoftwareFoundation.Python.3.9_qbz5n2kfra8p0\\LocalCache\\local-packages\\Python39\\site-packages\\scipy\\sparse\\linalg\\dsolve\\linsolve.py:144: SparseEfficiencyWarning: spsolve requires A be CSC or CSR matrix format\n",
            "  warn('spsolve requires A be CSC or CSR matrix format',\n"
          ]
        },
        {
          "ename": "NameError",
          "evalue": "name 'FD_sol_old' is not defined",
          "output_type": "error",
          "traceback": [
            "\u001b[1;31m---------------------------------------------------------------------------\u001b[0m",
            "\u001b[1;31mNameError\u001b[0m                                 Traceback (most recent call last)",
            "\u001b[1;32mC:\\Users\\Public\\Documents\\Wondershare\\CreatorTemp/ipykernel_18132/1025385047.py\u001b[0m in \u001b[0;36m<module>\u001b[1;34m\u001b[0m\n\u001b[0;32m     47\u001b[0m \u001b[1;33m\u001b[0m\u001b[0m\n\u001b[0;32m     48\u001b[0m     \u001b[1;31m#to compute the residual we consider the difference between iterations of the algorithm\u001b[0m\u001b[1;33m\u001b[0m\u001b[1;33m\u001b[0m\u001b[0m\n\u001b[1;32m---> 49\u001b[1;33m     \u001b[0merror\u001b[0m\u001b[1;33m=\u001b[0m\u001b[0mnp\u001b[0m\u001b[1;33m.\u001b[0m\u001b[0mmax\u001b[0m\u001b[1;33m(\u001b[0m \u001b[1;33m[\u001b[0m\u001b[0mnp\u001b[0m\u001b[1;33m.\u001b[0m\u001b[0mabs\u001b[0m\u001b[1;33m(\u001b[0m\u001b[0mFD_sol\u001b[0m\u001b[1;33m[\u001b[0m\u001b[1;36m2\u001b[0m\u001b[1;33m*\u001b[0m\u001b[0mj\u001b[0m\u001b[1;33m]\u001b[0m\u001b[1;33m-\u001b[0m\u001b[0mFD_sol_old\u001b[0m\u001b[1;33m[\u001b[0m\u001b[0mj\u001b[0m\u001b[1;33m]\u001b[0m\u001b[1;33m)\u001b[0m \u001b[1;32mfor\u001b[0m \u001b[0mj\u001b[0m \u001b[1;32min\u001b[0m \u001b[0mrange\u001b[0m\u001b[1;33m(\u001b[0m\u001b[0mint\u001b[0m\u001b[1;33m(\u001b[0m\u001b[0mN\u001b[0m\u001b[1;33m/\u001b[0m\u001b[1;36m2\u001b[0m\u001b[1;33m)\u001b[0m\u001b[1;33m)\u001b[0m\u001b[1;33m]\u001b[0m\u001b[1;33m)\u001b[0m\u001b[1;33m\u001b[0m\u001b[1;33m\u001b[0m\u001b[0m\n\u001b[0m\u001b[0;32m     50\u001b[0m     \u001b[0merrors\u001b[0m\u001b[1;33m.\u001b[0m\u001b[0mappend\u001b[0m\u001b[1;33m(\u001b[0m\u001b[0merror\u001b[0m\u001b[1;33m)\u001b[0m\u001b[1;33m\u001b[0m\u001b[1;33m\u001b[0m\u001b[0m\n\u001b[0;32m     51\u001b[0m     \u001b[0mFD_sol_old\u001b[0m\u001b[1;33m=\u001b[0m\u001b[0mFD_sol\u001b[0m\u001b[1;33m\u001b[0m\u001b[1;33m\u001b[0m\u001b[0m\n",
            "\u001b[1;32mC:\\Users\\Public\\Documents\\Wondershare\\CreatorTemp/ipykernel_18132/1025385047.py\u001b[0m in \u001b[0;36m<listcomp>\u001b[1;34m(.0)\u001b[0m\n\u001b[0;32m     47\u001b[0m \u001b[1;33m\u001b[0m\u001b[0m\n\u001b[0;32m     48\u001b[0m     \u001b[1;31m#to compute the residual we consider the difference between iterations of the algorithm\u001b[0m\u001b[1;33m\u001b[0m\u001b[1;33m\u001b[0m\u001b[0m\n\u001b[1;32m---> 49\u001b[1;33m     \u001b[0merror\u001b[0m\u001b[1;33m=\u001b[0m\u001b[0mnp\u001b[0m\u001b[1;33m.\u001b[0m\u001b[0mmax\u001b[0m\u001b[1;33m(\u001b[0m \u001b[1;33m[\u001b[0m\u001b[0mnp\u001b[0m\u001b[1;33m.\u001b[0m\u001b[0mabs\u001b[0m\u001b[1;33m(\u001b[0m\u001b[0mFD_sol\u001b[0m\u001b[1;33m[\u001b[0m\u001b[1;36m2\u001b[0m\u001b[1;33m*\u001b[0m\u001b[0mj\u001b[0m\u001b[1;33m]\u001b[0m\u001b[1;33m-\u001b[0m\u001b[0mFD_sol_old\u001b[0m\u001b[1;33m[\u001b[0m\u001b[0mj\u001b[0m\u001b[1;33m]\u001b[0m\u001b[1;33m)\u001b[0m \u001b[1;32mfor\u001b[0m \u001b[0mj\u001b[0m \u001b[1;32min\u001b[0m \u001b[0mrange\u001b[0m\u001b[1;33m(\u001b[0m\u001b[0mint\u001b[0m\u001b[1;33m(\u001b[0m\u001b[0mN\u001b[0m\u001b[1;33m/\u001b[0m\u001b[1;36m2\u001b[0m\u001b[1;33m)\u001b[0m\u001b[1;33m)\u001b[0m\u001b[1;33m]\u001b[0m\u001b[1;33m)\u001b[0m\u001b[1;33m\u001b[0m\u001b[1;33m\u001b[0m\u001b[0m\n\u001b[0m\u001b[0;32m     50\u001b[0m     \u001b[0merrors\u001b[0m\u001b[1;33m.\u001b[0m\u001b[0mappend\u001b[0m\u001b[1;33m(\u001b[0m\u001b[0merror\u001b[0m\u001b[1;33m)\u001b[0m\u001b[1;33m\u001b[0m\u001b[1;33m\u001b[0m\u001b[0m\n\u001b[0;32m     51\u001b[0m     \u001b[0mFD_sol_old\u001b[0m\u001b[1;33m=\u001b[0m\u001b[0mFD_sol\u001b[0m\u001b[1;33m\u001b[0m\u001b[1;33m\u001b[0m\u001b[0m\n",
            "\u001b[1;31mNameError\u001b[0m: name 'FD_sol_old' is not defined"
          ]
        }
      ],
      "source": [
        "#definition of the data\n",
        "alpha=2\n",
        "beta=5\n",
        "gamma=1\n",
        "#problem domain\n",
        "a=0\n",
        "b=np.pi/2\n",
        "\n",
        "#Boundary condition\n",
        "u_a=1\n",
        "u_b=1\n",
        "\n",
        "Nvals=[]\n",
        "errors=[]\n",
        "times=[]\n",
        "for i in range(2,10):\n",
        "    # Size of grid\n",
        "    N=2**i\n",
        "    Nvals.append(N)\n",
        "    h = (b-a)/N\n",
        "    # Grid\n",
        "    x = np.linspace(a,b,N+1)\n",
        "\n",
        "    # CD matrix for second derivative\n",
        "    A = (1/h**2)*CD2(N)   \n",
        "\n",
        "    # CD matrix for first derivative\n",
        "    B=forward_difference(a,b,N)\n",
        "\n",
        "    #matrix for the problem\n",
        "    M=-alpha*A+beta*B+gamma*np.eye(N+1)\n",
        "\n",
        "    #Right hand side\n",
        "    F=np.zeros(N+1)\n",
        "    F[0]=u_a\n",
        "    F[-1]=u_b\n",
        "    # NON Homogeneous Dirichlet boundary conditions in a and in b\n",
        "    M[0,0]= 1\n",
        "    M[0,1]=0\n",
        "    M[-1,-1]=1\n",
        "    M[-1,-2]=0\n",
        "\n",
        "    # Compute solution at internal nodes\n",
        "    FD_sol = spsolve(M,F)\n",
        "    if i==3:\n",
        "        FD_sol_old=np.zeros_like(FD_sol)\n",
        "\n",
        "    #to compute the residual we consider the difference between iterations of the algorithm\n",
        "    error=np.max( [np.abs(FD_sol[2*j]-FD_sol_old[j]) for j in range(int(N/2))])\n",
        "    errors.append(error)\n",
        "    FD_sol_old=FD_sol\n",
        "plt.loglog(Nvals,errors)\n",
        "plt.show()\n",
        "plt.plot(x,FD_sol)"
      ]
    },
    {
      "cell_type": "markdown",
      "metadata": {
        "id": "V7wJbF9dcdqr"
      },
      "source": [
        "**Exersie 6.** Consider again the problem from Exercise 4.\n",
        "\n",
        "Fix $a=0$, $b=1$, $u_a=1$, $u_b=0$ $f=0$.\n",
        "\n",
        "Try first with $\\alpha=\\beta=\\gamma=1$ and plot the solution.\n",
        "\n",
        "Next, try with $\\alpha=0.01$, and $\\beta=1$, $\\gamma=0$. What happens? Can you explain?"
      ]
    },
    {
      "cell_type": "code",
      "execution_count": 32,
      "metadata": {},
      "outputs": [
        {
          "name": "stderr",
          "output_type": "stream",
          "text": [
            "C:\\Users\\lollopc\\AppData\\Local\\Packages\\PythonSoftwareFoundation.Python.3.9_qbz5n2kfra8p0\\LocalCache\\local-packages\\Python39\\site-packages\\scipy\\sparse\\linalg\\dsolve\\linsolve.py:144: SparseEfficiencyWarning: spsolve requires A be CSC or CSR matrix format\n",
            "  warn('spsolve requires A be CSC or CSR matrix format',\n"
          ]
        },
        {
          "data": {
            "image/png": "[encoded data removed]",
            "text/plain": [
              "<Figure size 432x288 with 1 Axes>"
            ]
          },
          "metadata": {
            "needs_background": "light"
          },
          "output_type": "display_data"
        },
        {
          "data": {
            "text/plain": [
              "[<matplotlib.lines.Line2D at 0x21325d0d790>]"
            ]
          },
          "execution_count": 32,
          "metadata": {},
          "output_type": "execute_result"
        },
        {
          "data": {
            "image/png": "[encoded data removed]",
            "text/plain": [
              "<Figure size 432x288 with 1 Axes>"
            ]
          },
          "metadata": {
            "needs_background": "light"
          },
          "output_type": "display_data"
        }
      ],
      "source": [
        "#Definition of the data\n",
        "alpha=1\n",
        "beta=1\n",
        "gamma=1\n",
        "#problem domain\n",
        "a=0\n",
        "b=1\n",
        "\n",
        "#Boundary condition\n",
        "u_a=1\n",
        "u_b=0\n",
        "\n",
        "Nvals=[]\n",
        "errors=[]\n",
        "times=[]\n",
        "FD_sol_old=np.zeros(40)\n",
        "for i in range(4,14):\n",
        "    # Size of grid\n",
        "    N=6*i\n",
        "    Nvals.append(N)\n",
        "    h = (b-a)/N\n",
        "    # Grid\n",
        "    x = np.linspace(a,b,N+1)\n",
        "\n",
        "    # CD matrix for second derivative\n",
        "    A = (1/h**2)*CD2(N)   \n",
        "\n",
        "    # CD matrix for first derivative\n",
        "    B=forward_difference(a,b,N)\n",
        "\n",
        "    #matrix for the problem\n",
        "    M=-alpha*A+beta*B+gamma*np.eye(N+1)\n",
        "\n",
        "    #Right hand side\n",
        "    F=np.zeros(N+1)\n",
        "    F[0]=u_a\n",
        "    F[-1]=u_b\n",
        "    # NON Homogeneous Dirichlet boundary conditions in a and in b\n",
        "    M[0,0]= 1\n",
        "    M[0,1]=0\n",
        "    M[-1,-1]=1\n",
        "    M[-1,-2]=0\n",
        "\n",
        "    # Compute solution at internal nodes\n",
        "    FD_sol = spsolve(M,F)\n",
        "    if i==3:\n",
        "        FD_sol_old=np.zeros_like(FD_sol)\n",
        "\n",
        "    #to compute the residual we consider the difference between iterations of the algorithm\n",
        "    error=np.max( [np.abs(FD_sol[2*j]-FD_sol_old[j]) for j in range(int(N/2))])\n",
        "    errors.append(error)\n",
        "    FD_sol_old=FD_sol\n",
        "   \n",
        "plt.loglog(Nvals,errors)\n",
        "plt.show()\n",
        "plt.plot(x,FD_sol)"
      ]
    },
    {
      "cell_type": "code",
      "execution_count": 34,
      "metadata": {},
      "outputs": [
        {
          "name": "stdout",
          "output_type": "stream",
          "text": [
            "N= 30 \n",
            "\n",
            "h^2= 0.0011111111111111111 \n",
            "\n",
            "M= [[-12.  21.   0.   0.   0.   0.   0.   0.   0.   0.   0.   0.   0.   0.\n",
            "    0.   0.   0.   0.   0.   0.   0.   0.   0.   0.   0.   0.   0.   0.\n",
            "    0.   0.   0.]\n",
            " [ -9. -12.  21.   0.   0.   0.   0.   0.   0.   0.   0.   0.   0.   0.\n",
            "    0.   0.   0.   0.   0.   0.   0.   0.   0.   0.   0.   0.   0.   0.\n",
            "    0.   0.   0.]\n",
            " [  0.  -9. -12.  21.   0.   0.   0.   0.   0.   0.   0.   0.   0.   0.\n",
            "    0.   0.   0.   0.   0.   0.   0.   0.   0.   0.   0.   0.   0.   0.\n",
            "    0.   0.   0.]\n",
            " [  0.   0.  -9. -12.  21.   0.   0.   0.   0.   0.   0.   0.   0.   0.\n",
            "    0.   0.   0.   0.   0.   0.   0.   0.   0.   0.   0.   0.   0.   0.\n",
            "    0.   0.   0.]\n",
            " [  0.   0.   0.  -9. -12.  21.   0.   0.   0.   0.   0.   0.   0.   0.\n",
            "    0.   0.   0.   0.   0.   0.   0.   0.   0.   0.   0.   0.   0.   0.\n",
            "    0.   0.   0.]\n",
            " [  0.   0.   0.   0.  -9. -12.  21.   0.   0.   0.   0.   0.   0.   0.\n",
            "    0.   0.   0.   0.   0.   0.   0.   0.   0.   0.   0.   0.   0.   0.\n",
            "    0.   0.   0.]\n",
            " [  0.   0.   0.   0.   0.  -9. -12.  21.   0.   0.   0.   0.   0.   0.\n",
            "    0.   0.   0.   0.   0.   0.   0.   0.   0.   0.   0.   0.   0.   0.\n",
            "    0.   0.   0.]\n",
            " [  0.   0.   0.   0.   0.   0.  -9. -12.  21.   0.   0.   0.   0.   0.\n",
            "    0.   0.   0.   0.   0.   0.   0.   0.   0.   0.   0.   0.   0.   0.\n",
            "    0.   0.   0.]\n",
            " [  0.   0.   0.   0.   0.   0.   0.  -9. -12.  21.   0.   0.   0.   0.\n",
            "    0.   0.   0.   0.   0.   0.   0.   0.   0.   0.   0.   0.   0.   0.\n",
            "    0.   0.   0.]\n",
            " [  0.   0.   0.   0.   0.   0.   0.   0.  -9. -12.  21.   0.   0.   0.\n",
            "    0.   0.   0.   0.   0.   0.   0.   0.   0.   0.   0.   0.   0.   0.\n",
            "    0.   0.   0.]\n",
            " [  0.   0.   0.   0.   0.   0.   0.   0.   0.  -9. -12.  21.   0.   0.\n",
            "    0.   0.   0.   0.   0.   0.   0.   0.   0.   0.   0.   0.   0.   0.\n",
            "    0.   0.   0.]\n",
            " [  0.   0.   0.   0.   0.   0.   0.   0.   0.   0.  -9. -12.  21.   0.\n",
            "    0.   0.   0.   0.   0.   0.   0.   0.   0.   0.   0.   0.   0.   0.\n",
            "    0.   0.   0.]\n",
            " [  0.   0.   0.   0.   0.   0.   0.   0.   0.   0.   0.  -9. -12.  21.\n",
            "    0.   0.   0.   0.   0.   0.   0.   0.   0.   0.   0.   0.   0.   0.\n",
            "    0.   0.   0.]\n",
            " [  0.   0.   0.   0.   0.   0.   0.   0.   0.   0.   0.   0.  -9. -12.\n",
            "   21.   0.   0.   0.   0.   0.   0.   0.   0.   0.   0.   0.   0.   0.\n",
            "    0.   0.   0.]\n",
            " [  0.   0.   0.   0.   0.   0.   0.   0.   0.   0.   0.   0.   0.  -9.\n",
            "  -12.  21.   0.   0.   0.   0.   0.   0.   0.   0.   0.   0.   0.   0.\n",
            "    0.   0.   0.]\n",
            " [  0.   0.   0.   0.   0.   0.   0.   0.   0.   0.   0.   0.   0.   0.\n",
            "   -9. -12.  21.   0.   0.   0.   0.   0.   0.   0.   0.   0.   0.   0.\n",
            "    0.   0.   0.]\n",
            " [  0.   0.   0.   0.   0.   0.   0.   0.   0.   0.   0.   0.   0.   0.\n",
            "    0.  -9. -12.  21.   0.   0.   0.   0.   0.   0.   0.   0.   0.   0.\n",
            "    0.   0.   0.]\n",
            " [  0.   0.   0.   0.   0.   0.   0.   0.   0.   0.   0.   0.   0.   0.\n",
            "    0.   0.  -9. -12.  21.   0.   0.   0.   0.   0.   0.   0.   0.   0.\n",
            "    0.   0.   0.]\n",
            " [  0.   0.   0.   0.   0.   0.   0.   0.   0.   0.   0.   0.   0.   0.\n",
            "    0.   0.   0.  -9. -12.  21.   0.   0.   0.   0.   0.   0.   0.   0.\n",
            "    0.   0.   0.]\n",
            " [  0.   0.   0.   0.   0.   0.   0.   0.   0.   0.   0.   0.   0.   0.\n",
            "    0.   0.   0.   0.  -9. -12.  21.   0.   0.   0.   0.   0.   0.   0.\n",
            "    0.   0.   0.]\n",
            " [  0.   0.   0.   0.   0.   0.   0.   0.   0.   0.   0.   0.   0.   0.\n",
            "    0.   0.   0.   0.   0.  -9. -12.  21.   0.   0.   0.   0.   0.   0.\n",
            "    0.   0.   0.]\n",
            " [  0.   0.   0.   0.   0.   0.   0.   0.   0.   0.   0.   0.   0.   0.\n",
            "    0.   0.   0.   0.   0.   0.  -9. -12.  21.   0.   0.   0.   0.   0.\n",
            "    0.   0.   0.]\n",
            " [  0.   0.   0.   0.   0.   0.   0.   0.   0.   0.   0.   0.   0.   0.\n",
            "    0.   0.   0.   0.   0.   0.   0.  -9. -12.  21.   0.   0.   0.   0.\n",
            "    0.   0.   0.]\n",
            " [  0.   0.   0.   0.   0.   0.   0.   0.   0.   0.   0.   0.   0.   0.\n",
            "    0.   0.   0.   0.   0.   0.   0.   0.  -9. -12.  21.   0.   0.   0.\n",
            "    0.   0.   0.]\n",
            " [  0.   0.   0.   0.   0.   0.   0.   0.   0.   0.   0.   0.   0.   0.\n",
            "    0.   0.   0.   0.   0.   0.   0.   0.   0.  -9. -12.  21.   0.   0.\n",
            "    0.   0.   0.]\n",
            " [  0.   0.   0.   0.   0.   0.   0.   0.   0.   0.   0.   0.   0.   0.\n",
            "    0.   0.   0.   0.   0.   0.   0.   0.   0.   0.  -9. -12.  21.   0.\n",
            "    0.   0.   0.]\n",
            " [  0.   0.   0.   0.   0.   0.   0.   0.   0.   0.   0.   0.   0.   0.\n",
            "    0.   0.   0.   0.   0.   0.   0.   0.   0.   0.   0.  -9. -12.  21.\n",
            "    0.   0.   0.]\n",
            " [  0.   0.   0.   0.   0.   0.   0.   0.   0.   0.   0.   0.   0.   0.\n",
            "    0.   0.   0.   0.   0.   0.   0.   0.   0.   0.   0.   0.  -9. -12.\n",
            "   21.   0.   0.]\n",
            " [  0.   0.   0.   0.   0.   0.   0.   0.   0.   0.   0.   0.   0.   0.\n",
            "    0.   0.   0.   0.   0.   0.   0.   0.   0.   0.   0.   0.   0.  -9.\n",
            "  -12.  21.   0.]\n",
            " [  0.   0.   0.   0.   0.   0.   0.   0.   0.   0.   0.   0.   0.   0.\n",
            "    0.   0.   0.   0.   0.   0.   0.   0.   0.   0.   0.   0.   0.   0.\n",
            "   -9. -12.  21.]\n",
            " [  0.   0.   0.   0.   0.   0.   0.   0.   0.   0.   0.   0.   0.   0.\n",
            "    0.   0.   0.   0.   0.   0.   0.   0.   0.   0.   0.   0.   0.   0.\n",
            "    0.  -9. -12.]] \n",
            "\n"
          ]
        },
        {
          "name": "stderr",
          "output_type": "stream",
          "text": [
            "C:\\Users\\lollopc\\AppData\\Local\\Packages\\PythonSoftwareFoundation.Python.3.9_qbz5n2kfra8p0\\LocalCache\\local-packages\\Python39\\site-packages\\scipy\\sparse\\linalg\\dsolve\\linsolve.py:144: SparseEfficiencyWarning: spsolve requires A be CSC or CSR matrix format\n",
            "  warn('spsolve requires A be CSC or CSR matrix format',\n"
          ]
        },
        {
          "data": {
            "image/png": "[encoded data removed]",
            "text/plain": [
              "<Figure size 432x288 with 1 Axes>"
            ]
          },
          "metadata": {
            "needs_background": "light"
          },
          "output_type": "display_data"
        },
        {
          "name": "stdout",
          "output_type": "stream",
          "text": [
            "N= 40 \n",
            "\n",
            "h^2= 0.0006250000000000001 \n",
            "\n",
            "M= [[ -8.  24.   0. ...   0.   0.   0.]\n",
            " [-16.  -8.  24. ...   0.   0.   0.]\n",
            " [  0. -16.  -8. ...   0.   0.   0.]\n",
            " ...\n",
            " [  0.   0.   0. ...  -8.  24.   0.]\n",
            " [  0.   0.   0. ... -16.  -8.  24.]\n",
            " [  0.   0.   0. ...   0. -16.  -8.]] \n",
            "\n"
          ]
        },
        {
          "name": "stderr",
          "output_type": "stream",
          "text": [
            "C:\\Users\\lollopc\\AppData\\Local\\Packages\\PythonSoftwareFoundation.Python.3.9_qbz5n2kfra8p0\\LocalCache\\local-packages\\Python39\\site-packages\\scipy\\sparse\\linalg\\dsolve\\linsolve.py:144: SparseEfficiencyWarning: spsolve requires A be CSC or CSR matrix format\n",
            "  warn('spsolve requires A be CSC or CSR matrix format',\n"
          ]
        },
        {
          "data": {
            "image/png": "[encoded data removed]",
            "text/plain": [
              "<Figure size 432x288 with 1 Axes>"
            ]
          },
          "metadata": {
            "needs_background": "light"
          },
          "output_type": "display_data"
        },
        {
          "name": "stdout",
          "output_type": "stream",
          "text": [
            "N= 50 \n",
            "\n",
            "h^2= 0.0004 \n",
            "\n",
            "M= [[  0.  25.   0. ...   0.   0.   0.]\n",
            " [-25.   0.  25. ...   0.   0.   0.]\n",
            " [  0. -25.   0. ...   0.   0.   0.]\n",
            " ...\n",
            " [  0.   0.   0. ...   0.  25.   0.]\n",
            " [  0.   0.   0. ... -25.   0.  25.]\n",
            " [  0.   0.   0. ...   0. -25.   0.]] \n",
            "\n"
          ]
        },
        {
          "name": "stderr",
          "output_type": "stream",
          "text": [
            "C:\\Users\\lollopc\\AppData\\Local\\Packages\\PythonSoftwareFoundation.Python.3.9_qbz5n2kfra8p0\\LocalCache\\local-packages\\Python39\\site-packages\\scipy\\sparse\\linalg\\dsolve\\linsolve.py:144: SparseEfficiencyWarning: spsolve requires A be CSC or CSR matrix format\n",
            "  warn('spsolve requires A be CSC or CSR matrix format',\n",
            "C:\\Users\\lollopc\\AppData\\Local\\Packages\\PythonSoftwareFoundation.Python.3.9_qbz5n2kfra8p0\\LocalCache\\local-packages\\Python39\\site-packages\\scipy\\sparse\\linalg\\dsolve\\linsolve.py:206: MatrixRankWarning: Matrix is exactly singular\n",
            "  warn(\"Matrix is exactly singular\", MatrixRankWarning)\n"
          ]
        },
        {
          "data": {
            "image/png": "[encoded data removed]",
            "text/plain": [
              "<Figure size 432x288 with 1 Axes>"
            ]
          },
          "metadata": {
            "needs_background": "light"
          },
          "output_type": "display_data"
        },
        {
          "name": "stdout",
          "output_type": "stream",
          "text": [
            "N= 60 \n",
            "\n",
            "h^2= 0.0002777777777777778 \n",
            "\n",
            "M= [[ 12.  24.   0. ...   0.   0.   0.]\n",
            " [-36.  12.  24. ...   0.   0.   0.]\n",
            " [  0. -36.  12. ...   0.   0.   0.]\n",
            " ...\n",
            " [  0.   0.   0. ...  12.  24.   0.]\n",
            " [  0.   0.   0. ... -36.  12.  24.]\n",
            " [  0.   0.   0. ...   0. -36.  12.]] \n",
            "\n"
          ]
        },
        {
          "name": "stderr",
          "output_type": "stream",
          "text": [
            "C:\\Users\\lollopc\\AppData\\Local\\Packages\\PythonSoftwareFoundation.Python.3.9_qbz5n2kfra8p0\\LocalCache\\local-packages\\Python39\\site-packages\\scipy\\sparse\\linalg\\dsolve\\linsolve.py:144: SparseEfficiencyWarning: spsolve requires A be CSC or CSR matrix format\n",
            "  warn('spsolve requires A be CSC or CSR matrix format',\n"
          ]
        },
        {
          "data": {
            "image/png": "[encoded data removed]",
            "text/plain": [
              "<Figure size 432x288 with 1 Axes>"
            ]
          },
          "metadata": {
            "needs_background": "light"
          },
          "output_type": "display_data"
        },
        {
          "name": "stdout",
          "output_type": "stream",
          "text": [
            "N= 70 \n",
            "\n",
            "h^2= 0.0002040816326530612 \n",
            "\n",
            "M= [[ 28.  21.   0. ...   0.   0.   0.]\n",
            " [-49.  28.  21. ...   0.   0.   0.]\n",
            " [  0. -49.  28. ...   0.   0.   0.]\n",
            " ...\n",
            " [  0.   0.   0. ...  28.  21.   0.]\n",
            " [  0.   0.   0. ... -49.  28.  21.]\n",
            " [  0.   0.   0. ...   0. -49.  28.]] \n",
            "\n"
          ]
        },
        {
          "name": "stderr",
          "output_type": "stream",
          "text": [
            "C:\\Users\\lollopc\\AppData\\Local\\Packages\\PythonSoftwareFoundation.Python.3.9_qbz5n2kfra8p0\\LocalCache\\local-packages\\Python39\\site-packages\\scipy\\sparse\\linalg\\dsolve\\linsolve.py:144: SparseEfficiencyWarning: spsolve requires A be CSC or CSR matrix format\n",
            "  warn('spsolve requires A be CSC or CSR matrix format',\n"
          ]
        },
        {
          "data": {
            "image/png": "[encoded data removed]",
            "text/plain": [
              "<Figure size 432x288 with 1 Axes>"
            ]
          },
          "metadata": {
            "needs_background": "light"
          },
          "output_type": "display_data"
        }
      ],
      "source": [
        "#Definition of the data\n",
        "alpha=0.01\n",
        "beta=1\n",
        "gamma=0\n",
        "#problem domain\n",
        "a=0\n",
        "b=1\n",
        "\n",
        "#Boundary condition\n",
        "u_a=1\n",
        "u_b=0\n",
        "\n",
        "Nvals=[]\n",
        "errors=[]\n",
        "times=[]\n",
        "#FD_sol_old=np.zeros(100)\n",
        "for i in range(3,8):\n",
        "    # Size of grid\n",
        "    N=10*i\n",
        "    print(\"N=\",N,\"\\n\")\n",
        "    Nvals.append(N)\n",
        "    h = (b-a)/N\n",
        "    print(\"h^2=\",h**2,\"\\n\")\n",
        "    # Grid\n",
        "    x = np.linspace(a,b,N+1)\n",
        "\n",
        "    # CD matrix for second derivative\n",
        "    A = (1/h**2)*CD2(N)   \n",
        "\n",
        "    # CD matrix for first derivative\n",
        "    B=forward_difference(a,b,N)\n",
        "\n",
        "    #matrix for the problem\n",
        "    M=-alpha*A+beta*B+gamma*np.eye(N+1)\n",
        "    print(\"M=\",M,\"\\n\")\n",
        "    #Right hand side\n",
        "    F=np.zeros(N+1)\n",
        "    F[0]=u_a\n",
        "    F[-1]=u_b\n",
        "    # NON Homogeneous Dirichlet boundary conditions in a and in b\n",
        "    M[0,0]= 1\n",
        "    M[0,1]=0\n",
        "    M[-1,-1]=1\n",
        "    M[-1,-2]=0\n",
        "\n",
        "    # Compute solution at internal nodes\n",
        "    FD_sol = spsolve(M,F)\n",
        "        \n",
        "\n",
        "    #to compute the residual we consider the difference between iterations of the algorithm\n",
        "    #error=np.max( [np.abs(FD_sol[2*j]-FD_sol_old[j]) for j in range(int(N/2))])\n",
        "    #errors.append(error)\n",
        "    #FD_sol_old=FD_sol\n",
        "   \n",
        "    plt.plot(x,FD_sol)\n",
        "    plt.show()\n",
        "#plt.loglog(Nvals,errors)\n",
        "#plt.show()\n",
        "#plt.plot(x,FD_sol)"
      ]
    },
    {
      "cell_type": "markdown",
      "metadata": {},
      "source": [
        "A we can see the behavior changes abruptly at $N=50$ this corresponds to a change in the properties of the matrix M. For $N<50$ the diagonal elements are negative, then at $N=50$ it becomes degenerate and for $N>50$ the diagonal elements are positive and the matrix becomes elliptic again"
      ]
    },
    {
      "cell_type": "code",
      "execution_count": null,
      "metadata": {},
      "outputs": [],
      "source": []
    }
  ],
  "metadata": {
    "colab": {
      "authorship_tag": "ABX9TyMB44PUPUfh4syakkIwGftm",
      "include_colab_link": true,
      "name": "C2.ipynb",
      "provenance": []
    },
    "kernelspec": {
      "display_name": "Python 3",
      "name": "python3"
    },
    "language_info": {
      "codemirror_mode": {
        "name": "ipython",
        "version": 3
      },
      "file_extension": ".py",
      "mimetype": "text/x-python",
      "name": "python",
      "nbconvert_exporter": "python",
      "pygments_lexer": "ipython3",
      "version": "3.9.10"
    }
  },
  "nbformat": 4,
  "nbformat_minor": 0
}
