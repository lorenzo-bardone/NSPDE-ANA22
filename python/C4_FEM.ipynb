{
  "nbformat": 4,
  "nbformat_minor": 0,
  "metadata": {
    "colab": {
      "name": "C4-FEM.ipynb",
      "provenance": [],
      "authorship_tag": "ABX9TyPP4HL7a68L/PXe6MS2Tl26",
      "include_colab_link": true
    },
    "kernelspec": {
      "name": "python3",
      "display_name": "Python 3"
    },
    "language_info": {
      "name": "python"
    }
  },
  "cells": [
    {
      "cell_type": "markdown",
      "metadata": {
        "id": "view-in-github",
        "colab_type": "text"
      },
      "source": [
        "<a href=\"https://colab.research.google.com/github/andreacangiani/NSPDE-ANA22/blob/main/python/C4_FEM.ipynb\" target=\"_parent\"><img src=\"https://colab.research.google.com/assets/colab-badge.svg\" alt=\"Open In Colab\"/></a>"
      ]
    },
    {
      "cell_type": "markdown",
      "source": [
        "# Finite Element Method in 1D"
      ],
      "metadata": {
        "id": "zB4VXUN-IBC6"
      }
    },
    {
      "cell_type": "markdown",
      "source": [
        "1. Linear ($k=1$) Finite Element Method solver for the 1D Poisson problem:\n",
        "\n",
        "$-\\Delta u=f \\quad \\text{in } \\Omega=(a,b)$\n",
        "\n",
        "$u|_{\\partial\\Omega}=0$"
      ],
      "metadata": {
        "id": "yuQpsduuIGBS"
      }
    },
    {
      "cell_type": "markdown",
      "source": [
        "Import usual modules"
      ],
      "metadata": {
        "id": "3uZh9S5ZIYZi"
      }
    },
    {
      "cell_type": "code",
      "execution_count": 1,
      "metadata": {
        "id": "7ECrogObH7yZ"
      },
      "outputs": [],
      "source": [
        "import numpy as np\n",
        "import matplotlib.pyplot as plt\n",
        "import scipy.sparse as sp\n",
        "from scipy.sparse.linalg import spsolve\n",
        "from scipy.sparse.linalg import eigsh"
      ]
    },
    {
      "cell_type": "markdown",
      "source": [
        "FEM system assembly with trapezoidal rule for rhs"
      ],
      "metadata": {
        "id": "ZA-GnWjJIj2F"
      }
    },
    {
      "cell_type": "code",
      "source": [
        "def FEM1_1D_TRAP(omega,N,rhs):\n",
        "  # 1D FEM with k=1 system matrix and rhs for\n",
        "  # diffusion problem with homogeneous Dirichlet bc\n",
        "  # trapezoidal rule uniform grid\n",
        "\n",
        "  # grid is defined here as uniform grid\n",
        "  h = (omega[1]-omega[0])/N\n",
        "  vertices = np.linspace(omega[0],omega[1],N+1)\n",
        "\n",
        "  # initialise system\n",
        "  A = sp.lil_matrix((N+1, N+1))\n",
        "  F = np.zeros(N+1)\n",
        "  \n",
        "  # Assembly loop\n",
        "  for i in range(N):\n",
        "    # Local contributions\n",
        "    ele_A = np.matrix([[1/h, -1/h],[-1/h, 1/h]])\n",
        "    ele_F = 0.5 * h * rhs(vertices[i:i+2])\n",
        "\n",
        "    # Assembly local-to-global\n",
        "    A[i:i+2,i:i+2] += ele_A\n",
        "    F[i:i+2] += ele_F\n",
        "\n",
        "  # Apply boundary conditions\n",
        "  A[0,0] = 1/h; A[0,1] = 0; F[0]=0\n",
        "  A[N,N] = 1/h; A[N,N-1] = 0; F[N]=0  \n",
        "\n",
        "  # return system matrix and rhs vector\n",
        "  return A, F"
      ],
      "metadata": {
        "id": "WpXoSBYkIpZv"
      },
      "execution_count": 2,
      "outputs": []
    },
    {
      "cell_type": "markdown",
      "source": [
        "Define FEM problem and solve"
      ],
      "metadata": {
        "id": "Lk6jlfygJX9c"
      }
    },
    {
      "cell_type": "code",
      "source": [
        "\n",
        "omega = [0,np.pi]\n",
        "rhs = lambda x: np.sin(x)\n",
        "exact = lambda x: np.sin(x)\n",
        "\n",
        "N=10; \n",
        "n_qpoints = 3\n",
        "\n",
        "# call function computing FEM system\n",
        "A, F = FEM1_1D_TRAP(omega,N,rhs)\n",
        "\n",
        "# solve\n",
        "A = A.tocsr()\n",
        "Uh = sp.linalg.spsolve(A,F)\n",
        "\n",
        "# Plot solution\n",
        "x = np.linspace(omega[0],omega[1],N+1)\n",
        "plt.plot(x,Uh)\n",
        "\n",
        "# Evaluate exact solution at grid nodes\n",
        "U = exact(x)\n",
        "\n",
        "# compute discrete max norm error \n",
        "print(\"discrete max norm error = \", max(abs(U-Uh)))"
      ],
      "metadata": {
        "id": "Haoo0fWRJbLa",
        "outputId": "c5e832f1-6ce9-4655-e75a-37ca9da4408a",
        "colab": {
          "base_uri": "https://localhost:8080/",
          "height": 284
        }
      },
      "execution_count": 3,
      "outputs": [
        {
          "output_type": "stream",
          "name": "stdout",
          "text": [
            "discrete max norm error =  0.008265416966228623\n"
          ]
        },
        {
          "output_type": "display_data",
          "data": {
            "text/plain": [
              "<Figure size 432x288 with 1 Axes>"
            ],
            "image/png": "[encoded data removed]"
          },
          "metadata": {
            "needs_background": "light"
          }
        }
      ]
    },
    {
      "cell_type": "markdown",
      "source": [
        "2. Repeat exercise but using arbitrary order Gauss integration and possibly nonuniform grid"
      ],
      "metadata": {
        "id": "H4eLL1bxKjxA"
      }
    },
    {
      "cell_type": "code",
      "source": [
        "# Gauss quadrature formula on [0,1]\n",
        "def quadrature(n_quadrature_points):\n",
        "\n",
        "  # exploit numpy Gauss quadrature. This is defined in [-1,1]\n",
        "  q, w = np.polynomial.legendre.leggauss(n_quadrature_points)\n",
        "\n",
        "  return (q+1)/2, w/2"
      ],
      "metadata": {
        "id": "K76sA6orKq44"
      },
      "execution_count": 4,
      "outputs": []
    },
    {
      "cell_type": "markdown",
      "source": [
        "Function defining the mesh"
      ],
      "metadata": {
        "id": "dXYP11H2WI73"
      }
    },
    {
      "cell_type": "code",
      "source": [
        "def mesh(omega,N):\n",
        "  return np.linspace(omega[0],omega[1],N+1)"
      ],
      "metadata": {
        "id": "Lwu1e4TsVyjA"
      },
      "execution_count": 5,
      "outputs": []
    },
    {
      "cell_type": "markdown",
      "source": [
        "Define reference element transformation of coordinates"
      ],
      "metadata": {
        "id": "5ggpOGCCKx0e"
      }
    },
    {
      "cell_type": "code",
      "source": [
        "# Transformation of coordinates functions:\n",
        "# reference element -> current element\n",
        "# [0,1] -> [q[i], q[i+1]]\n",
        "\n",
        "def mapping(q, i):\n",
        "    \n",
        "    # check index is within range\n",
        "    assert i < len(q)-1\n",
        "    assert i >= 0\n",
        "\n",
        "    return lambda x: q[i]+x*(q[i+1]-q[i])\n",
        "\n",
        "def mapping_J(q,i):\n",
        "    assert i < len(q)-1\n",
        "    assert i >= 0\n",
        "    return (q[i+1]-q[i])\n",
        "\n",
        "# Linear lagrange basis on reference element\n",
        "def basis1(i):\n",
        "    assert i < 2\n",
        "    assert i >= 0\n",
        "    if i == 0:\n",
        "      phi = lambda x: 1-x\n",
        "    else:\n",
        "      phi = lambda x: x\n",
        "    return phi\n",
        "\n",
        "# Linear lagrange basis derivatives on reference element\n",
        "def basis1_derivative(i):\n",
        "    assert i < 2\n",
        "    assert i >= 0\n",
        "    if i == 0:\n",
        "      dphi = lambda x: -np.ones(len(x))\n",
        "    else:\n",
        "      dphi = lambda x: np.ones(len(x))\n",
        "    return dphi"
      ],
      "metadata": {
        "id": "EbTQ7oWvKw4O"
      },
      "execution_count": 6,
      "outputs": []
    },
    {
      "cell_type": "markdown",
      "source": [
        "FEM system assembly with Gauss integration\n",
        "\n"
      ],
      "metadata": {
        "id": "HYYC2YknLOxP"
      }
    },
    {
      "cell_type": "code",
      "source": [
        "def FEM1_1D_GAUSS(omega,N,n_qpoints,rhs):\n",
        "  # 1D FEM with k=1 system matrix and rhs\n",
        "\n",
        "  # grid\n",
        "  vertices = mesh(omega,N)\n",
        "\n",
        "  # quadrature formula on reference element\n",
        "  q, w = quadrature(n_qpoints)\n",
        "\n",
        "  # Evaluation of linear Lagrange basis \n",
        "  phi = np.array([basis1(i)(q) for i in range(2)]).T\n",
        "  dphi = np.array([basis1_derivative(i)(q) for i in range(2)]).T\n",
        "\n",
        "  # initialise system\n",
        "  A = sp.lil_matrix((N+1, N+1))\n",
        "  F = np.zeros(N+1)\n",
        "\n",
        "  # Assembly loop\n",
        "  for i in range(N):\n",
        "    JxW = mapping_J(vertices,i) * w\n",
        "    ele_A = np.einsum('qi,qj,q',dphi,dphi,JxW) / mapping_J(vertices,i)**2#h**2\n",
        "    ele_F = np.einsum('qi,q,q',phi,rhs(mapping(vertices, i)(q)),JxW)\n",
        "\n",
        "    # Assembly local-to-global\n",
        "    A[i:i+2,i:i+2] += ele_A\n",
        "    F[i:i+2] += ele_F\n",
        "\n",
        "  # return system matrix and rhs vector\n",
        "  return A, F"
      ],
      "metadata": {
        "id": "-wIMV3GKLKUa"
      },
      "execution_count": 7,
      "outputs": []
    },
    {
      "cell_type": "markdown",
      "source": [
        "Function implementing the boundary (nonhomogeneous) Dirichlet conditions"
      ],
      "metadata": {
        "id": "3M2vdz58L3ws"
      }
    },
    {
      "cell_type": "code",
      "source": [
        "def apply_boundary_conditions(omega,N, A, F, g):\n",
        "  # Ideally should scale entries as those of A\n",
        "  A[0,0] = 1; A[0,1] = 0; F[0]=g(omega[0])\n",
        "  A[N,N] = 1; A[N,N-1] = 0; F[N]=g(omega[1])"
      ],
      "metadata": {
        "id": "S4MWcm1wMIgr"
      },
      "execution_count": 8,
      "outputs": []
    },
    {
      "cell_type": "markdown",
      "source": [
        "Define FEM problem and solve"
      ],
      "metadata": {
        "id": "DBzkZQxjMcQb"
      }
    },
    {
      "cell_type": "code",
      "source": [
        "omega = [0,1]\n",
        "rhs = lambda x: np.sin(x)\n",
        "sol = lambda x: np.sin(x)\n",
        "\n",
        "N = 10\n",
        "n_qpoints = 3\n",
        "\n",
        "# call function computing FEM system\n",
        "A, F = FEM1_1D_GAUSS(omega,N,n_qpoints,rhs)\n",
        "# and apply boundary conditions\n",
        "apply_boundary_conditions(omega,N, A, F, sol)\n",
        "\n",
        "# solve\n",
        "A = A.tocsr()\n",
        "Uh = sp.linalg.spsolve(A,F)\n",
        "\n",
        "# Evaluate exact solution at grid nodes\n",
        "x = np.linspace(omega[0],omega[1],N+1)\n",
        "U = sol(x)\n",
        "\n",
        "# Compute error\n",
        "print(\"discrete max norm error = \", max(abs(U-Uh)))"
      ],
      "metadata": {
        "id": "OAlSKDRFMX_g",
        "colab": {
          "base_uri": "https://localhost:8080/"
        },
        "outputId": "f94408a3-f123-4742-be3c-6a3339d13711"
      },
      "execution_count": 9,
      "outputs": [
        {
          "output_type": "stream",
          "name": "stdout",
          "text": [
            "discrete max norm error =  1.4876988529977098e-13\n"
          ]
        }
      ]
    },
    {
      "cell_type": "markdown",
      "source": [
        "**Exercise 1**: Produce convergence plot for: \n",
        "(1) discrete max norm\n",
        "(2) $\\| I_h u - u_h \\|_{H^1(a,b)}$ where $I_h$ is the finite element interpolant of the exact solution $u$. \n",
        "\n",
        "Finally, plot conditioning of the FEM system wrt $N$ and verify that this grows like $N^2$."
      ],
      "metadata": {
        "id": "_j4PhHQevJnm"
      }
    },
    {
      "cell_type": "code",
      "source": [
        "# Problem\n",
        "omega = [0,1]\n",
        "rhs = lambda x: np.sin(x)\n",
        "sol = lambda x: np.sin(x)\n",
        "\n",
        "# Number of quadrature points\n",
        "n_qpoints = 1\n",
        "\n",
        "# Number of experiments\n",
        "no_experiments = 9\n",
        "\n",
        "# Initialize \n",
        "NN = np.zeros(no_experiments)\n",
        "discrete_max_err = np.zeros(no_experiments)\n",
        "interpola_H1_err = np.zeros(no_experiments)\n",
        "conditioning = np.zeros(no_experiments)\n",
        "\n",
        "# Solution loop\n",
        "for i in range(no_experiments):\n",
        "  N = 2**(i+2)\n",
        "  NN[i] = N\n",
        "\n",
        "  # call function computing FEM system\n",
        "  A, F = FEM1_1D_GAUSS(omega,N,n_qpoints,rhs)\n",
        "\n",
        "  # Save matrix A \n",
        "  S = A\n",
        "\n",
        "  # and apply boundary conditions\n",
        "  apply_boundary_conditions(omega,N, A, F, sol)\n",
        "\n",
        "  # Compute condition number of A\n",
        "  conditioning[i] = np.linalg.cond(A.todense(),p=2)\n",
        "\n",
        "  # Solve the system\n",
        "  A = A.tocsr()\n",
        "  Uh = sp.linalg.spsolve(A,F)\n",
        "\n",
        "  # Compute exact solution\n",
        "  x = np.linspace(omega[0],omega[1],N+1)\n",
        "  U = sol(x)\n",
        "\n",
        "  # Compute discrete max norm error\n",
        "  discrete_max_err[i] = max(abs(U-Uh))\n",
        "  interpola_H1_err[i] = (U-Uh).dot(S.dot(U-Uh))\n"
      ],
      "metadata": {
        "id": "a4KjSkFfyQdG"
      },
      "execution_count": 11,
      "outputs": []
    },
    {
      "cell_type": "markdown",
      "source": [
        "Plot results"
      ],
      "metadata": {
        "id": "97tIXf7A7tPp"
      }
    },
    {
      "cell_type": "code",
      "source": [
        "# Error loglog plots\n",
        "plt.loglog(NN,discrete_max_err,'o-')\n",
        "plt.loglog(NN,interpola_H1_err**(1/2),'bd-')\n",
        "plt.loglog(NN,NN**(-2),'r')"
      ],
      "metadata": {
        "id": "Sl-ds94C7sqe",
        "outputId": "a4079eaa-90f3-4bf8-b186-e490b8ce03ed",
        "colab": {
          "base_uri": "https://localhost:8080/",
          "height": 290
        }
      },
      "execution_count": 12,
      "outputs": [
        {
          "output_type": "execute_result",
          "data": {
            "text/plain": [
              "[<matplotlib.lines.Line2D at 0x7fe2b1a91610>]"
            ]
          },
          "metadata": {},
          "execution_count": 12
        },
        {
          "output_type": "display_data",
          "data": {
            "text/plain": [
              "<Figure size 432x288 with 1 Axes>"
            ],
            "image/png": "[encoded data removed]"
          },
          "metadata": {
            "needs_background": "light"
          }
        }
      ]
    },
    {
      "cell_type": "code",
      "source": [
        "# Condition number plot\n",
        "plt.loglog(NN,conditioning,'o-')\n",
        "plt.loglog(NN,NN**(2),'r')"
      ],
      "metadata": {
        "id": "dSD-C0rV77jE",
        "outputId": "96959bac-3567-4d92-9f68-16cfd12949ba",
        "colab": {
          "base_uri": "https://localhost:8080/",
          "height": 288
        }
      },
      "execution_count": 13,
      "outputs": [
        {
          "output_type": "execute_result",
          "data": {
            "text/plain": [
              "[<matplotlib.lines.Line2D at 0x7fe2ac92a0d0>]"
            ]
          },
          "metadata": {},
          "execution_count": 13
        },
        {
          "output_type": "display_data",
          "data": {
            "text/plain": [
              "<Figure size 432x288 with 1 Axes>"
            ],
            "image/png": "[encoded data removed]"
          },
          "metadata": {
            "needs_background": "light"
          }
        }
      ]
    },
    {
      "cell_type": "markdown",
      "source": [
        "Function computing $H^1$-norm error"
      ],
      "metadata": {
        "id": "ATHWTUKJSNP6"
      }
    },
    {
      "cell_type": "code",
      "source": [
        "def FEM1_H1(omega,N,n_qpoints,Uh,dsol):\n",
        "  # H1 error\n",
        "\n",
        "  # grid\n",
        "  vertices = np.linspace(omega[0],omega[1],N+1)\n",
        "\n",
        "  # quadrature formula on reference element\n",
        "  q, w = quadrature(n_qpoints)\n",
        "\n",
        "  # Evaluation of linear Lagrange basis \n",
        "  dphi = np.array([basis1_derivative(i)(q) for i in range(2)]).T\n",
        "\n",
        "  # initialise value of norm of error\n",
        "  error = 0\n",
        "\n",
        "  # Assembly error\n",
        "  for i in range(N):\n",
        "    JxW = mapping_J(vertices,i) * w\n",
        "    DUUh2 = ( dsol(mapping(vertices,i)(q)) - np.einsum('q,iq',Uh[i:i+2],dphi/mapping_J(vertices,i)))**2 \n",
        "    error += DUUh2.dot(JxW)\n",
        "\n",
        "  # Return error\n",
        "  return error"
      ],
      "metadata": {
        "id": "5ij1-L_NSZaV"
      },
      "execution_count": 14,
      "outputs": []
    },
    {
      "cell_type": "markdown",
      "source": [
        "Test convergence this time for $\\| u - u_h \\|_{H^1(a,b)}$"
      ],
      "metadata": {
        "id": "H2OrEhYlxkj2"
      }
    },
    {
      "cell_type": "code",
      "source": [
        "import sympy as sym"
      ],
      "metadata": {
        "id": "Szdki1W3VJ28"
      },
      "execution_count": 15,
      "outputs": []
    },
    {
      "cell_type": "code",
      "source": [
        "omega = [0,1]\n",
        "rhs = lambda x: np.sin(x)\n",
        "\n",
        "t = sym.var('t')\n",
        "my_sol = sym.sin(t)\n",
        "sol = sym.lambdify(t, my_sol )\n",
        "d_sol = sym.lambdify(t, my_sol.diff(t, 1) )\n",
        "\n",
        "# Number of experiments\n",
        "no_experiments = 7\n",
        "\n",
        "# Initialize \n",
        "NN = np.zeros(no_experiments)\n",
        "true_H1_err = np.zeros(no_experiments)\n",
        "\n",
        "n_qpoints = 5\n",
        "\n",
        "for i in range(no_experiments):\n",
        "  N = 2**(i+2)\n",
        "  NN[i] = N\n",
        "\n",
        "  # call function computing FEM system\n",
        "  A, F = FEM1_1D_GAUSS(omega,N,n_qpoints,rhs)\n",
        "\n",
        "\n",
        "  # and apply boundary conditions\n",
        "  apply_boundary_conditions(omega,N, A, F, sol)\n",
        "\n",
        "\n",
        "  # Solve the system\n",
        "  A = A.tocsr()\n",
        "  Uh = sp.linalg.spsolve(A,F)\n",
        "\n",
        "  # Evaluate derivative of exact solution \n",
        "  true_H1_err[i] = FEM1_H1(omega,N,7,Uh,d_sol)\n",
        "\n",
        "\n",
        "\n",
        "plt.loglog(NN,true_H1_err**(1/2),'o-')\n",
        "\n",
        "plt.loglog(NN,NN**(-1))"
      ],
      "metadata": {
        "id": "XF_PGTB4xxEF",
        "outputId": "c0ef3fd7-e7b5-4c6c-95b0-72dbb3cd0370",
        "colab": {
          "base_uri": "https://localhost:8080/",
          "height": 288
        }
      },
      "execution_count": 16,
      "outputs": [
        {
          "output_type": "execute_result",
          "data": {
            "text/plain": [
              "[<matplotlib.lines.Line2D at 0x7fe2ab392c50>]"
            ]
          },
          "metadata": {},
          "execution_count": 16
        },
        {
          "output_type": "display_data",
          "data": {
            "text/plain": [
              "<Figure size 432x288 with 1 Axes>"
            ],
            "image/png": "[encoded data removed]"
          },
          "metadata": {
            "needs_background": "light"
          }
        }
      ]
    },
    {
      "cell_type": "markdown",
      "source": [
        "**Exercise 2**: Try code with nonuniform grid "
      ],
      "metadata": {
        "id": "wzuVFLYsXgec"
      }
    },
    {
      "cell_type": "markdown",
      "source": [
        "**Exercise 3**: Write code solving general reaction-advection-diffusion problems"
      ],
      "metadata": {
        "id": "Cxeu1oSRXpFr"
      }
    }
  ]
}