{
  "nbformat": 4,
  "nbformat_minor": 0,
  "metadata": {
    "colab": {
      "name": "C6_variations.ipynb",
      "provenance": [],
      "include_colab_link": true
    },
    "kernelspec": {
      "name": "python3",
      "display_name": "Python 3"
    },
    "language_info": {
      "name": "python"
    }
  },
  "cells": [
    {
      "cell_type": "markdown",
      "metadata": {
        "id": "view-in-github",
        "colab_type": "text"
      },
      "source": [
        "<a href=\"https://colab.research.google.com/github/lorenzo-bardone/NSPDE-ANA22/blob/main/python/C6_variations.ipynb\" target=\"_parent\"><img src=\"https://colab.research.google.com/assets/colab-badge.svg\" alt=\"Open In Colab\"/></a>"
      ]
    },
    {
      "cell_type": "markdown",
      "source": [
        "# The FEniCS Project"
      ],
      "metadata": {
        "id": "iBa6BgX7IU2k"
      }
    },
    {
      "cell_type": "markdown",
      "source": [
        "The [FEniCS Project](https://colab.research.google.com/drive/1UX17QtYCpfLQhdu_Z8c3b3VlEh1Onjf8#scrollTo=u-kZtjlmAhjr&line=1&uniqifier=1) is an open-source software project aimed at creating an automated workflow for computational mathematical modelling based on the Finite Element Method (FEM).\n",
        "\n",
        "The latest version of the FEniCS project, FEniCSx, consists of several building blocks: \n",
        "* DOLFINx is the FEM high performance C++ backend of FEniCSx, implementing structures such as meshes, function spaces and functions. DOLFINx also performs finite element assembly and mesh refinement algorithms. Finally, it interfaces to linear algebra solvers and data-structures, such as [PETSc](https://petsc.org/release/).\n",
        "* UFL is a high-level form language for describing variational formulations with a high-level mathematical syntax\n",
        "* FFCx is the form compiler of FEniCSx; given variational formulations written with UFL, it generates efficient C code.\n",
        "* Basix is the finite element backend of FEniCSx, responsible for generating finite element basis functions.\n"
      ],
      "metadata": {
        "id": "u-kZtjlmAhjr"
      }
    },
    {
      "cell_type": "markdown",
      "source": [
        "As many other open-source software, FEniCS uses other packages while carrying out specific tasks of the FEM pipeline. A few notable dependencies of FEniCS are:\n",
        "\n",
        "*  PETSc (and its Python wrapping petsc4py) for linear algebra solvers (and much more, such as nonlinear solvers and time stepping);\n",
        "*    SLEPc (and its Python wrapping slepc4py) for solution of eigenvalue problems;\n",
        "*    MPI for parallel computing;\n",
        "*    ParMETIS and SCOTCH for mesh partitioning in parallel computing;\n",
        "*    Gmsh for generation of complex meshes;\n",
        "*    numpy for matrix/vector manipulation from Python;\n",
        "*    plotly/pyvista for plotting meshes and solutions.\n"
      ],
      "metadata": {
        "id": "vf6wNr55Ff2K"
      }
    },
    {
      "cell_type": "markdown",
      "source": [
        "More details can be found in the original tutorial: \n",
        "* Hans Petter Langtangen, Anders Logg, *[Solving PDEs in Python: The FEniCS Tutorial I](https://link.springer.com/book/10.1007/978-3-319-52462-7)*, Simula SpringerBriefs on Computing, Springer, 2016whose code is found [here](https://jorgensd.github.io/dolfinx-tutorial/)."
      ],
      "metadata": {
        "id": "6Zv6h3qPFzeK"
      }
    },
    {
      "cell_type": "markdown",
      "source": [
        "# FEniCS modules"
      ],
      "metadata": {
        "id": "n6_gG3tNImhr"
      }
    },
    {
      "cell_type": "markdown",
      "source": [
        "In this tutorial we will explicitly use only a few libraries, namely numpy, petsc4py, UFL, dolfinx. However, all FEniCS software components (and many of the dependencies listed above) will be used under the hood \n",
        "\n",
        "We start by importing all modules which we require.\n",
        "\n",
        "We do this through the python try/except blocks: \n",
        "* the try block lets you test a block of code for errors.\n",
        "* the except block lets you handle the error."
      ],
      "metadata": {
        "id": "WK-vItWdGk7O"
      }
    },
    {
      "cell_type": "code",
      "execution_count": 1,
      "metadata": {
        "id": "q3mljf8s-3Ql"
      },
      "outputs": [],
      "source": [
        "try:\n",
        "    import dolfinx\n",
        "except ImportError:\n",
        "    !wget \"https://github.com/fem-on-colab/fem-on-colab.github.io/raw/20faf6e/releases/fenicsx-install-real.sh\" -O \"/tmp/fenicsx-install.sh\" && bash \"/tmp/fenicsx-install.sh\"\n",
        "    import dolfinx\n"
      ]
    },
    {
      "cell_type": "code",
      "source": [
        "try:\n",
        "    import pyvista\n",
        "except ImportError:\n",
        "    !pip3 install itkwidgets==0.32.1 pyvista==0.33.2\n",
        "    import pyvista\n",
        "finally:\n",
        "    import google.colab\n",
        "    google.colab.output.enable_custom_widget_manager()"
      ],
      "metadata": {
        "id": "a4HAL3l4Hbks"
      },
      "execution_count": 2,
      "outputs": []
    },
    {
      "cell_type": "code",
      "source": [
        "try:\n",
        "    import multiphenicsx\n",
        "except ImportError:\n",
        "    !pip3 install \"multiphenicsx@git+https://github.com/multiphenics/multiphenicsx.git@bdc5d58\"\n",
        "    import multiphenicsx"
      ],
      "metadata": {
        "id": "JT3DqhlRHmP_",
        "outputId": "6a305d57-8788-4976-d532-638803dcb1b6",
        "colab": {
          "base_uri": "https://localhost:8080/"
        }
      },
      "execution_count": 3,
      "outputs": [
        {
          "output_type": "stream",
          "name": "stdout",
          "text": [
            "Collecting multiphenicsx@ git+https://github.com/multiphenics/multiphenicsx.git@bdc5d58\n",
            "  Cloning https://github.com/multiphenics/multiphenicsx.git (to revision bdc5d58) to /tmp/pip-install-bzy5bgfb/multiphenicsx_102d46e1cdc34c76afa17a7bce368b98\n",
            "  Running command git clone -q https://github.com/multiphenics/multiphenicsx.git /tmp/pip-install-bzy5bgfb/multiphenicsx_102d46e1cdc34c76afa17a7bce368b98\n",
            "\u001b[33m  WARNING: Did not find branch or tag 'bdc5d58', assuming revision or ref.\u001b[0m\n",
            "  Running command git checkout -q bdc5d58\n",
            "  Installing build dependencies ... \u001b[?25l\u001b[?25hdone\n",
            "  Getting requirements to build wheel ... \u001b[?25l\u001b[?25hdone\n",
            "    Preparing wheel metadata ... \u001b[?25l\u001b[?25hdone\n",
            "Requirement already satisfied: mpi4py in /usr/local/lib/python3.7/dist-packages (from multiphenicsx@ git+https://github.com/multiphenics/multiphenicsx.git@bdc5d58) (4.0.0.dev0)\n",
            "Requirement already satisfied: numpy in /usr/local/lib/python3.7/dist-packages (from multiphenicsx@ git+https://github.com/multiphenics/multiphenicsx.git@bdc5d58) (1.21.6)\n",
            "Requirement already satisfied: cppimport in /usr/local/lib/python3.7/dist-packages (from multiphenicsx@ git+https://github.com/multiphenics/multiphenicsx.git@bdc5d58) (21.3.7)\n",
            "Requirement already satisfied: petsc4py in /usr/local/lib/python3.7/dist-packages (from multiphenicsx@ git+https://github.com/multiphenics/multiphenicsx.git@bdc5d58) (3.16.4)\n",
            "Requirement already satisfied: fenics-dolfinx in /usr/local/lib/python3.7/dist-packages (from multiphenicsx@ git+https://github.com/multiphenics/multiphenicsx.git@bdc5d58) (0.3.1.dev0)\n",
            "Requirement already satisfied: pybind11 in /usr/local/lib/python3.7/dist-packages (from cppimport->multiphenicsx@ git+https://github.com/multiphenics/multiphenicsx.git@bdc5d58) (2.10.0.dev1)\n",
            "Requirement already satisfied: mako in /usr/local/lib/python3.7/dist-packages (from cppimport->multiphenicsx@ git+https://github.com/multiphenics/multiphenicsx.git@bdc5d58) (1.1.6)\n",
            "Requirement already satisfied: fenics-ffcx<0.4.0,>=0.3.1.dev0 in /usr/local/lib/python3.7/dist-packages (from fenics-dolfinx->multiphenicsx@ git+https://github.com/multiphenics/multiphenicsx.git@bdc5d58) (0.3.1.dev0)\n",
            "Requirement already satisfied: fenics-ufl<2021.2.99,>=2021.1.0 in /usr/local/lib/python3.7/dist-packages (from fenics-dolfinx->multiphenicsx@ git+https://github.com/multiphenics/multiphenicsx.git@bdc5d58) (2021.2.0.dev0)\n",
            "Requirement already satisfied: fenics-basix<0.4.0,>=0.3.1.dev0 in /usr/local/lib/python3.7/dist-packages (from fenics-ffcx<0.4.0,>=0.3.1.dev0->fenics-dolfinx->multiphenicsx@ git+https://github.com/multiphenics/multiphenicsx.git@bdc5d58) (0.3.1.dev0)\n",
            "Requirement already satisfied: cffi in /usr/local/lib/python3.7/dist-packages (from fenics-ffcx<0.4.0,>=0.3.1.dev0->fenics-dolfinx->multiphenicsx@ git+https://github.com/multiphenics/multiphenicsx.git@bdc5d58) (1.15.0)\n",
            "Requirement already satisfied: pycparser in /usr/local/lib/python3.7/dist-packages (from cffi->fenics-ffcx<0.4.0,>=0.3.1.dev0->fenics-dolfinx->multiphenicsx@ git+https://github.com/multiphenics/multiphenicsx.git@bdc5d58) (2.21)\n",
            "Requirement already satisfied: MarkupSafe>=0.9.2 in /usr/local/lib/python3.7/dist-packages (from mako->cppimport->multiphenicsx@ git+https://github.com/multiphenics/multiphenicsx.git@bdc5d58) (2.0.1)\n",
            "Building wheels for collected packages: multiphenicsx\n",
            "  Building wheel for multiphenicsx (PEP 517) ... \u001b[?25l\u001b[?25hdone\n",
            "  Created wheel for multiphenicsx: filename=multiphenicsx-0.2.dev1-py3-none-any.whl size=43944 sha256=be2554e3e4fc5d1c68a7a4d6d63fb9472b55a3557c8f24245a33201d25064ee1\n",
            "  Stored in directory: /tmp/pip-ephem-wheel-cache-r_t8znzs/wheels/49/65/05/d4e12b38ae2164402bb1363c91f3b2deb28c8a4fb42a18d6ee\n",
            "Successfully built multiphenicsx\n",
            "Installing collected packages: multiphenicsx\n",
            "Successfully installed multiphenicsx-0.2.dev1\n"
          ]
        }
      ]
    },
    {
      "cell_type": "code",
      "source": [
        "import dolfinx.fem\n",
        "import dolfinx.mesh\n",
        "import mpi4py\n",
        "import multiphenicsx.io\n",
        "import numpy as np\n",
        "import petsc4py\n",
        "import ufl"
      ],
      "metadata": {
        "id": "32H4dB1cIOXC"
      },
      "execution_count": 4,
      "outputs": []
    },
    {
      "cell_type": "markdown",
      "source": [
        "# Tutorial 1: solving a diffusion problem in 1D"
      ],
      "metadata": {
        "id": "3xXhYbfYI05B"
      }
    },
    {
      "cell_type": "markdown",
      "source": [
        "We consider the model boundary value problem:\n",
        "$$\n",
        "\\left\\{\n",
        "\\begin{array}{l}\n",
        "- u'' = 2, & x \\in I= (0, 1),\\\\\n",
        "u(0) = 0,\\\\\n",
        "u(1) = 1.\n",
        "\\end{array}\n",
        "\\right.\n",
        "$$"
      ],
      "metadata": {
        "id": "aaEABUFhIxr7"
      }
    },
    {
      "cell_type": "markdown",
      "source": [
        "**Task 1: create a mesh.**\n",
        "\n",
        "`dolfinx.mesh` provide some built-in functions to generate simple meshes, and in particular `create_unit_interval` for an equispaced mesh on the unit interval $I$. \n",
        "\n",
        " Create the uniform mesh with 10 cells:"
      ],
      "metadata": {
        "id": "I4WTy9x6JrlO"
      }
    },
    {
      "cell_type": "code",
      "source": [
        "mesh = dolfinx.mesh.create_unit_interval(mpi4py.MPI.COMM_WORLD, 10)"
      ],
      "metadata": {
        "id": "RnAKPpOLJ7MV"
      },
      "execution_count": 65,
      "outputs": []
    },
    {
      "cell_type": "markdown",
      "source": [
        "Note that `dolfinx.mesh` requires that we supply the MPI-communicator. This is to specify how we would like the program to behave in parallel. With:\n",
        "* MPI.COMM_WORLD we create a single mesh, whose data is distributed over the number of processors we would like to use. \n",
        "* MPI.COMM_SELF we create a separate mesh on each processor"
      ],
      "metadata": {
        "id": "j8pwIp-3NDAH"
      }
    },
    {
      "cell_type": "markdown",
      "source": [
        "We can obtain an interactive plot of the domain using `plotly`."
      ],
      "metadata": {
        "id": "pRG-SAyIKJqB"
      }
    },
    {
      "cell_type": "code",
      "source": [
        "multiphenicsx.io.plot_mesh(mesh)"
      ],
      "metadata": {
        "id": "HasVFvBVJ-uj",
        "outputId": "b86bb834-1f68-4317-fd4a-b2af79e6f829",
        "colab": {
          "base_uri": "https://localhost:8080/",
          "height": 542
        }
      },
      "execution_count": 66,
      "outputs": [
        {
          "output_type": "display_data",
          "data": {
            "text/html": [
              "<html>\n",
              "<head><meta charset=\"utf-8\" /></head>\n",
              "<body>\n",
              "    <div>            <script src=\"https://cdnjs.cloudflare.com/ajax/libs/mathjax/2.7.5/MathJax.js?config=TeX-AMS-MML_SVG\"></script><script type=\"text/javascript\">if (window.MathJax) {MathJax.Hub.Config({SVG: {font: \"STIX-Web\"}});}</script>                <script type=\"text/javascript\">window.PlotlyConfig = {MathJaxConfig: 'local'};</script>\n",
              "        <script src=\"https://cdn.plot.ly/plotly-2.8.3.min.js\"></script>                <div id=\"59f6429d-4259-47a2-aec4-2abab3a5d145\" class=\"plotly-graph-div\" style=\"height:525px; width:100%;\"></div>            <script type=\"text/javascript\">                                    window.PLOTLYENV=window.PLOTLYENV || {};                                    if (document.getElementById(\"59f6429d-4259-47a2-aec4-2abab3a5d145\")) {                    Plotly.newPlot(                        \"59f6429d-4259-47a2-aec4-2abab3a5d145\",                        [{\"line\":{\"color\":\"blue\",\"dash\":\"solid\",\"width\":2},\"marker\":{\"color\":\"blue\",\"size\":10},\"mode\":\"lines+markers\",\"x\":[0.0,0.1,0.2,0.30000000000000004,0.4,0.5,0.6000000000000001,0.7000000000000001,0.8,0.9,1.0],\"y\":[0.0,0.0,0.0,0.0,0.0,0.0,0.0,0.0,0.0,0.0,0.0],\"type\":\"scatter\"}],                        {\"template\":{\"data\":{\"bar\":[{\"error_x\":{\"color\":\"#2a3f5f\"},\"error_y\":{\"color\":\"#2a3f5f\"},\"marker\":{\"line\":{\"color\":\"#E5ECF6\",\"width\":0.5},\"pattern\":{\"fillmode\":\"overlay\",\"size\":10,\"solidity\":0.2}},\"type\":\"bar\"}],\"barpolar\":[{\"marker\":{\"line\":{\"color\":\"#E5ECF6\",\"width\":0.5},\"pattern\":{\"fillmode\":\"overlay\",\"size\":10,\"solidity\":0.2}},\"type\":\"barpolar\"}],\"carpet\":[{\"aaxis\":{\"endlinecolor\":\"#2a3f5f\",\"gridcolor\":\"white\",\"linecolor\":\"white\",\"minorgridcolor\":\"white\",\"startlinecolor\":\"#2a3f5f\"},\"baxis\":{\"endlinecolor\":\"#2a3f5f\",\"gridcolor\":\"white\",\"linecolor\":\"white\",\"minorgridcolor\":\"white\",\"startlinecolor\":\"#2a3f5f\"},\"type\":\"carpet\"}],\"choropleth\":[{\"colorbar\":{\"outlinewidth\":0,\"ticks\":\"\"},\"type\":\"choropleth\"}],\"contour\":[{\"colorbar\":{\"outlinewidth\":0,\"ticks\":\"\"},\"colorscale\":[[0.0,\"#0d0887\"],[0.1111111111111111,\"#46039f\"],[0.2222222222222222,\"#7201a8\"],[0.3333333333333333,\"#9c179e\"],[0.4444444444444444,\"#bd3786\"],[0.5555555555555556,\"#d8576b\"],[0.6666666666666666,\"#ed7953\"],[0.7777777777777778,\"#fb9f3a\"],[0.8888888888888888,\"#fdca26\"],[1.0,\"#f0f921\"]],\"type\":\"contour\"}],\"contourcarpet\":[{\"colorbar\":{\"outlinewidth\":0,\"ticks\":\"\"},\"type\":\"contourcarpet\"}],\"heatmap\":[{\"colorbar\":{\"outlinewidth\":0,\"ticks\":\"\"},\"colorscale\":[[0.0,\"#0d0887\"],[0.1111111111111111,\"#46039f\"],[0.2222222222222222,\"#7201a8\"],[0.3333333333333333,\"#9c179e\"],[0.4444444444444444,\"#bd3786\"],[0.5555555555555556,\"#d8576b\"],[0.6666666666666666,\"#ed7953\"],[0.7777777777777778,\"#fb9f3a\"],[0.8888888888888888,\"#fdca26\"],[1.0,\"#f0f921\"]],\"type\":\"heatmap\"}],\"heatmapgl\":[{\"colorbar\":{\"outlinewidth\":0,\"ticks\":\"\"},\"colorscale\":[[0.0,\"#0d0887\"],[0.1111111111111111,\"#46039f\"],[0.2222222222222222,\"#7201a8\"],[0.3333333333333333,\"#9c179e\"],[0.4444444444444444,\"#bd3786\"],[0.5555555555555556,\"#d8576b\"],[0.6666666666666666,\"#ed7953\"],[0.7777777777777778,\"#fb9f3a\"],[0.8888888888888888,\"#fdca26\"],[1.0,\"#f0f921\"]],\"type\":\"heatmapgl\"}],\"histogram\":[{\"marker\":{\"pattern\":{\"fillmode\":\"overlay\",\"size\":10,\"solidity\":0.2}},\"type\":\"histogram\"}],\"histogram2d\":[{\"colorbar\":{\"outlinewidth\":0,\"ticks\":\"\"},\"colorscale\":[[0.0,\"#0d0887\"],[0.1111111111111111,\"#46039f\"],[0.2222222222222222,\"#7201a8\"],[0.3333333333333333,\"#9c179e\"],[0.4444444444444444,\"#bd3786\"],[0.5555555555555556,\"#d8576b\"],[0.6666666666666666,\"#ed7953\"],[0.7777777777777778,\"#fb9f3a\"],[0.8888888888888888,\"#fdca26\"],[1.0,\"#f0f921\"]],\"type\":\"histogram2d\"}],\"histogram2dcontour\":[{\"colorbar\":{\"outlinewidth\":0,\"ticks\":\"\"},\"colorscale\":[[0.0,\"#0d0887\"],[0.1111111111111111,\"#46039f\"],[0.2222222222222222,\"#7201a8\"],[0.3333333333333333,\"#9c179e\"],[0.4444444444444444,\"#bd3786\"],[0.5555555555555556,\"#d8576b\"],[0.6666666666666666,\"#ed7953\"],[0.7777777777777778,\"#fb9f3a\"],[0.8888888888888888,\"#fdca26\"],[1.0,\"#f0f921\"]],\"type\":\"histogram2dcontour\"}],\"mesh3d\":[{\"colorbar\":{\"outlinewidth\":0,\"ticks\":\"\"},\"type\":\"mesh3d\"}],\"parcoords\":[{\"line\":{\"colorbar\":{\"outlinewidth\":0,\"ticks\":\"\"}},\"type\":\"parcoords\"}],\"pie\":[{\"automargin\":true,\"type\":\"pie\"}],\"scatter\":[{\"marker\":{\"colorbar\":{\"outlinewidth\":0,\"ticks\":\"\"}},\"type\":\"scatter\"}],\"scatter3d\":[{\"line\":{\"colorbar\":{\"outlinewidth\":0,\"ticks\":\"\"}},\"marker\":{\"colorbar\":{\"outlinewidth\":0,\"ticks\":\"\"}},\"type\":\"scatter3d\"}],\"scattercarpet\":[{\"marker\":{\"colorbar\":{\"outlinewidth\":0,\"ticks\":\"\"}},\"type\":\"scattercarpet\"}],\"scattergeo\":[{\"marker\":{\"colorbar\":{\"outlinewidth\":0,\"ticks\":\"\"}},\"type\":\"scattergeo\"}],\"scattergl\":[{\"marker\":{\"colorbar\":{\"outlinewidth\":0,\"ticks\":\"\"}},\"type\":\"scattergl\"}],\"scattermapbox\":[{\"marker\":{\"colorbar\":{\"outlinewidth\":0,\"ticks\":\"\"}},\"type\":\"scattermapbox\"}],\"scatterpolar\":[{\"marker\":{\"colorbar\":{\"outlinewidth\":0,\"ticks\":\"\"}},\"type\":\"scatterpolar\"}],\"scatterpolargl\":[{\"marker\":{\"colorbar\":{\"outlinewidth\":0,\"ticks\":\"\"}},\"type\":\"scatterpolargl\"}],\"scatterternary\":[{\"marker\":{\"colorbar\":{\"outlinewidth\":0,\"ticks\":\"\"}},\"type\":\"scatterternary\"}],\"surface\":[{\"colorbar\":{\"outlinewidth\":0,\"ticks\":\"\"},\"colorscale\":[[0.0,\"#0d0887\"],[0.1111111111111111,\"#46039f\"],[0.2222222222222222,\"#7201a8\"],[0.3333333333333333,\"#9c179e\"],[0.4444444444444444,\"#bd3786\"],[0.5555555555555556,\"#d8576b\"],[0.6666666666666666,\"#ed7953\"],[0.7777777777777778,\"#fb9f3a\"],[0.8888888888888888,\"#fdca26\"],[1.0,\"#f0f921\"]],\"type\":\"surface\"}],\"table\":[{\"cells\":{\"fill\":{\"color\":\"#EBF0F8\"},\"line\":{\"color\":\"white\"}},\"header\":{\"fill\":{\"color\":\"#C8D4E3\"},\"line\":{\"color\":\"white\"}},\"type\":\"table\"}]},\"layout\":{\"annotationdefaults\":{\"arrowcolor\":\"#2a3f5f\",\"arrowhead\":0,\"arrowwidth\":1},\"autotypenumbers\":\"strict\",\"coloraxis\":{\"colorbar\":{\"outlinewidth\":0,\"ticks\":\"\"}},\"colorscale\":{\"diverging\":[[0,\"#8e0152\"],[0.1,\"#c51b7d\"],[0.2,\"#de77ae\"],[0.3,\"#f1b6da\"],[0.4,\"#fde0ef\"],[0.5,\"#f7f7f7\"],[0.6,\"#e6f5d0\"],[0.7,\"#b8e186\"],[0.8,\"#7fbc41\"],[0.9,\"#4d9221\"],[1,\"#276419\"]],\"sequential\":[[0.0,\"#0d0887\"],[0.1111111111111111,\"#46039f\"],[0.2222222222222222,\"#7201a8\"],[0.3333333333333333,\"#9c179e\"],[0.4444444444444444,\"#bd3786\"],[0.5555555555555556,\"#d8576b\"],[0.6666666666666666,\"#ed7953\"],[0.7777777777777778,\"#fb9f3a\"],[0.8888888888888888,\"#fdca26\"],[1.0,\"#f0f921\"]],\"sequentialminus\":[[0.0,\"#0d0887\"],[0.1111111111111111,\"#46039f\"],[0.2222222222222222,\"#7201a8\"],[0.3333333333333333,\"#9c179e\"],[0.4444444444444444,\"#bd3786\"],[0.5555555555555556,\"#d8576b\"],[0.6666666666666666,\"#ed7953\"],[0.7777777777777778,\"#fb9f3a\"],[0.8888888888888888,\"#fdca26\"],[1.0,\"#f0f921\"]]},\"colorway\":[\"#636efa\",\"#EF553B\",\"#00cc96\",\"#ab63fa\",\"#FFA15A\",\"#19d3f3\",\"#FF6692\",\"#B6E880\",\"#FF97FF\",\"#FECB52\"],\"font\":{\"color\":\"#2a3f5f\"},\"geo\":{\"bgcolor\":\"white\",\"lakecolor\":\"white\",\"landcolor\":\"#E5ECF6\",\"showlakes\":true,\"showland\":true,\"subunitcolor\":\"white\"},\"hoverlabel\":{\"align\":\"left\"},\"hovermode\":\"closest\",\"mapbox\":{\"style\":\"light\"},\"paper_bgcolor\":\"white\",\"plot_bgcolor\":\"#E5ECF6\",\"polar\":{\"angularaxis\":{\"gridcolor\":\"white\",\"linecolor\":\"white\",\"ticks\":\"\"},\"bgcolor\":\"#E5ECF6\",\"radialaxis\":{\"gridcolor\":\"white\",\"linecolor\":\"white\",\"ticks\":\"\"}},\"scene\":{\"xaxis\":{\"backgroundcolor\":\"#E5ECF6\",\"gridcolor\":\"white\",\"gridwidth\":2,\"linecolor\":\"white\",\"showbackground\":true,\"ticks\":\"\",\"zerolinecolor\":\"white\"},\"yaxis\":{\"backgroundcolor\":\"#E5ECF6\",\"gridcolor\":\"white\",\"gridwidth\":2,\"linecolor\":\"white\",\"showbackground\":true,\"ticks\":\"\",\"zerolinecolor\":\"white\"},\"zaxis\":{\"backgroundcolor\":\"#E5ECF6\",\"gridcolor\":\"white\",\"gridwidth\":2,\"linecolor\":\"white\",\"showbackground\":true,\"ticks\":\"\",\"zerolinecolor\":\"white\"}},\"shapedefaults\":{\"line\":{\"color\":\"#2a3f5f\"}},\"ternary\":{\"aaxis\":{\"gridcolor\":\"white\",\"linecolor\":\"white\",\"ticks\":\"\"},\"baxis\":{\"gridcolor\":\"white\",\"linecolor\":\"white\",\"ticks\":\"\"},\"bgcolor\":\"#E5ECF6\",\"caxis\":{\"gridcolor\":\"white\",\"linecolor\":\"white\",\"ticks\":\"\"}},\"title\":{\"x\":0.05},\"xaxis\":{\"automargin\":true,\"gridcolor\":\"white\",\"linecolor\":\"white\",\"ticks\":\"\",\"title\":{\"standoff\":15},\"zerolinecolor\":\"white\",\"zerolinewidth\":2},\"yaxis\":{\"automargin\":true,\"gridcolor\":\"white\",\"linecolor\":\"white\",\"ticks\":\"\",\"title\":{\"standoff\":15},\"zerolinecolor\":\"white\",\"zerolinewidth\":2}}},\"xaxis\":{\"title\":{\"text\":\"x\"}}},                        {\"responsive\": true}                    ).then(function(){\n",
              "                            \n",
              "var gd = document.getElementById('59f6429d-4259-47a2-aec4-2abab3a5d145');\n",
              "var x = new MutationObserver(function (mutations, observer) {{\n",
              "        var display = window.getComputedStyle(gd).display;\n",
              "        if (!display || display === 'none') {{\n",
              "            console.log([gd, 'removed!']);\n",
              "            Plotly.purge(gd);\n",
              "            observer.disconnect();\n",
              "        }}\n",
              "}});\n",
              "\n",
              "// Listen for the removal of the full notebook cells\n",
              "var notebookContainer = gd.closest('#notebook-container');\n",
              "if (notebookContainer) {{\n",
              "    x.observe(notebookContainer, {childList: true});\n",
              "}}\n",
              "\n",
              "// Listen for the clearing of the current output cell\n",
              "var outputEl = gd.closest('.output');\n",
              "if (outputEl) {{\n",
              "    x.observe(outputEl, {childList: true});\n",
              "}}\n",
              "\n",
              "                        })                };                            </script>        </div>\n",
              "</body>\n",
              "</html>"
            ]
          },
          "metadata": {}
        }
      ]
    },
    {
      "cell_type": "markdown",
      "source": [
        "A mesh is made by a set of points and a set of subintervals that connect them:"
      ],
      "metadata": {
        "id": "sLBmmlwaKaz3"
      }
    },
    {
      "cell_type": "code",
      "source": [
        "points = mesh.geometry.x\n",
        "points"
      ],
      "metadata": {
        "id": "Sk3bXpVWKTUu",
        "outputId": "bf194d0e-4241-4e6b-e560-cf36f6d46ad4",
        "colab": {
          "base_uri": "https://localhost:8080/"
        }
      },
      "execution_count": 67,
      "outputs": [
        {
          "output_type": "execute_result",
          "data": {
            "text/plain": [
              "array([[0. , 0. , 0. ],\n",
              "       [0.1, 0. , 0. ],\n",
              "       [0.2, 0. , 0. ],\n",
              "       [0.3, 0. , 0. ],\n",
              "       [0.4, 0. , 0. ],\n",
              "       [0.5, 0. , 0. ],\n",
              "       [0.6, 0. , 0. ],\n",
              "       [0.7, 0. , 0. ],\n",
              "       [0.8, 0. , 0. ],\n",
              "       [0.9, 0. , 0. ],\n",
              "       [1. , 0. , 0. ]])"
            ]
          },
          "metadata": {},
          "execution_count": 67
        }
      ]
    },
    {
      "cell_type": "markdown",
      "source": [
        "(Note that `dolfinx` developers decided to store points as vectors in $\\mathbb{R}^3$, regardless of the actual ambient space dimension!)"
      ],
      "metadata": {
        "id": "HMnfAo1GK38u"
      }
    },
    {
      "cell_type": "code",
      "source": [
        "connectivity_cells_to_vertices = mesh.topology.connectivity(mesh.topology.dim, 0)\n",
        "connectivity_cells_to_vertices"
      ],
      "metadata": {
        "id": "9skQomkRLMgp",
        "outputId": "b1e26eeb-167c-425b-8c97-83710a3e7745",
        "colab": {
          "base_uri": "https://localhost:8080/"
        }
      },
      "execution_count": 68,
      "outputs": [
        {
          "output_type": "execute_result",
          "data": {
            "text/plain": [
              "<AdjacencyList> with 10 nodes\n",
              "  0: [0 1 ]\n",
              "  1: [1 2 ]\n",
              "  2: [2 3 ]\n",
              "  3: [3 4 ]\n",
              "  4: [4 5 ]\n",
              "  5: [5 6 ]\n",
              "  6: [6 7 ]\n",
              "  7: [7 8 ]\n",
              "  8: [8 9 ]\n",
              "  9: [9 10 ]"
            ]
          },
          "metadata": {},
          "execution_count": 68
        }
      ]
    },
    {
      "cell_type": "code",
      "source": [
        "num_cells = len(connectivity_cells_to_vertices)\n",
        "num_cells"
      ],
      "metadata": {
        "id": "wWxBwSowLPwb",
        "outputId": "808158f8-8796-4e07-9a0c-22ed15d2542c",
        "colab": {
          "base_uri": "https://localhost:8080/"
        }
      },
      "execution_count": 69,
      "outputs": [
        {
          "output_type": "execute_result",
          "data": {
            "text/plain": [
              "10"
            ]
          },
          "metadata": {},
          "execution_count": 69
        }
      ]
    },
    {
      "cell_type": "markdown",
      "source": [
        "We can have a look at each cell  by using a `for` loop. Each cell is assigned an unique ID and (in 1D) it is uniquely defined by two vertices, which correspond to the endpoints of the subinterval."
      ],
      "metadata": {
        "id": "N9Ys3rvzLmkk"
      }
    },
    {
      "cell_type": "code",
      "source": [
        "for c in range(num_cells):\n",
        "    # Print the ID of the current cell\n",
        "    print(\"Cell ID\", c, \"is defined by the following vertices:\")\n",
        "    # Print the vertices of the current cell\n",
        "    for v in connectivity_cells_to_vertices.links(c):\n",
        "        print(\"\\t\" + \"Vertex ID\", v, \"is located at x =\", points[v][0])"
      ],
      "metadata": {
        "id": "VHQnwac3Lz8N",
        "outputId": "c867d275-a874-4ce2-a6b4-a66371dca8b6",
        "colab": {
          "base_uri": "https://localhost:8080/"
        }
      },
      "execution_count": 70,
      "outputs": [
        {
          "output_type": "stream",
          "name": "stdout",
          "text": [
            "Cell ID 0 is defined by the following vertices:\n",
            "\tVertex ID 0 is located at x = 0.0\n",
            "\tVertex ID 1 is located at x = 0.1\n",
            "Cell ID 1 is defined by the following vertices:\n",
            "\tVertex ID 1 is located at x = 0.1\n",
            "\tVertex ID 2 is located at x = 0.2\n",
            "Cell ID 2 is defined by the following vertices:\n",
            "\tVertex ID 2 is located at x = 0.2\n",
            "\tVertex ID 3 is located at x = 0.30000000000000004\n",
            "Cell ID 3 is defined by the following vertices:\n",
            "\tVertex ID 3 is located at x = 0.30000000000000004\n",
            "\tVertex ID 4 is located at x = 0.4\n",
            "Cell ID 4 is defined by the following vertices:\n",
            "\tVertex ID 4 is located at x = 0.4\n",
            "\tVertex ID 5 is located at x = 0.5\n",
            "Cell ID 5 is defined by the following vertices:\n",
            "\tVertex ID 5 is located at x = 0.5\n",
            "\tVertex ID 6 is located at x = 0.6000000000000001\n",
            "Cell ID 6 is defined by the following vertices:\n",
            "\tVertex ID 6 is located at x = 0.6000000000000001\n",
            "\tVertex ID 7 is located at x = 0.7000000000000001\n",
            "Cell ID 7 is defined by the following vertices:\n",
            "\tVertex ID 7 is located at x = 0.7000000000000001\n",
            "\tVertex ID 8 is located at x = 0.8\n",
            "Cell ID 8 is defined by the following vertices:\n",
            "\tVertex ID 8 is located at x = 0.8\n",
            "\tVertex ID 9 is located at x = 0.9\n",
            "Cell ID 9 is defined by the following vertices:\n",
            "\tVertex ID 9 is located at x = 0.9\n",
            "\tVertex ID 10 is located at x = 1.0\n"
          ]
        }
      ]
    },
    {
      "cell_type": "markdown",
      "source": [
        "Next, we identify the IDs corresponding to boundary nodes. We use the\n",
        "\n",
        "`dolfinx.mesh` function `locate_entities_boundary`. It requires the following inputs:\n",
        " * the first argument is the mesh,\n",
        " * the second argument represent the topological dimension of the mesh entities which we are interested in. In 1D, `mesh.topology.dim` is equal to 1, and entities of topological dimension 1 are the cells (subintervals), while `mesh.topology.dim - 1` is equal to 0, and entities of topological dimension 0 are the vertices of mesh. \n",
        " * the third argument is a condition (i.e., a function that returns either `True` or `False`) on the coordinates `x`, which are stored as a vector. Since we are interested in finding the vertex located at $x = 0$, we may think of using `x[0] == 0` as a condition: however, due to floating point arithmetic, it is safer to use $\\left|x - 0\\right| < \\varepsilon$, where $\\varepsilon$ is a small number, which may be written as `np.isclose(x[0], 0.0)`."
      ],
      "metadata": {
        "id": "YfemXRQQQgvT"
      }
    },
    {
      "cell_type": "code",
      "source": [
        "tdim = mesh.topology.dim\n",
        "fdim = tdim - 1"
      ],
      "metadata": {
        "id": "cN0R_bzulT2F"
      },
      "execution_count": 71,
      "outputs": []
    },
    {
      "cell_type": "code",
      "source": [
        "x=[1,0,1]\n",
        "np.isclose(x[0], 0.0)"
      ],
      "metadata": {
        "id": "zrkHL_1IZBmF",
        "outputId": "e717c5fb-62ef-4c58-f397-349e2fc89f06",
        "colab": {
          "base_uri": "https://localhost:8080/"
        }
      },
      "execution_count": 72,
      "outputs": [
        {
          "output_type": "execute_result",
          "data": {
            "text/plain": [
              "False"
            ]
          },
          "metadata": {},
          "execution_count": 72
        }
      ]
    },
    {
      "cell_type": "code",
      "source": [
        "left_boundary_entities = dolfinx.mesh.locate_entities_boundary(\n",
        "    mesh, fdim, lambda x: np.isclose(x[0], 0.0))\n",
        "left_boundary_entities"
      ],
      "metadata": {
        "id": "7jVpxpLwRcWT",
        "outputId": "f6c95bf3-bedb-4e5a-bcde-08ce1eb6a576",
        "colab": {
          "base_uri": "https://localhost:8080/"
        }
      },
      "execution_count": 73,
      "outputs": [
        {
          "output_type": "execute_result",
          "data": {
            "text/plain": [
              "array([0], dtype=int32)"
            ]
          },
          "metadata": {},
          "execution_count": 73
        }
      ]
    },
    {
      "cell_type": "code",
      "source": [
        "right_boundary_entities = dolfinx.mesh.locate_entities_boundary(\n",
        "    mesh, fdim, lambda x: np.isclose(x[0], 1.0))\n",
        "right_boundary_entities"
      ],
      "metadata": {
        "id": "9JVrAUydRjGa",
        "outputId": "1fc73652-a10c-4380-cbbb-8ca97e585556",
        "colab": {
          "base_uri": "https://localhost:8080/"
        }
      },
      "execution_count": 74,
      "outputs": [
        {
          "output_type": "execute_result",
          "data": {
            "text/plain": [
              "array([10], dtype=int32)"
            ]
          },
          "metadata": {},
          "execution_count": 74
        }
      ]
    },
    {
      "cell_type": "markdown",
      "source": [
        "**Task 2: create FEM space.**\n",
        "\n",
        "We define the finite element function space $V_h$ using $\\mathbb{P}_2$ Lagrange elements.\n",
        "\n",
        "This is obtained using the `FunctionSpace` class of `dolfinx.fem`.\n",
        "\n",
        "The first argument specifies the mesh. The second the type of FE space. To define the standard (conforming) Lagrange elements we input `\"CG\"`. Using instead `\"Lagrange\"` or `\"P\"` yields the same space."
      ],
      "metadata": {
        "id": "Ps4N7UAcRtXa"
      }
    },
    {
      "cell_type": "code",
      "source": [
        "Vh = dolfinx.fem.FunctionSpace(mesh, (\"CG\", 2))\n",
        "Vh"
      ],
      "metadata": {
        "colab": {
          "base_uri": "https://localhost:8080/"
        },
        "id": "CoidZDPdSwyz",
        "outputId": "6f96b938-63af-4d20-a264-98ea54991ae8"
      },
      "execution_count": 75,
      "outputs": [
        {
          "output_type": "execute_result",
          "data": {
            "text/plain": [
              "FunctionSpace(Mesh(VectorElement(FiniteElement('Lagrange', interval, 1), dim=1), 1), FiniteElement('Lagrange', interval, 2))"
            ]
          },
          "metadata": {},
          "execution_count": 75
        }
      ]
    },
    {
      "cell_type": "markdown",
      "source": [
        "Store the dimension of the space:"
      ],
      "metadata": {
        "id": "zO-nLsFrUMaQ"
      }
    },
    {
      "cell_type": "code",
      "source": [
        "Vh_dim = Vh.dofmap.index_map.size_local\n",
        "Vh_dim"
      ],
      "metadata": {
        "id": "BonrakZiUQrQ",
        "outputId": "2300cd17-af82-46af-d9b3-415773fcfcec",
        "colab": {
          "base_uri": "https://localhost:8080/"
        }
      },
      "execution_count": 76,
      "outputs": [
        {
          "output_type": "execute_result",
          "data": {
            "text/plain": [
              "21"
            ]
          },
          "metadata": {},
          "execution_count": 76
        }
      ]
    },
    {
      "cell_type": "markdown",
      "source": [
        "Once the FE space is at hand, we introduce ufl symbols to define the trial and test functions for our weak formulation:"
      ],
      "metadata": {
        "id": "QrhctjdIUVUT"
      }
    },
    {
      "cell_type": "code",
      "source": [
        "uh = ufl.TrialFunction(Vh)\n",
        "vh = ufl.TestFunction(Vh)"
      ],
      "metadata": {
        "id": "gsjHc467UbKE"
      },
      "execution_count": 77,
      "outputs": []
    },
    {
      "cell_type": "markdown",
      "source": [
        "**Task 3:** Set up FEM system"
      ],
      "metadata": {
        "id": "UrUjD77qsFvR"
      }
    },
    {
      "cell_type": "markdown",
      "source": [
        "Now we are ready to define the FEM using the ufl capability.\n",
        "* `uh.dx(0)` corresponds to $\\frac{\\partial u}{\\partial x}$, where the argument `0` to `dx` means to take the derivative with respect to the first space coordinate (the only one of interest in this case).\n",
        "* `ufl.dx` provides a measure for integration over the domain. Integration will automatically occur over the entire domain."
      ],
      "metadata": {
        "id": "EZBjfjYBUtwh"
      }
    },
    {
      "cell_type": "code",
      "source": [
        "xyz = ufl.SpatialCoordinate(mesh)\n",
        "x = xyz[0]\n",
        "sin=(2*np.pi)**2*ufl.sin(x*2*np.pi)"
      ],
      "metadata": {
        "id": "mfdqkKD3i4cr"
      },
      "execution_count": 110,
      "outputs": []
    },
    {
      "cell_type": "code",
      "source": [
        "a = uh.dx(0) * vh.dx(0) * ufl.dx\n",
        "\n",
        "F =  sin* vh * ufl.dx"
      ],
      "metadata": {
        "id": "w7-HO_gdUzJB"
      },
      "execution_count": 111,
      "outputs": []
    },
    {
      "cell_type": "markdown",
      "source": [
        "**Task 4:** Apply boundary conditions"
      ],
      "metadata": {
        "id": "uIm-FZt8sOVv"
      }
    },
    {
      "cell_type": "markdown",
      "source": [
        "It remains to implement the boundary conditions. To do so we:\n",
        "* determine the degree of freedom that corresponds to the boundary vertices.\n",
        "* define a `Constant` equal to `0` and a `Constant` equal to `1` corresponding to the values on the boundary.\n",
        "* create a list containing the Dirichlet boundary conditions (two in this case), that is the constraints on the FE function DoF:"
      ],
      "metadata": {
        "id": "2lF6nZNBWksG"
      }
    },
    {
      "cell_type": "code",
      "source": [
        "left_boundary_dofs = dolfinx.fem.locate_dofs_topological(Vh, fdim, left_boundary_entities)\n",
        "left_boundary_dofs"
      ],
      "metadata": {
        "id": "dKGxbV-bXyWu",
        "outputId": "d1ca1902-83f1-46b0-9196-f644074f59fc",
        "colab": {
          "base_uri": "https://localhost:8080/"
        }
      },
      "execution_count": 80,
      "outputs": [
        {
          "output_type": "execute_result",
          "data": {
            "text/plain": [
              "array([0], dtype=int32)"
            ]
          },
          "metadata": {},
          "execution_count": 80
        }
      ]
    },
    {
      "cell_type": "code",
      "source": [
        "right_boundary_dofs = dolfinx.fem.locate_dofs_topological(Vh, fdim, right_boundary_entities)\n",
        "right_boundary_dofs"
      ],
      "metadata": {
        "id": "VA-TKKWlX35t",
        "outputId": "d543c304-b000-449e-f067-e42f53e240fb",
        "colab": {
          "base_uri": "https://localhost:8080/"
        }
      },
      "execution_count": 81,
      "outputs": [
        {
          "output_type": "execute_result",
          "data": {
            "text/plain": [
              "array([19], dtype=int32)"
            ]
          },
          "metadata": {},
          "execution_count": 81
        }
      ]
    },
    {
      "cell_type": "code",
      "source": [
        "zero = dolfinx.fem.Constant(mesh, 0.)\n",
        "one = dolfinx.fem.Constant(mesh, 1.)"
      ],
      "metadata": {
        "id": "-CSBO8wiX56Y"
      },
      "execution_count": 82,
      "outputs": []
    },
    {
      "cell_type": "code",
      "source": [
        "bcs1 = [dolfinx.fem.dirichletbc(zero, left_boundary_dofs, Vh), dolfinx.fem.dirichletbc(zero, right_boundary_dofs, Vh)]\n",
        "bcs1"
      ],
      "metadata": {
        "id": "KDgMAlG-YAEP",
        "outputId": "0e52141b-0650-4da0-ae0a-102bf8656619",
        "colab": {
          "base_uri": "https://localhost:8080/"
        }
      },
      "execution_count": 103,
      "outputs": [
        {
          "output_type": "execute_result",
          "data": {
            "text/plain": [
              "[<dolfinx.fem.bcs.DirichletBC at 0x7f516d8c8a70>,\n",
              " <dolfinx.fem.bcs.DirichletBC at 0x7f516d8c8530>]"
            ]
          },
          "metadata": {},
          "execution_count": 103
        }
      ]
    },
    {
      "cell_type": "markdown",
      "source": [
        "Alternatively use boundary data function automaticallly: \n",
        "\n",
        "* Define the boundary data through a function, for instance:"
      ],
      "metadata": {
        "id": "QRIFqIxbusHN"
      }
    },
    {
      "cell_type": "code",
      "source": [
        "uD = dolfinx.fem.Function(Vh)\n",
        "uD.interpolate(lambda x: x[0])"
      ],
      "metadata": {
        "id": "PfjILXHtptJm"
      },
      "execution_count": 91,
      "outputs": []
    },
    {
      "cell_type": "markdown",
      "source": [
        "* Create facet to cell connectivity required to determine boundary facets"
      ],
      "metadata": {
        "id": "N8dSNc3euxBl"
      }
    },
    {
      "cell_type": "code",
      "source": [
        "mesh.topology.create_connectivity(fdim, tdim)\n",
        "\n",
        "print(dolfinx.mesh.compute_boundary_facets(mesh.topology))\n",
        "\n",
        "# np.flatnonzero gives indices of the elements that are non-zero\n",
        "boundary_points = np.flatnonzero(dolfinx.mesh.compute_boundary_facets(mesh.topology))\n",
        "\n",
        "boundary_points"
      ],
      "metadata": {
        "id": "yk32L0WrsiLx",
        "outputId": "d7cc8026-ad76-4938-f708-0c4982005731",
        "colab": {
          "base_uri": "https://localhost:8080/"
        }
      },
      "execution_count": 92,
      "outputs": [
        {
          "output_type": "stream",
          "name": "stdout",
          "text": [
            "[1, 0, 0, 0, 0, 0, 0, 0, 0, 0, 1]\n"
          ]
        },
        {
          "output_type": "execute_result",
          "data": {
            "text/plain": [
              "array([ 0, 10])"
            ]
          },
          "metadata": {},
          "execution_count": 92
        }
      ]
    },
    {
      "cell_type": "markdown",
      "source": [
        "* We can now apply the boundary conditions:"
      ],
      "metadata": {
        "id": "JqcGJmsjufph"
      }
    },
    {
      "cell_type": "code",
      "source": [
        "boundary_dofs = dolfinx.fem.locate_dofs_topological(Vh, fdim, boundary_points)\n",
        "bcs = dolfinx.fem.dirichletbc(uD, boundary_dofs)\n",
        "bcs"
      ],
      "metadata": {
        "id": "AO-9Dn-4ufKL",
        "outputId": "dbc2a7e2-2c79-47c9-8578-e569faee3c82",
        "colab": {
          "base_uri": "https://localhost:8080/"
        }
      },
      "execution_count": 93,
      "outputs": [
        {
          "output_type": "execute_result",
          "data": {
            "text/plain": [
              "<dolfinx.fem.bcs.DirichletBC at 0x7f516d265650>"
            ]
          },
          "metadata": {},
          "execution_count": 93
        }
      ]
    },
    {
      "cell_type": "markdown",
      "source": [
        "**Task 5:** Solve the FEM system\n",
        "\n",
        "In order to solve the FEM system, we go through the following steps:\n",
        "\n",
        "* `dolfinx.fem` provides a `Function` class to store the solution of a finite element problem:\n",
        "* solve the discrete problem allocating a new `LinearProblem` (which uses `PETSc`), providing as input the bilinear form `a`, the linear functional `F`, the boundary conditions `bcs`, and where to store the solution. Further solver options can also be passed to `PETSc`."
      ],
      "metadata": {
        "id": "m0t_9i7IYdoX"
      }
    },
    {
      "cell_type": "code",
      "source": [
        "solution = dolfinx.fem.Function(Vh)"
      ],
      "metadata": {
        "id": "jxZYnUJ-Y0ij"
      },
      "execution_count": 112,
      "outputs": []
    },
    {
      "cell_type": "code",
      "source": [
        "problem = dolfinx.fem.petsc.LinearProblem(\n",
        "    a, F, bcs=bcs1, u=solution,\n",
        "    petsc_options={\"ksp_type\": \"preonly\", \"pc_type\": \"lu\", \"pc_factor_mat_solver_type\": \"mumps\"})\n",
        "_ = problem.solve()\n",
        "\n",
        "print(solution.vector.array)"
      ],
      "metadata": {
        "id": "_kMhuylXZTwj",
        "outputId": "ad438b7a-e333-43a0-c34d-407937690701",
        "colab": {
          "base_uri": "https://localhost:8080/"
        }
      },
      "execution_count": 113,
      "outputs": [
        {
          "output_type": "stream",
          "name": "stdout",
          "text": [
            "[ 0.00000000e+00  5.87785161e-01  3.08992194e-01  9.51056368e-01\n",
            "  8.08952066e-01  9.51056368e-01  9.99919744e-01  5.87785161e-01\n",
            "  8.08952066e-01 -1.98326270e-15  3.08992194e-01 -5.87785161e-01\n",
            " -3.08992194e-01 -9.51056368e-01 -8.08952066e-01 -9.51056368e-01\n",
            " -9.99919744e-01 -5.87785161e-01 -8.08952066e-01  0.00000000e+00\n",
            " -3.08992194e-01]\n"
          ]
        }
      ]
    },
    {
      "cell_type": "code",
      "source": [
        "multiphenicsx.io.plot_scalar_field(solution, \"u_h\")"
      ],
      "metadata": {
        "id": "Bfv9C4bhZw5n",
        "outputId": "6cc36933-d454-41bf-a81f-7658fe930ef6",
        "colab": {
          "base_uri": "https://localhost:8080/",
          "height": 542
        }
      },
      "execution_count": 114,
      "outputs": [
        {
          "output_type": "display_data",
          "data": {
            "text/html": [
              "<html>\n",
              "<head><meta charset=\"utf-8\" /></head>\n",
              "<body>\n",
              "    <div>            <script src=\"https://cdnjs.cloudflare.com/ajax/libs/mathjax/2.7.5/MathJax.js?config=TeX-AMS-MML_SVG\"></script><script type=\"text/javascript\">if (window.MathJax) {MathJax.Hub.Config({SVG: {font: \"STIX-Web\"}});}</script>                <script type=\"text/javascript\">window.PlotlyConfig = {MathJaxConfig: 'local'};</script>\n",
              "        <script src=\"https://cdn.plot.ly/plotly-2.8.3.min.js\"></script>                <div id=\"795be582-d124-4d1a-8e20-5b2df4147146\" class=\"plotly-graph-div\" style=\"height:525px; width:100%;\"></div>            <script type=\"text/javascript\">                                    window.PLOTLYENV=window.PLOTLYENV || {};                                    if (document.getElementById(\"795be582-d124-4d1a-8e20-5b2df4147146\")) {                    Plotly.newPlot(                        \"795be582-d124-4d1a-8e20-5b2df4147146\",                        [{\"line\":{\"color\":\"blue\",\"dash\":\"solid\",\"width\":2},\"marker\":{\"color\":\"blue\",\"size\":10},\"mode\":\"lines+markers\",\"x\":[0.0,0.05,0.1,0.15000000000000002,0.2,0.25,0.30000000000000004,0.35000000000000003,0.4,0.45,0.5,0.55,0.6000000000000001,0.6500000000000001,0.7000000000000001,0.75,0.8,0.8500000000000001,0.9,0.95,1.0],\"y\":[0.0,0.30899219380784665,0.5877851608851343,0.8089520656473369,0.9510563683949719,0.9999197436789802,0.9510563683949709,0.8089520656473351,0.5877851608851322,0.3089921938078445,-1.983262701571318e-15,-0.30899219380784887,-0.5877851608851369,-0.8089520656473396,-0.9510563683949751,-0.9999197436789835,-0.9510563683949744,-0.8089520656473386,-0.5877851608851352,-0.30899219380784704,0.0],\"type\":\"scatter\"}],                        {\"template\":{\"data\":{\"bar\":[{\"error_x\":{\"color\":\"#2a3f5f\"},\"error_y\":{\"color\":\"#2a3f5f\"},\"marker\":{\"line\":{\"color\":\"#E5ECF6\",\"width\":0.5},\"pattern\":{\"fillmode\":\"overlay\",\"size\":10,\"solidity\":0.2}},\"type\":\"bar\"}],\"barpolar\":[{\"marker\":{\"line\":{\"color\":\"#E5ECF6\",\"width\":0.5},\"pattern\":{\"fillmode\":\"overlay\",\"size\":10,\"solidity\":0.2}},\"type\":\"barpolar\"}],\"carpet\":[{\"aaxis\":{\"endlinecolor\":\"#2a3f5f\",\"gridcolor\":\"white\",\"linecolor\":\"white\",\"minorgridcolor\":\"white\",\"startlinecolor\":\"#2a3f5f\"},\"baxis\":{\"endlinecolor\":\"#2a3f5f\",\"gridcolor\":\"white\",\"linecolor\":\"white\",\"minorgridcolor\":\"white\",\"startlinecolor\":\"#2a3f5f\"},\"type\":\"carpet\"}],\"choropleth\":[{\"colorbar\":{\"outlinewidth\":0,\"ticks\":\"\"},\"type\":\"choropleth\"}],\"contour\":[{\"colorbar\":{\"outlinewidth\":0,\"ticks\":\"\"},\"colorscale\":[[0.0,\"#0d0887\"],[0.1111111111111111,\"#46039f\"],[0.2222222222222222,\"#7201a8\"],[0.3333333333333333,\"#9c179e\"],[0.4444444444444444,\"#bd3786\"],[0.5555555555555556,\"#d8576b\"],[0.6666666666666666,\"#ed7953\"],[0.7777777777777778,\"#fb9f3a\"],[0.8888888888888888,\"#fdca26\"],[1.0,\"#f0f921\"]],\"type\":\"contour\"}],\"contourcarpet\":[{\"colorbar\":{\"outlinewidth\":0,\"ticks\":\"\"},\"type\":\"contourcarpet\"}],\"heatmap\":[{\"colorbar\":{\"outlinewidth\":0,\"ticks\":\"\"},\"colorscale\":[[0.0,\"#0d0887\"],[0.1111111111111111,\"#46039f\"],[0.2222222222222222,\"#7201a8\"],[0.3333333333333333,\"#9c179e\"],[0.4444444444444444,\"#bd3786\"],[0.5555555555555556,\"#d8576b\"],[0.6666666666666666,\"#ed7953\"],[0.7777777777777778,\"#fb9f3a\"],[0.8888888888888888,\"#fdca26\"],[1.0,\"#f0f921\"]],\"type\":\"heatmap\"}],\"heatmapgl\":[{\"colorbar\":{\"outlinewidth\":0,\"ticks\":\"\"},\"colorscale\":[[0.0,\"#0d0887\"],[0.1111111111111111,\"#46039f\"],[0.2222222222222222,\"#7201a8\"],[0.3333333333333333,\"#9c179e\"],[0.4444444444444444,\"#bd3786\"],[0.5555555555555556,\"#d8576b\"],[0.6666666666666666,\"#ed7953\"],[0.7777777777777778,\"#fb9f3a\"],[0.8888888888888888,\"#fdca26\"],[1.0,\"#f0f921\"]],\"type\":\"heatmapgl\"}],\"histogram\":[{\"marker\":{\"pattern\":{\"fillmode\":\"overlay\",\"size\":10,\"solidity\":0.2}},\"type\":\"histogram\"}],\"histogram2d\":[{\"colorbar\":{\"outlinewidth\":0,\"ticks\":\"\"},\"colorscale\":[[0.0,\"#0d0887\"],[0.1111111111111111,\"#46039f\"],[0.2222222222222222,\"#7201a8\"],[0.3333333333333333,\"#9c179e\"],[0.4444444444444444,\"#bd3786\"],[0.5555555555555556,\"#d8576b\"],[0.6666666666666666,\"#ed7953\"],[0.7777777777777778,\"#fb9f3a\"],[0.8888888888888888,\"#fdca26\"],[1.0,\"#f0f921\"]],\"type\":\"histogram2d\"}],\"histogram2dcontour\":[{\"colorbar\":{\"outlinewidth\":0,\"ticks\":\"\"},\"colorscale\":[[0.0,\"#0d0887\"],[0.1111111111111111,\"#46039f\"],[0.2222222222222222,\"#7201a8\"],[0.3333333333333333,\"#9c179e\"],[0.4444444444444444,\"#bd3786\"],[0.5555555555555556,\"#d8576b\"],[0.6666666666666666,\"#ed7953\"],[0.7777777777777778,\"#fb9f3a\"],[0.8888888888888888,\"#fdca26\"],[1.0,\"#f0f921\"]],\"type\":\"histogram2dcontour\"}],\"mesh3d\":[{\"colorbar\":{\"outlinewidth\":0,\"ticks\":\"\"},\"type\":\"mesh3d\"}],\"parcoords\":[{\"line\":{\"colorbar\":{\"outlinewidth\":0,\"ticks\":\"\"}},\"type\":\"parcoords\"}],\"pie\":[{\"automargin\":true,\"type\":\"pie\"}],\"scatter\":[{\"marker\":{\"colorbar\":{\"outlinewidth\":0,\"ticks\":\"\"}},\"type\":\"scatter\"}],\"scatter3d\":[{\"line\":{\"colorbar\":{\"outlinewidth\":0,\"ticks\":\"\"}},\"marker\":{\"colorbar\":{\"outlinewidth\":0,\"ticks\":\"\"}},\"type\":\"scatter3d\"}],\"scattercarpet\":[{\"marker\":{\"colorbar\":{\"outlinewidth\":0,\"ticks\":\"\"}},\"type\":\"scattercarpet\"}],\"scattergeo\":[{\"marker\":{\"colorbar\":{\"outlinewidth\":0,\"ticks\":\"\"}},\"type\":\"scattergeo\"}],\"scattergl\":[{\"marker\":{\"colorbar\":{\"outlinewidth\":0,\"ticks\":\"\"}},\"type\":\"scattergl\"}],\"scattermapbox\":[{\"marker\":{\"colorbar\":{\"outlinewidth\":0,\"ticks\":\"\"}},\"type\":\"scattermapbox\"}],\"scatterpolar\":[{\"marker\":{\"colorbar\":{\"outlinewidth\":0,\"ticks\":\"\"}},\"type\":\"scatterpolar\"}],\"scatterpolargl\":[{\"marker\":{\"colorbar\":{\"outlinewidth\":0,\"ticks\":\"\"}},\"type\":\"scatterpolargl\"}],\"scatterternary\":[{\"marker\":{\"colorbar\":{\"outlinewidth\":0,\"ticks\":\"\"}},\"type\":\"scatterternary\"}],\"surface\":[{\"colorbar\":{\"outlinewidth\":0,\"ticks\":\"\"},\"colorscale\":[[0.0,\"#0d0887\"],[0.1111111111111111,\"#46039f\"],[0.2222222222222222,\"#7201a8\"],[0.3333333333333333,\"#9c179e\"],[0.4444444444444444,\"#bd3786\"],[0.5555555555555556,\"#d8576b\"],[0.6666666666666666,\"#ed7953\"],[0.7777777777777778,\"#fb9f3a\"],[0.8888888888888888,\"#fdca26\"],[1.0,\"#f0f921\"]],\"type\":\"surface\"}],\"table\":[{\"cells\":{\"fill\":{\"color\":\"#EBF0F8\"},\"line\":{\"color\":\"white\"}},\"header\":{\"fill\":{\"color\":\"#C8D4E3\"},\"line\":{\"color\":\"white\"}},\"type\":\"table\"}]},\"layout\":{\"annotationdefaults\":{\"arrowcolor\":\"#2a3f5f\",\"arrowhead\":0,\"arrowwidth\":1},\"autotypenumbers\":\"strict\",\"coloraxis\":{\"colorbar\":{\"outlinewidth\":0,\"ticks\":\"\"}},\"colorscale\":{\"diverging\":[[0,\"#8e0152\"],[0.1,\"#c51b7d\"],[0.2,\"#de77ae\"],[0.3,\"#f1b6da\"],[0.4,\"#fde0ef\"],[0.5,\"#f7f7f7\"],[0.6,\"#e6f5d0\"],[0.7,\"#b8e186\"],[0.8,\"#7fbc41\"],[0.9,\"#4d9221\"],[1,\"#276419\"]],\"sequential\":[[0.0,\"#0d0887\"],[0.1111111111111111,\"#46039f\"],[0.2222222222222222,\"#7201a8\"],[0.3333333333333333,\"#9c179e\"],[0.4444444444444444,\"#bd3786\"],[0.5555555555555556,\"#d8576b\"],[0.6666666666666666,\"#ed7953\"],[0.7777777777777778,\"#fb9f3a\"],[0.8888888888888888,\"#fdca26\"],[1.0,\"#f0f921\"]],\"sequentialminus\":[[0.0,\"#0d0887\"],[0.1111111111111111,\"#46039f\"],[0.2222222222222222,\"#7201a8\"],[0.3333333333333333,\"#9c179e\"],[0.4444444444444444,\"#bd3786\"],[0.5555555555555556,\"#d8576b\"],[0.6666666666666666,\"#ed7953\"],[0.7777777777777778,\"#fb9f3a\"],[0.8888888888888888,\"#fdca26\"],[1.0,\"#f0f921\"]]},\"colorway\":[\"#636efa\",\"#EF553B\",\"#00cc96\",\"#ab63fa\",\"#FFA15A\",\"#19d3f3\",\"#FF6692\",\"#B6E880\",\"#FF97FF\",\"#FECB52\"],\"font\":{\"color\":\"#2a3f5f\"},\"geo\":{\"bgcolor\":\"white\",\"lakecolor\":\"white\",\"landcolor\":\"#E5ECF6\",\"showlakes\":true,\"showland\":true,\"subunitcolor\":\"white\"},\"hoverlabel\":{\"align\":\"left\"},\"hovermode\":\"closest\",\"mapbox\":{\"style\":\"light\"},\"paper_bgcolor\":\"white\",\"plot_bgcolor\":\"#E5ECF6\",\"polar\":{\"angularaxis\":{\"gridcolor\":\"white\",\"linecolor\":\"white\",\"ticks\":\"\"},\"bgcolor\":\"#E5ECF6\",\"radialaxis\":{\"gridcolor\":\"white\",\"linecolor\":\"white\",\"ticks\":\"\"}},\"scene\":{\"xaxis\":{\"backgroundcolor\":\"#E5ECF6\",\"gridcolor\":\"white\",\"gridwidth\":2,\"linecolor\":\"white\",\"showbackground\":true,\"ticks\":\"\",\"zerolinecolor\":\"white\"},\"yaxis\":{\"backgroundcolor\":\"#E5ECF6\",\"gridcolor\":\"white\",\"gridwidth\":2,\"linecolor\":\"white\",\"showbackground\":true,\"ticks\":\"\",\"zerolinecolor\":\"white\"},\"zaxis\":{\"backgroundcolor\":\"#E5ECF6\",\"gridcolor\":\"white\",\"gridwidth\":2,\"linecolor\":\"white\",\"showbackground\":true,\"ticks\":\"\",\"zerolinecolor\":\"white\"}},\"shapedefaults\":{\"line\":{\"color\":\"#2a3f5f\"}},\"ternary\":{\"aaxis\":{\"gridcolor\":\"white\",\"linecolor\":\"white\",\"ticks\":\"\"},\"baxis\":{\"gridcolor\":\"white\",\"linecolor\":\"white\",\"ticks\":\"\"},\"bgcolor\":\"#E5ECF6\",\"caxis\":{\"gridcolor\":\"white\",\"linecolor\":\"white\",\"ticks\":\"\"}},\"title\":{\"x\":0.05},\"xaxis\":{\"automargin\":true,\"gridcolor\":\"white\",\"linecolor\":\"white\",\"ticks\":\"\",\"title\":{\"standoff\":15},\"zerolinecolor\":\"white\",\"zerolinewidth\":2},\"yaxis\":{\"automargin\":true,\"gridcolor\":\"white\",\"linecolor\":\"white\",\"ticks\":\"\",\"title\":{\"standoff\":15},\"zerolinecolor\":\"white\",\"zerolinewidth\":2}}},\"xaxis\":{\"title\":{\"text\":\"x\"}},\"yaxis\":{\"title\":{\"text\":\"u_h\"}}},                        {\"responsive\": true}                    ).then(function(){\n",
              "                            \n",
              "var gd = document.getElementById('795be582-d124-4d1a-8e20-5b2df4147146');\n",
              "var x = new MutationObserver(function (mutations, observer) {{\n",
              "        var display = window.getComputedStyle(gd).display;\n",
              "        if (!display || display === 'none') {{\n",
              "            console.log([gd, 'removed!']);\n",
              "            Plotly.purge(gd);\n",
              "            observer.disconnect();\n",
              "        }}\n",
              "}});\n",
              "\n",
              "// Listen for the removal of the full notebook cells\n",
              "var notebookContainer = gd.closest('#notebook-container');\n",
              "if (notebookContainer) {{\n",
              "    x.observe(notebookContainer, {childList: true});\n",
              "}}\n",
              "\n",
              "// Listen for the clearing of the current output cell\n",
              "var outputEl = gd.closest('.output');\n",
              "if (outputEl) {{\n",
              "    x.observe(outputEl, {childList: true});\n",
              "}}\n",
              "\n",
              "                        })                };                            </script>        </div>\n",
              "</body>\n",
              "</html>"
            ]
          },
          "metadata": {}
        }
      ]
    },
    {
      "cell_type": "markdown",
      "source": [
        "# Compute error"
      ],
      "metadata": {
        "id": "jD4ebiQtakng"
      }
    },
    {
      "cell_type": "markdown",
      "source": [
        "**Task 6:** compute the $L^2$ and $H^1$ errors.\n",
        "\n",
        "The exact solution is:\n",
        "$$ u(x) = - x^2 + 2 x.$$\n",
        "\n",
        "The $L^2(I)$ norm of the error $u - u_h$ is defined as:\n",
        "$$ e_h^2 = \\int_I \\left(u(x) - u_h(x)\\right)^2 \\ \\mathrm{d}x.$$"
      ],
      "metadata": {
        "id": "WaJgOx07aqTt"
      }
    },
    {
      "cell_type": "markdown",
      "source": [
        "In order to evaluate the error, we first need to define a symbolic representation in `ufl` of the exact solution $u(x)$. To this end, we need to define a symbol for the coordinate `x` ..."
      ],
      "metadata": {
        "id": "1pRRgIewbelh"
      }
    },
    {
      "cell_type": "code",
      "source": [
        "xyz = ufl.SpatialCoordinate(mesh)\n",
        "x = xyz[0]"
      ],
      "metadata": {
        "id": "o4NlXNL0bqDr"
      },
      "execution_count": 29,
      "outputs": []
    },
    {
      "cell_type": "markdown",
      "source": [
        "and then we can define a symbolic expression in `ufl` for the exact solution $u$:"
      ],
      "metadata": {
        "id": "Ck4ZAWrZbzBG"
      }
    },
    {
      "cell_type": "code",
      "source": [
        "exact_solution = - x**2 + 2 * x"
      ],
      "metadata": {
        "id": "US-982tcbsCt"
      },
      "execution_count": 30,
      "outputs": []
    },
    {
      "cell_type": "markdown",
      "source": [
        "Hence we can define a symbolic expression in `ufl` for the integral defining the error:"
      ],
      "metadata": {
        "id": "3jDHvG9Ebya3"
      }
    },
    {
      "cell_type": "code",
      "source": [
        "error_L2squared_ufl = (exact_solution - solution)**2 * ufl.dx"
      ],
      "metadata": {
        "id": "EntFew8EcIic"
      },
      "execution_count": 31,
      "outputs": []
    },
    {
      "cell_type": "markdown",
      "source": [
        "Finally, we evaluate the error using the `dolfinx.fem` function `assemble_scalar`:"
      ],
      "metadata": {
        "id": "zlprrnpccPEn"
      }
    },
    {
      "cell_type": "code",
      "source": [
        "error_L2squared = dolfinx.fem.assemble_scalar(dolfinx.fem.form(error_L2squared_ufl))\n",
        "error_L2squared"
      ],
      "metadata": {
        "id": "gxQ8Sh4ocADe",
        "outputId": "8c6b2e93-b135-44d1-d6e7-82daa6ee69e7",
        "colab": {
          "base_uri": "https://localhost:8080/"
        }
      },
      "execution_count": 32,
      "outputs": [
        {
          "output_type": "execute_result",
          "data": {
            "text/plain": [
              "1.0218955663459777e-29"
            ]
          },
          "metadata": {},
          "execution_count": 32
        }
      ]
    },
    {
      "cell_type": "markdown",
      "source": [
        "Note that, given that we are using quadratic elements, we expect the error to be zero!"
      ],
      "metadata": {
        "id": "NSae1SaZcdvn"
      }
    },
    {
      "cell_type": "markdown",
      "source": [
        "Similarly we can compute the H1 seminorm error:"
      ],
      "metadata": {
        "id": "QTnw7C3b4GsS"
      }
    },
    {
      "cell_type": "code",
      "source": [
        "error_H1squared_ufl = (exact_solution.dx(0) - solution.dx(0))**2 * ufl.dx\n",
        "error_H1squared = dolfinx.fem.assemble_scalar(dolfinx.fem.form(error_H1squared_ufl))\n",
        "error_H1squared"
      ],
      "metadata": {
        "id": "KybnFblW3SCo",
        "outputId": "aa417181-0913-4f5d-f2a3-20c4f0bf5511",
        "colab": {
          "base_uri": "https://localhost:8080/"
        }
      },
      "execution_count": 33,
      "outputs": [
        {
          "output_type": "execute_result",
          "data": {
            "text/plain": [
              "1.1905563748418594e-28"
            ]
          },
          "metadata": {},
          "execution_count": 33
        }
      ]
    },
    {
      "cell_type": "code",
      "source": [
        ""
      ],
      "metadata": {
        "id": "j0A9adXMeK5A"
      },
      "execution_count": 33,
      "outputs": []
    }
  ]
}