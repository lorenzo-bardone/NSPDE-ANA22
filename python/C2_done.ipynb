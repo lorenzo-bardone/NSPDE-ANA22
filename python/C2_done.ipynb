{
  "nbformat": 4,
  "nbformat_minor": 0,
  "metadata": {
    "colab": {
      "name": "C2.ipynb",
      "provenance": []
    },
    "kernelspec": {
      "name": "python3",
      "display_name": "Python 3"
    },
    "language_info": {
      "name": "python"
    }
  },
  "cells": [
    {
      "cell_type": "markdown",
      "source": [
        "# Divided differences using sparse matrix"
      ],
      "metadata": {
        "id": "WLd_JqUTLlx7"
      }
    },
    {
      "cell_type": "markdown",
      "source": [
        "Import the usual modules"
      ],
      "metadata": {
        "id": "lAvcakieLgH4"
      }
    },
    {
      "cell_type": "code",
      "execution_count": 1,
      "metadata": {
        "id": "UhR8FV_9KpLl"
      },
      "outputs": [],
      "source": [
        "import numpy as np\n",
        "import matplotlib.pyplot as plt\n",
        "import sympy as sym"
      ]
    },
    {
      "cell_type": "markdown",
      "source": [
        "New module: sparse algebra"
      ],
      "metadata": {
        "id": "TEsSBeGDMz-9"
      }
    },
    {
      "cell_type": "code",
      "source": [
        "import scipy.sparse as sp"
      ],
      "metadata": {
        "id": "knW_Lj85M3g2"
      },
      "execution_count": 2,
      "outputs": []
    },
    {
      "cell_type": "markdown",
      "source": [
        "Function implementing the forward difference in sparse format"
      ],
      "metadata": {
        "id": "AOx_KN1HLSBn"
      }
    },
    {
      "cell_type": "code",
      "source": [
        "def forward_difference(a, b, N):\n",
        "  h = (b-a)/N\n",
        " \n",
        "  # Compute FD matrix as sparse using Compressed Sparse Row (CSR) format \n",
        "  data=[-np.ones(N+1),np.ones(N)]\n",
        "  FD=sp.diags(data,[0,1],format=\"csr\")\n",
        "  return FD/h"
      ],
      "metadata": {
        "id": "bPMMOZh0LRd5"
      },
      "execution_count": 3,
      "outputs": []
    },
    {
      "cell_type": "code",
      "source": [
        "a=0 \n",
        "b=1\n",
        "N=5\n",
        "print(forward_difference(a,b,N).todense())\n"
      ],
      "metadata": {
        "id": "F8X7ml91R9a-",
        "outputId": "f7add8b6-895b-4bed-c814-49fc9a623002",
        "colab": {
          "base_uri": "https://localhost:8080/"
        }
      },
      "execution_count": 8,
      "outputs": [
        {
          "output_type": "stream",
          "name": "stdout",
          "text": [
            "[[-5.  5.  0.  0.  0.  0.]\n",
            " [ 0. -5.  5.  0.  0.  0.]\n",
            " [ 0.  0. -5.  5.  0.  0.]\n",
            " [ 0.  0.  0. -5.  5.  0.]\n",
            " [ 0.  0.  0.  0. -5.  5.]\n",
            " [ 0.  0.  0.  0.  0. -5.]]\n"
          ]
        }
      ]
    },
    {
      "cell_type": "markdown",
      "source": [
        "Use the FD to evaluate the derivative of $f(x)=\\frac{x^2}{2}$"
      ],
      "metadata": {
        "id": "vFJoKMnYMThw"
      }
    },
    {
      "cell_type": "code",
      "source": [
        "t = sym.var('t')\n",
        "my_f = 0.5 * t**2\n",
        "fsym = sym.lambdify(t, my_f )\n",
        "\n",
        "a=0 \n",
        "b=1\n",
        "N = 100\n",
        "\n",
        "# Evaluate FD matrix\n",
        "FD=forward_difference(a,b,N)\n",
        "\n",
        "# Values of the derivative at the \n",
        "# internal grid points\n",
        "x=np.linspace(0,1,N+1)\n",
        "ux=FD.dot(fsym(x))[1:N]\n",
        "\n",
        "# Print results\n"
      ],
      "metadata": {
        "id": "6Nq2C60jL6PZ"
      },
      "execution_count": 15,
      "outputs": []
    },
    {
      "cell_type": "markdown",
      "source": [
        "**Exercise.** Find a way to evaluate execution time and compare full vs sparse exectution time"
      ],
      "metadata": {
        "id": "8sObv8G9YSof"
      }
    },
    {
      "cell_type": "code",
      "source": [
        "import time\n"
      ],
      "metadata": {
        "id": "gRg062qnTeQ4"
      },
      "execution_count": 11,
      "outputs": []
    },
    {
      "cell_type": "code",
      "source": [
        "sparse_time=[]\n",
        "total_time=[]\n",
        "for i in range(15):\n",
        "  N=2**N\n",
        "  x=np.linspace(0,1,N+1)\n",
        "  start_time=time.time()\n",
        "  ux_sparse=FD.dot(fsym(x))[1:N]\n",
        "  sparse_time[i]=time.time()-start_time\n",
        "  ux_full=FD.todense().dot(fsym(x))[1:N]\n",
        "  total_time[i]=time.time()-start_time\n",
        "  \n",
        "print(\"sparse time=\",sparse_time)\n",
        "print(\"full time=\",total_time)"
      ],
      "metadata": {
        "id": "3UQt6UvETeyS",
        "outputId": "ed5836d4-300c-4ccf-8d47-4c54a95b0601",
        "colab": {
          "base_uri": "https://localhost:8080/",
          "height": 390
        }
      },
      "execution_count": 20,
      "outputs": [
        {
          "output_type": "error",
          "ename": "ValueError",
          "evalue": "ignored",
          "traceback": [
            "\u001b[0;31m---------------------------------------------------------------------------\u001b[0m",
            "\u001b[0;31mValueError\u001b[0m                                Traceback (most recent call last)",
            "\u001b[0;32m<ipython-input-20-22d07b0bc6c2>\u001b[0m in \u001b[0;36m<module>\u001b[0;34m()\u001b[0m\n\u001b[1;32m      3\u001b[0m \u001b[0;32mfor\u001b[0m \u001b[0mi\u001b[0m \u001b[0;32min\u001b[0m \u001b[0mrange\u001b[0m\u001b[0;34m(\u001b[0m\u001b[0;36m15\u001b[0m\u001b[0;34m)\u001b[0m\u001b[0;34m:\u001b[0m\u001b[0;34m\u001b[0m\u001b[0;34m\u001b[0m\u001b[0m\n\u001b[1;32m      4\u001b[0m   \u001b[0mN\u001b[0m\u001b[0;34m=\u001b[0m\u001b[0;36m2\u001b[0m\u001b[0;34m**\u001b[0m\u001b[0mN\u001b[0m\u001b[0;34m\u001b[0m\u001b[0;34m\u001b[0m\u001b[0m\n\u001b[0;32m----> 5\u001b[0;31m   \u001b[0mx\u001b[0m\u001b[0;34m=\u001b[0m\u001b[0mnp\u001b[0m\u001b[0;34m.\u001b[0m\u001b[0mlinspace\u001b[0m\u001b[0;34m(\u001b[0m\u001b[0;36m0\u001b[0m\u001b[0;34m,\u001b[0m\u001b[0;36m1\u001b[0m\u001b[0;34m,\u001b[0m\u001b[0mN\u001b[0m\u001b[0;34m+\u001b[0m\u001b[0;36m1\u001b[0m\u001b[0;34m)\u001b[0m\u001b[0;34m\u001b[0m\u001b[0;34m\u001b[0m\u001b[0m\n\u001b[0m\u001b[1;32m      6\u001b[0m   \u001b[0mstart_time\u001b[0m\u001b[0;34m=\u001b[0m\u001b[0mtime\u001b[0m\u001b[0;34m.\u001b[0m\u001b[0mtime\u001b[0m\u001b[0;34m(\u001b[0m\u001b[0;34m)\u001b[0m\u001b[0;34m\u001b[0m\u001b[0;34m\u001b[0m\u001b[0m\n\u001b[1;32m      7\u001b[0m   \u001b[0mux_sparse\u001b[0m\u001b[0;34m=\u001b[0m\u001b[0mFD\u001b[0m\u001b[0;34m.\u001b[0m\u001b[0mdot\u001b[0m\u001b[0;34m(\u001b[0m\u001b[0mfsym\u001b[0m\u001b[0;34m(\u001b[0m\u001b[0mx\u001b[0m\u001b[0;34m)\u001b[0m\u001b[0;34m)\u001b[0m\u001b[0;34m[\u001b[0m\u001b[0;36m1\u001b[0m\u001b[0;34m:\u001b[0m\u001b[0mN\u001b[0m\u001b[0;34m]\u001b[0m\u001b[0;34m\u001b[0m\u001b[0;34m\u001b[0m\u001b[0m\n",
            "\u001b[0;32m<__array_function__ internals>\u001b[0m in \u001b[0;36mlinspace\u001b[0;34m(*args, **kwargs)\u001b[0m\n",
            "\u001b[0;32m/usr/local/lib/python3.7/dist-packages/numpy/core/function_base.py\u001b[0m in \u001b[0;36mlinspace\u001b[0;34m(start, stop, num, endpoint, retstep, dtype, axis)\u001b[0m\n\u001b[1;32m    133\u001b[0m \u001b[0;34m\u001b[0m\u001b[0m\n\u001b[1;32m    134\u001b[0m     \u001b[0mdelta\u001b[0m \u001b[0;34m=\u001b[0m \u001b[0mstop\u001b[0m \u001b[0;34m-\u001b[0m \u001b[0mstart\u001b[0m\u001b[0;34m\u001b[0m\u001b[0;34m\u001b[0m\u001b[0m\n\u001b[0;32m--> 135\u001b[0;31m     \u001b[0my\u001b[0m \u001b[0;34m=\u001b[0m \u001b[0m_nx\u001b[0m\u001b[0;34m.\u001b[0m\u001b[0marange\u001b[0m\u001b[0;34m(\u001b[0m\u001b[0;36m0\u001b[0m\u001b[0;34m,\u001b[0m \u001b[0mnum\u001b[0m\u001b[0;34m,\u001b[0m \u001b[0mdtype\u001b[0m\u001b[0;34m=\u001b[0m\u001b[0mdt\u001b[0m\u001b[0;34m)\u001b[0m\u001b[0;34m.\u001b[0m\u001b[0mreshape\u001b[0m\u001b[0;34m(\u001b[0m\u001b[0;34m(\u001b[0m\u001b[0;34m-\u001b[0m\u001b[0;36m1\u001b[0m\u001b[0;34m,\u001b[0m\u001b[0;34m)\u001b[0m \u001b[0;34m+\u001b[0m \u001b[0;34m(\u001b[0m\u001b[0;36m1\u001b[0m\u001b[0;34m,\u001b[0m\u001b[0;34m)\u001b[0m \u001b[0;34m*\u001b[0m \u001b[0mndim\u001b[0m\u001b[0;34m(\u001b[0m\u001b[0mdelta\u001b[0m\u001b[0;34m)\u001b[0m\u001b[0;34m)\u001b[0m\u001b[0;34m\u001b[0m\u001b[0;34m\u001b[0m\u001b[0m\n\u001b[0m\u001b[1;32m    136\u001b[0m     \u001b[0;31m# In-place multiplication y *= delta/div is faster, but prevents the multiplicant\u001b[0m\u001b[0;34m\u001b[0m\u001b[0;34m\u001b[0m\u001b[0;34m\u001b[0m\u001b[0m\n\u001b[1;32m    137\u001b[0m     \u001b[0;31m# from overriding what class is produced, and thus prevents, e.g. use of Quantities,\u001b[0m\u001b[0;34m\u001b[0m\u001b[0;34m\u001b[0m\u001b[0;34m\u001b[0m\u001b[0m\n",
            "\u001b[0;31mValueError\u001b[0m: Maximum allowed size exceeded"
          ]
        }
      ]
    },
    {
      "cell_type": "code",
      "source": [
        "%timeit ux_sparse=FD.dot(fsym(x))[1:N]"
      ],
      "metadata": {
        "id": "a6mTc-WqV8uO",
        "outputId": "ad7af6aa-8d3e-4973-c505-226c436d4ff3",
        "colab": {
          "base_uri": "https://localhost:8080/"
        }
      },
      "execution_count": 21,
      "outputs": [
        {
          "output_type": "stream",
          "name": "stdout",
          "text": [
            "The slowest run took 11.10 times longer than the fastest. This could mean that an intermediate result is being cached.\n",
            "100000 loops, best of 5: 15.7 µs per loop\n"
          ]
        }
      ]
    },
    {
      "cell_type": "markdown",
      "source": [
        "# Central finite differences in 1D"
      ],
      "metadata": {
        "id": "3EVlhgPcKty_"
      }
    },
    {
      "cell_type": "markdown",
      "source": [
        "Poisson problem in 1D:\n",
        "\n",
        "$-u''(x)=f(x) \\quad \\in (a,b)$\n",
        "\n",
        "$u(a)=0, \\quad u(b)=0$\n",
        "\n",
        "We use the second central divided difference to approxima the second derivative.\n",
        "\n",
        "Given $h>0$, \n",
        "\n",
        "$u''(x)≈\\frac{u(x+h)-2u(x)+u(x-h)}{h^2}$"
      ],
      "metadata": {
        "id": "cPX73u-NK2Pq"
      }
    },
    {
      "cell_type": "markdown",
      "source": [
        "Function for second central matrix"
      ],
      "metadata": {
        "id": "Uf1tUssmNf7d"
      }
    },
    {
      "cell_type": "code",
      "source": [
        "def CD2(N):\n",
        "  # Function defining numerator of\n",
        "  # second central FD formula on a \n",
        "  # uniform grid in sparse CSR format\n",
        "  data=[np.ones(N),-2*np.ones(N+1),np.ones(N)]\n",
        "  return sp.diags(data,[-1,0,1],format=\"csr\")"
      ],
      "metadata": {
        "id": "6AkrOqiXNcTJ"
      },
      "execution_count": 24,
      "outputs": []
    },
    {
      "cell_type": "code",
      "source": [
        "print(CD2(10).todense())"
      ],
      "metadata": {
        "id": "IjWULaxAW_rb",
        "outputId": "4d3694b7-2e74-45a5-a6f7-f44dd9582ca6",
        "colab": {
          "base_uri": "https://localhost:8080/"
        }
      },
      "execution_count": 26,
      "outputs": [
        {
          "output_type": "stream",
          "name": "stdout",
          "text": [
            "[[-2.  1.  0.  0.  0.  0.  0.  0.  0.  0.  0.]\n",
            " [ 1. -2.  1.  0.  0.  0.  0.  0.  0.  0.  0.]\n",
            " [ 0.  1. -2.  1.  0.  0.  0.  0.  0.  0.  0.]\n",
            " [ 0.  0.  1. -2.  1.  0.  0.  0.  0.  0.  0.]\n",
            " [ 0.  0.  0.  1. -2.  1.  0.  0.  0.  0.  0.]\n",
            " [ 0.  0.  0.  0.  1. -2.  1.  0.  0.  0.  0.]\n",
            " [ 0.  0.  0.  0.  0.  1. -2.  1.  0.  0.  0.]\n",
            " [ 0.  0.  0.  0.  0.  0.  1. -2.  1.  0.  0.]\n",
            " [ 0.  0.  0.  0.  0.  0.  0.  1. -2.  1.  0.]\n",
            " [ 0.  0.  0.  0.  0.  0.  0.  0.  1. -2.  1.]\n",
            " [ 0.  0.  0.  0.  0.  0.  0.  0.  0.  1. -2.]]\n"
          ]
        }
      ]
    },
    {
      "cell_type": "markdown",
      "source": [
        "Test problem:\n",
        "\n",
        "$(a,b)=(0,\\pi)$\n",
        "\n",
        "u(x)=sin(x)"
      ],
      "metadata": {
        "id": "kQFF0QdiNvCt"
      }
    },
    {
      "cell_type": "code",
      "source": [
        "# Define right-hand side function\n",
        "t = sym.var('t')\n",
        "my_f = sym.sin(t)\n",
        "rhs_f = sym.lambdify(t, my_f )\n",
        "\n",
        "# Define exact solution\n",
        "my_sol = sym.sin(t)\n",
        "exact_sol = sym.lambdify(t, my_sol )"
      ],
      "metadata": {
        "id": "6o6A_IUkNuMG"
      },
      "execution_count": 27,
      "outputs": []
    },
    {
      "cell_type": "markdown",
      "source": [
        "Define FD problem:\n",
        "\n",
        "for $h=(b-a)/N$\n",
        "\n",
        "$ A U = - h^2 F$ \n",
        "\n",
        "with $A$ the nominator of CD formula."
      ],
      "metadata": {
        "id": "SWzKNz0vOOWW"
      }
    },
    {
      "cell_type": "code",
      "source": [
        "# Problem domain\n",
        "a=0\n",
        "b=2*np.pi\n",
        "\n",
        "\n",
        "# Size of grid\n",
        "N=100\n",
        "h=(b-a)/N\n",
        "# Grid\n",
        "x=np.linspace(a,b,N+1)\n",
        "\n",
        "# CD matrix\n",
        "A=CD2(N)\n",
        "\n",
        "# Right-hand side\n",
        "F=-h**2*rhs_f(x[1:-1])\n",
        "\n",
        "# Homogeneous Dirichlet boundary conditions\n",
        "A=A[1:-1,1:-1]\n",
        "\n"
      ],
      "metadata": {
        "id": "9ZJJbGtGOME1"
      },
      "execution_count": 38,
      "outputs": []
    },
    {
      "cell_type": "markdown",
      "source": [
        "Import solver"
      ],
      "metadata": {
        "id": "3civ7pL9bGQe"
      }
    },
    {
      "cell_type": "code",
      "source": [
        "from scipy.sparse.linalg import spsolve"
      ],
      "metadata": {
        "id": "BEJ07uM1bJ07"
      },
      "execution_count": 39,
      "outputs": []
    },
    {
      "cell_type": "markdown",
      "source": [
        "Solve problem and print result"
      ],
      "metadata": {
        "id": "AKmPecQMO4Kr"
      }
    },
    {
      "cell_type": "code",
      "source": [
        "# Compute solution at internal nodes\n",
        "FD_sol=spsolve(A,F)\n",
        "\n",
        "#plot solution\n",
        "plt.plot(x[1:-1],FD_sol)\n",
        "# print max error\n",
        "print(np.max(np.abs(FD_sol-exact_sol(x[1:-1]))))\n"
      ],
      "metadata": {
        "id": "l7B-YKy9O5jF",
        "outputId": "f4de793d-3a0d-455b-ca2e-fee072f646e4",
        "colab": {
          "base_uri": "https://localhost:8080/",
          "height": 282
        }
      },
      "execution_count": 40,
      "outputs": [
        {
          "output_type": "stream",
          "name": "stdout",
          "text": [
            "0.00032905176294129035\n"
          ]
        },
        {
          "output_type": "display_data",
          "data": {
            "text/plain": [
              "<Figure size 432x288 with 1 Axes>"
            ],
            "image/png": "[encoded data removed]"
          },
          "metadata": {
            "needs_background": "light"
          }
        }
      ]
    },
    {
      "cell_type": "markdown",
      "source": [
        "**Exercise 1.** test for convergence and plot convergence plot"
      ],
      "metadata": {
        "id": "EbHL94cyPFWM"
      }
    },
    {
      "cell_type": "markdown",
      "source": [
        "**Exercise 2.** Solve the problem with nonhomogeneous Dirichlet conditions:\n",
        "\n",
        "$-\\alpha u''(x)=f(x) \\quad \\in (a,b)$\n",
        "\n",
        "$u(a)=u_a, \\quad u(b)=u_b$"
      ],
      "metadata": {
        "id": "T2QXoNYhP228"
      }
    },
    {
      "cell_type": "markdown",
      "source": [
        "For example, you could fix: $(a,b)=(0,\\pi/2)$, solution $u$ as before, $\\alpha=\\frac{1}{2}$"
      ],
      "metadata": {
        "id": "PWX-C4sbQd-p"
      }
    },
    {
      "cell_type": "markdown",
      "source": [
        "**Exercise 3.** Solve the problem with (homogeneous) Neumann conditions:\n",
        "\n",
        "$-\\alpha u''(x)=f(x) \\quad \\in (a,b)$\n",
        "\n",
        "$u(a)=u_a, \\quad u'(b)=0$"
      ],
      "metadata": {
        "id": "DwxTZDyTQ_cV"
      }
    },
    {
      "cell_type": "markdown",
      "source": [
        ""
      ],
      "metadata": {
        "id": "9RTu8ZaBcUJ_"
      }
    },
    {
      "cell_type": "markdown",
      "source": [
        "For example, you could fix: $(a,b)=(0,\\pi/2)$, solution $u$ as before, $\\alpha=1$."
      ],
      "metadata": {
        "id": "aySe91zwRMq3"
      }
    },
    {
      "cell_type": "markdown",
      "source": [
        "**Exercise 4.** Solve the reaction-advection-diffusion problem:\n",
        "\n",
        "$-\\alpha u''(x)+\\beta u''(x)+\\gamma u(x)=f(x) \\quad \\in (a,b)$\n",
        "\n",
        "$u(a)=u_a, \\quad u(b)=u_b$\n"
      ],
      "metadata": {
        "id": "MyrPdJSCSOeG"
      }
    },
    {
      "cell_type": "markdown",
      "source": [
        "**Exercise 5.** Now take any of the problems above, but this time with data such that you do not know the exact solution. How would you test the order of convergence of the FD method?"
      ],
      "metadata": {
        "id": "j8p08w7TRj34"
      }
    },
    {
      "cell_type": "markdown",
      "source": [
        "**Exersie 6.** Consider again the problem from Exercise 4.\n",
        "\n",
        "Fix $a=0$, $b=1$, $u_a=1$, $u_b=0$ $f=0$.\n",
        "\n",
        "Try first with $\\alpha=\\beta=\\gamma=1$ and plot the solution.\n",
        "\n",
        "Next, try with $\\alpha=0.01$, and $\\beta=1$, $\\gamma=0$. What happens? Can you explain?"
      ],
      "metadata": {
        "id": "V7wJbF9dcdqr"
      }
    }
  ]
}