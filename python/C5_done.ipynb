{
  "cells": [
    {
      "cell_type": "markdown",
      "metadata": {
        "colab_type": "text",
        "id": "view-in-github"
      },
      "source": [
        "<a href=\"https://colab.research.google.com/github/andreacangiani/NSPDE-ANA22/blob/main/python/C5.ipynb\" target=\"_parent\"><img src=\"https://colab.research.google.com/assets/colab-badge.svg\" alt=\"Open In Colab\"/></a>"
      ]
    },
    {
      "cell_type": "markdown",
      "metadata": {
        "id": "kmGtV67jT5OB"
      },
      "source": [
        "# Finite Element Method in 1D - any order"
      ]
    },
    {
      "cell_type": "markdown",
      "metadata": {
        "id": "n4E6Q4iET_cv"
      },
      "source": [
        "Finite Element Method solver of any order $k$ for the 1D Poisson problem:\n",
        "\n",
        "$-\\Delta u=f \\quad \\text{in } \\Omega=(a,b)$\n",
        "\n",
        "$u|_{\\partial\\Omega}=0$"
      ]
    },
    {
      "cell_type": "code",
      "execution_count": 1,
      "metadata": {
        "id": "5asorKOcUHgn"
      },
      "outputs": [],
      "source": [
        "import numpy as np\n",
        "import matplotlib.pyplot as plt\n",
        "import scipy.sparse as sp\n",
        "from scipy.sparse.linalg import spsolve\n",
        "import sympy as sym"
      ]
    },
    {
      "cell_type": "code",
      "execution_count": 2,
      "metadata": {
        "id": "orF2hMSNUNzv"
      },
      "outputs": [],
      "source": [
        "# Gauss quadrature formula on [0,1]\n",
        "def quadrature(n_quadrature_points):\n",
        "\n",
        "  # use numpy Gauss quadrature. This is defined in [-1,1]\n",
        "  q, w = np.polynomial.legendre.leggauss(n_quadrature_points)\n",
        "\n",
        "  return (q+1)/2, w/2"
      ]
    },
    {
      "cell_type": "code",
      "execution_count": 3,
      "metadata": {
        "id": "9PhJzOfsURqD"
      },
      "outputs": [],
      "source": [
        "def mesh(omega,N):\n",
        "  \n",
        "  return np.linspace(omega[0],omega[1],N+1)"
      ]
    },
    {
      "cell_type": "code",
      "execution_count": 4,
      "metadata": {
        "id": "2sYL59PETqf0"
      },
      "outputs": [],
      "source": [
        "# The reference element is [0,1]. We construct the mappings, the determinant of their Jacobians, and the \n",
        "# reference Basis functions\n",
        "# by L. Heltai\n",
        "\n",
        "def mapping(q, i):\n",
        "    \"\"\"\n",
        "    Returns the mapping from [0,1] to T_k := [q[k], q[k+1]]\n",
        "    \"\"\"\n",
        "    assert i < len(q)-1\n",
        "    assert i >= 0\n",
        "    return lambda x: q[i]+x*(q[i+1]-q[i])\n",
        "\n",
        "def mapping_J(q,i):\n",
        "    assert i < len(q)-1\n",
        "    assert i >= 0\n",
        "    return (q[i+1]-q[i])\n",
        "\n",
        "def lagrange_basis(q, i):\n",
        "    assert i < len(q)\n",
        "    assert i >= 0\n",
        "    return lambda x: np.prod([(x-q[j])/(q[i]-q[j]) for j in range(len(q)) if i!=j], axis=0)\n",
        "\n",
        "# Workaround, to allow lambdify to work also on constant expressions\n",
        "def np_lambdify(varname, func):\n",
        "    lamb = sym.lambdify(varname, func, modules=['numpy'])\n",
        "    if func.is_constant():\n",
        "        return lambda t: np.full_like(t, lamb(t))\n",
        "    else:\n",
        "        return lambda t: lamb(np.array(t))\n",
        "\n",
        "def lagrange_basis_derivative(q,i,order=1):\n",
        "    t = sym.var('t')\n",
        "    return np_lambdify(t, lagrange_basis(q,i)(t).diff(t,order))"
      ]
    },
    {
      "cell_type": "code",
      "execution_count": 5,
      "metadata": {
        "id": "vJ_D10wacmBz"
      },
      "outputs": [],
      "source": [
        "def mesh(omega,N):\n",
        "  \n",
        "  return np.linspace(omega[0],omega[1],N+1)"
      ]
    },
    {
      "cell_type": "markdown",
      "metadata": {
        "id": "yulFfPrzcpWw"
      },
      "source": [
        "FEM code any order"
      ]
    },
    {
      "cell_type": "code",
      "execution_count": 6,
      "metadata": {
        "id": "knoV9bt2ckfC"
      },
      "outputs": [],
      "source": [
        "def FEM(omega,M,degree,n_qpoints,rhs):\n",
        "  # 1D FEM with k=degree system matrix and rhs for\n",
        "  # diffusion problem\n",
        "\n",
        "  # Dimension of the problem\n",
        "  N = M*degree+1\n",
        "\n",
        "  # grid\n",
        "  vertices = mesh(omega,M)\n",
        "\n",
        "  # reference element\n",
        "  q,w=quadrature(n_qpoints)\n",
        "  ref_nodes=np.linspace(0,1,degree+1)\n",
        "\n",
        "  # Evaluation of Lagrange basis\n",
        "  phi = np.array([lagrange_basis(ref_nodes,i)(q) for i in range(degree+1)]).T\n",
        "  dphi = np.array([lagrange_basis_derivative(ref_nodes,i)(q) for i in range(degree+1)]).T\n",
        "\n",
        "  # initialise system\n",
        "  A = sp.lil_matrix((N, N))\n",
        "  F = np.zeros(N)\n",
        "\n",
        "  for i in range(M):\n",
        "    JxW = mapping_J(vertices,i) * w\n",
        "    ele_A = np.einsum('qi,qj,q',dphi,dphi,JxW) / mapping_J(vertices,i)**2\n",
        "    ele_F = np.einsum('qi,q,q',phi,rhs(mapping(vertices, i)(q)),JxW)\n",
        "\n",
        "    # Assembly local-to-global\n",
        "    j=i*degree\n",
        "    m=j+degree+1\n",
        "    A[j:m,j:m] += ele_A\n",
        "    F[j:m] += ele_F\n",
        "\n",
        "    # Assembly local-to-global\n",
        "\n",
        "\n",
        "  return A, F"
      ]
    },
    {
      "cell_type": "markdown",
      "metadata": {
        "id": "Ui5EW0VGc8Ed"
      },
      "source": [
        "Apply boundary conditions"
      ]
    },
    {
      "cell_type": "code",
      "execution_count": 7,
      "metadata": {
        "id": "XxN3dlxOc6Df"
      },
      "outputs": [],
      "source": [
        "def apply_boundary_conditions(omega,A, F, g):\n",
        "  # Ideally should scale entries as those of A\n",
        "  N = A.shape[0] - 1\n",
        "  A[0,A[0].nonzero()] = 0; A[0,0] = 1;  F[0]=g(omega[0])\n",
        "  A[N,A[N].nonzero()] = 0; A[N,N] = 1; F[N]=g(omega[1])"
      ]
    },
    {
      "cell_type": "markdown",
      "metadata": {
        "id": "K-Bi-KG-c97-"
      },
      "source": [
        "and solve"
      ]
    },
    {
      "cell_type": "code",
      "execution_count": 8,
      "metadata": {
        "id": "BB_Cz-Ubd3A_"
      },
      "outputs": [],
      "source": [
        "# Problem\n",
        "omega = [0,np.pi]\n",
        "rhs = lambda x: np.sin(x)\n",
        "sol = lambda x: np.sin(x)\n",
        "\n",
        "# degree of FEM basis\n",
        "degree = 2\n",
        "\n",
        "# Number of quadrature points\n",
        "n_qpoints = 2*degree+1  #(theoretical)\n",
        "\n",
        "# Number of experiments\n",
        "no_experiments = 7\n",
        "\n",
        "# Initialize \n",
        "MM = np.zeros(no_experiments)\n",
        "discrete_max_err = np.zeros(no_experiments)\n",
        "interpola_H1_err = np.zeros(no_experiments)\n",
        "conditioning = np.zeros(no_experiments)\n",
        "\n",
        "# Solution loop\n",
        "for i in range(no_experiments):\n",
        "  M = 2**(i+4)\n",
        "  MM[i] = M\n",
        "  N = M*degree+1\n",
        "\n",
        "  # call function computing FEM system\n",
        "  A, F = FEM(omega,M,degree,n_qpoints,rhs)\n",
        "\n",
        "  S=A\n",
        "  # and apply boundary conditions\n",
        "  apply_boundary_conditions(omega,A, F, sol)\n",
        "\n",
        "  # Solve the system\n",
        "  A = A.tocsr()\n",
        "  Uh = sp.linalg.spsolve(A,F)\n",
        "\n",
        "  # Compute exact solution\n",
        "  x = np.linspace(omega[0],omega[1],N)\n",
        "  U = sol(x)\n",
        "\n",
        "  # Compute discrete max norm error\n",
        "  discrete_max_err[i] = max(abs(U-Uh))\n",
        "  # Compute H1 norm of I_h u - u_h\n",
        "  interpola_H1_err[i] = (U-Uh).dot(S.dot(U-Uh))"
      ]
    },
    {
      "cell_type": "code",
      "execution_count": 26,
      "metadata": {
        "id": "WMXxzNqcd-gX"
      },
      "outputs": [
        {
          "data": {
            "text/plain": [
              "[<matplotlib.lines.Line2D at 0x208cbc4fac0>]"
            ]
          },
          "execution_count": 26,
          "metadata": {},
          "output_type": "execute_result"
        },
        {
          "data": {
            "image/png": "[encoded data removed]",
            "text/plain": [
              "<Figure size 432x288 with 1 Axes>"
            ]
          },
          "metadata": {
            "needs_background": "light"
          },
          "output_type": "display_data"
        }
      ],
      "source": [
        "# Error loglog plots\n",
        "plt.loglog(MM,discrete_max_err,'o-')\n",
        "plt.loglog(MM,interpola_H1_err**(1/2),'bd-')\n",
        "plt.loglog(MM,MM**(-(degree+1)),'r')"
      ]
    },
    {
      "cell_type": "markdown",
      "metadata": {
        "id": "CEoxSSHpeFxl"
      },
      "source": [
        "**Exercise 1**: Write function computing $H^1$-norm error and test convergence for $k>1$."
      ]
    },
    {
      "cell_type": "code",
      "execution_count": 9,
      "metadata": {},
      "outputs": [],
      "source": [
        "def FEMk_H1(omega,M,n_qpoints,Uh,dsol,degree):\n",
        "  # H1 error \n",
        "\n",
        "  # Dimension of the problem\n",
        "  N = M*degree+1\n",
        "\n",
        "  # grid\n",
        "  vertices = mesh(omega,M)\n",
        "\n",
        "  # reference element\n",
        "  q,w=quadrature(n_qpoints)\n",
        "  ref_nodes=np.linspace(0,1,degree+1)\n",
        "\n",
        "  # Evaluation of Lagrange basis\n",
        "  dphi = np.array([lagrange_basis_derivative(ref_nodes,i)(q) for i in range(degree+1)]).T\n",
        "\n",
        "  # initialise value of norm of error\n",
        "  error = 0\n",
        "\n",
        "  # Assembly error\n",
        "  for i in range(M):\n",
        "    JxW = mapping_J(vertices,i) * w\n",
        "    DUUh2 = ( dsol(mapping(vertices,i)(q)) - np.einsum('i,qi',Uh[i:i+degree+1],dphi/mapping_J(vertices,i)))**2 \n",
        "    error += DUUh2.dot(JxW)\n",
        "\n",
        "  # Return error\n",
        "  return error"
      ]
    },
    {
      "cell_type": "markdown",
      "metadata": {},
      "source": [
        "Test"
      ]
    },
    {
      "cell_type": "code",
      "execution_count": 24,
      "metadata": {},
      "outputs": [
        {
          "data": {
            "text/plain": [
              "[<matplotlib.lines.Line2D at 0x186ae1ea940>]"
            ]
          },
          "execution_count": 24,
          "metadata": {},
          "output_type": "execute_result"
        },
        {
          "data": {
            "image/png": "[encoded data removed]",
            "text/plain": [
              "<Figure size 432x288 with 1 Axes>"
            ]
          },
          "metadata": {
            "needs_background": "light"
          },
          "output_type": "display_data"
        }
      ],
      "source": [
        "#Problem\n",
        "omega = [0,1]\n",
        "rhs = lambda x: np.sin(x)\n",
        "\n",
        "t = sym.var('t')\n",
        "my_sol = sym.sin(t)\n",
        "sol = sym.lambdify(t, my_sol )\n",
        "d_sol = sym.lambdify(t, my_sol.diff(t, 1) )\n",
        "\n",
        "#degreee of FEM basis\n",
        "degree=3\n",
        "# Number of quadrature points\n",
        "n_qpoints = 2*degree+1  #(theoretical)\n",
        "# Number of experiments\n",
        "no_experiments = 7\n",
        "\n",
        "# Initialize \n",
        "MM = np.zeros(no_experiments)\n",
        "true_H1_err = np.zeros(no_experiments)\n",
        "\n",
        "for i in range(no_experiments):\n",
        "  M = 2**(i+2)\n",
        "  MM[i] = M\n",
        "  N=M*degree+1\n",
        "  # call function computing FEM system\n",
        "  A, F = FEM(omega,M,degree,n_qpoints,rhs)\n",
        "\n",
        "\n",
        "  # and apply boundary conditions\n",
        "  apply_boundary_conditions(omega, A, F, sol)\n",
        "\n",
        "\n",
        "  # Solve the system\n",
        "  A = A.tocsr()\n",
        "  Uh = sp.linalg.spsolve(A,F)\n",
        "\n",
        "  # Evaluate derivative of exact solution \n",
        "  true_H1_err[i] = FEMk_H1(omega,M,7,Uh,d_sol,degree)\n",
        "\n",
        "  # Compute exact solution\n",
        "  x = np.linspace(omega[0],omega[1],N)\n",
        "  U = sol(x)\n",
        "\n",
        "  # Compute discrete max norm error\n",
        "  discrete_max_err[i] = max(abs(U-Uh))\n",
        "  # Compute H1 norm of I_h u - u_h\n",
        "  interpola_H1_err[i] = (U-Uh).dot(A.dot(U-Uh))\n",
        "\n",
        "\n",
        "# Error loglog plots\n",
        "plt.loglog(MM,true_H1_err**(1/2),'o-',label=\"true H1 err\")\n",
        "plt.loglog(MM,MM**(-1))\n",
        "plt.loglog(MM,discrete_max_err,'o-')\n",
        "plt.loglog(MM,interpola_H1_err**(1/2),'bd-')\n",
        "plt.loglog(MM,MM**(-(degree+1)),'r')"
      ]
    },
    {
      "cell_type": "markdown",
      "metadata": {
        "id": "24UlTMHOevaa"
      },
      "source": [
        "# Linear FEM code with mesh class"
      ]
    },
    {
      "cell_type": "markdown",
      "metadata": {
        "id": "qaZzv0J8e4Fd"
      },
      "source": [
        "Proper 1D mesh class"
      ]
    },
    {
      "cell_type": "code",
      "execution_count": 27,
      "metadata": {
        "id": "Dfh3TWyye_tx"
      },
      "outputs": [],
      "source": [
        "class IntervalMesh(object):\n",
        "    \"\"\"\n",
        "    This class contains the implementation of 1D mesh.\n",
        "\n",
        "    Parameters\n",
        "    ----------\n",
        "    vertices : 1D numpy array\n",
        "        numpy array containing the coordinates of the vertices of the mesh\n",
        "    cells : 2D numpy array\n",
        "        numpy array containing the connectivity from topological dimension 1 to topological dimension 0,\n",
        "        given a row index c (which corresponds to the c-th cell) what are the two IDs of the two vertices\n",
        "        of the cell c\n",
        "\n",
        "    Attributes\n",
        "    ----------\n",
        "    topology : dict\n",
        "        dictionary mapping the pair (topological dimension i, topological dimension j)\n",
        "        to the connectivity i to j.\n",
        "        Notable cases:\n",
        "            * (i, j) = (0, 0): this case is not stored, because it would be the identity\n",
        "            * (i, j) = (0, 1): the connectivity 0 to 1 is a dictionary mapping the\n",
        "                               ID of the vertex to the IDs of all cells incident on that vertex.\n",
        "                               This is obtained reversing the \"cells\" input argument.\n",
        "            * (i, j) = (1, 0): the connectivity 1 to 0 is a dictionary mapping the\n",
        "                               ID of the cell to the IDs of all vertices of that cell.\n",
        "                               Note that this is simply the \"cells\" input argument!\n",
        "            * (i, j) = (1, 1): this case is not stored, because it would be the identity\n",
        "    num_entities : dict\n",
        "        dictionary mapping the topological dimension i to the number of entities of that dimension\n",
        "        Notable cases:\n",
        "            * i = 0: number of vertices in the mesh\n",
        "            * i = 1: number of cells in the mesh\n",
        "    geometry : dict\n",
        "        dictionary mapping the topological dimension i to the coordinates for all entities of\n",
        "        that dimension.\n",
        "        Notable cases:\n",
        "            * i = 0: the geometry 0 is a dictionary mapping the ID of the vertex to its coordinate.\n",
        "                     Note that this is simply the \"vertices\" input argument!\n",
        "            * i = 1: this case is not stored, because it suffices to use the topological information\n",
        "                     to recover geometrical locations of cells once vertices coordinates are known\n",
        "    by F. Ballarin\n",
        "    \"\"\"\n",
        "\n",
        "    def __init__(self, vertices, cells):\n",
        "        num_vertices = vertices.shape[0]\n",
        "        num_cells = cells.shape[0]\n",
        "\n",
        "        # --- Topological definition --- #\n",
        "        # (i, j) = (1, 0)\n",
        "        cells_to_vertices_connectivity = {\n",
        "            # ID of the cell: IDs of all vertices of that cell\n",
        "            c: cells[c, :] for c in range(num_cells)\n",
        "        }\n",
        "        # (i, j) = (0, 1)\n",
        "        vertices_to_cells_connectivity = {\n",
        "            # ID of the vertex: IDs of all cells incident on that vertex\n",
        "            v: list() for v in range(num_vertices)\n",
        "        }\n",
        "        for c in range(num_cells):\n",
        "            for v in cells[c, :]:\n",
        "                vertices_to_cells_connectivity[v].append(c)\n",
        "        # Store the connectivities\n",
        "        self.topology = {\n",
        "            # (topological dimension i, topological dimension j): connectivity i to j\n",
        "            (1, 0): cells_to_vertices_connectivity,\n",
        "            (0, 1): vertices_to_cells_connectivity\n",
        "            # note that there are no \"(0, 0)\" and \"(1, 1)\" cases, because they are not needed\n",
        "            # (as they would be the identity).\n",
        "        }\n",
        "        # Store the number of entities\n",
        "        self.num_entities = {\n",
        "            # dimension: number of entities of that dimension\n",
        "            0: num_vertices,\n",
        "            1: num_cells\n",
        "        }\n",
        "\n",
        "        # --- Geometrical definition --- #\n",
        "        # i = 0\n",
        "        vertices_coordinates = {\n",
        "            # vertex id: vertex coordinate\n",
        "            v: vertices[v] for v in range(num_vertices)\n",
        "        }\n",
        "        # Store the geometry\n",
        "        self.geometry = {\n",
        "            # dimension: coordinates for all entities of that dimension\n",
        "            0: vertices_coordinates\n",
        "            # note that there is no case \"1: \", because it is not needed (as it suffices to use\n",
        "            # topological information to recover geometrical locations of edges once vertex\n",
        "            # coordinates are known).\n",
        "        }"
      ]
    },
    {
      "cell_type": "markdown",
      "metadata": {
        "id": "a3Jy9p4UfHVL"
      },
      "source": [
        "Implementation of uniform mesh"
      ]
    },
    {
      "cell_type": "code",
      "execution_count": 28,
      "metadata": {
        "id": "FQWGXvnffFUi"
      },
      "outputs": [],
      "source": [
        "def equispaced_interval_mesh(interval, n):\n",
        "    \"\"\"\n",
        "    Generate a 1D mesh of the interval provided as the first argument composed of n cells of equal length,\n",
        "    by initializing an IntervalMesh object.\n",
        "\n",
        "    Parameters\n",
        "    ----------\n",
        "    interval : list\n",
        "        list of two numbers, representing the two endpoints on the domain.\n",
        "    n : int\n",
        "        number of cells.\n",
        "\n",
        "    Returns\n",
        "    -------\n",
        "    IntervalMesh\n",
        "        object representing the mesh of the interval.\n",
        "    \"\"\"\n",
        "\n",
        "    vertices = np.linspace(interval[0], interval[1], n + 1)\n",
        "    cells = np.array([[i, i + 1] for i in range(n)])\n",
        "\n",
        "    #print(\"Generating 1D mesh on the interval\", interval, \"with\", n, \"cells\")\n",
        "    #print(\"Vertices:\\n\", vertices)\n",
        "    #print(\"Cells:\\n\", cells)\n",
        "    return IntervalMesh(vertices, cells)"
      ]
    },
    {
      "cell_type": "markdown",
      "metadata": {
        "id": "JI7yGF5TfnPj"
      },
      "source": [
        "Test unifrom mesh"
      ]
    },
    {
      "cell_type": "markdown",
      "metadata": {
        "id": "4sMeGnzufKLd"
      },
      "source": [
        "Implementation of nonuniform mesh obtained by perturbation of uniform mesh"
      ]
    },
    {
      "cell_type": "code",
      "execution_count": 32,
      "metadata": {
        "id": "MepxFiyhfY0w"
      },
      "outputs": [],
      "source": [
        "def random_interval_mesh(interval, n):\n",
        "    \"\"\"\n",
        "    Generate a 1D mesh of the interval provided as the first argument composed of n cells of equal length,\n",
        "    by initializing an IntervalMesh object.\n",
        "\n",
        "    Parameters\n",
        "    ----------\n",
        "    interval : list\n",
        "        list of two numbers, representing the two endpoints on the domain.\n",
        "    n : int\n",
        "        number of cells.\n",
        "\n",
        "    Returns\n",
        "    -------\n",
        "    IntervalMesh\n",
        "        object representing the mesh of the interval.\n",
        "    \"\"\"\n",
        "\n",
        "    # Uniform mesh\n",
        "    vertices = np.linspace(interval[0], interval[1], n + 1)\n",
        "    # Random perturbation\n",
        "    h=(interval[1]-interval[0])/n\n",
        "    for i in range(1,n):\n",
        "        vertices[i]+= (h/3)*(2*np.random.rand(1)-1)\n",
        "\n",
        "\n",
        "    cells = np.array([[i, i + 1] for i in range(n)])\n",
        "\n",
        "    return IntervalMesh(vertices, cells)"
      ]
    },
    {
      "cell_type": "code",
      "execution_count": 38,
      "metadata": {},
      "outputs": [
        {
          "name": "stdout",
          "output_type": "stream",
          "text": [
            "2\n"
          ]
        }
      ],
      "source": [
        "mesh=random_interval_mesh([0,1],7)\n",
        "print(np.size(mesh.topology[(0,1)][1]))\n"
      ]
    },
    {
      "cell_type": "markdown",
      "metadata": {
        "id": "xxTrDugug3j2"
      },
      "source": [
        "Our old Transformation of coordinates functions"
      ]
    },
    {
      "cell_type": "code",
      "execution_count": 34,
      "metadata": {
        "id": "o9bj6OJutUVJ"
      },
      "outputs": [],
      "source": [
        "# Transformation of coordinates:\n",
        "# reference element -> current element\n",
        "# [0,1] -> [q[i], q[i+1]]\n",
        "\n",
        "def mapping(q, i):\n",
        "    \n",
        "    # check index is within range\n",
        "    assert i < len(q)-1\n",
        "    assert i >= 0\n",
        "\n",
        "    return lambda x: q[i]+x*(q[i+1]-q[i])\n",
        "\n",
        "def mapping_J(q,i):\n",
        "    assert i < len(q)-1\n",
        "    assert i >= 0\n",
        "    return (q[i+1]-q[i])\n",
        "\n",
        "# Linear lagrange basis on reference element\n",
        "def basis1(i):\n",
        "    assert i < 2\n",
        "    assert i >= 0\n",
        "    if i == 0:\n",
        "      phi = lambda x: 1-x\n",
        "    else:\n",
        "      phi = lambda x: x\n",
        "    return phi\n",
        "\n",
        "# Linear lagrange basis derivatives on reference element\n",
        "def basis1_derivative(i):\n",
        "    assert i < 2\n",
        "    assert i >= 0\n",
        "    if i == 0:\n",
        "      dphi = lambda x: -np.ones(len(x))\n",
        "    else:\n",
        "      dphi = lambda x: np.ones(len(x))\n",
        "    return dphi"
      ]
    },
    {
      "cell_type": "markdown",
      "metadata": {
        "id": "nCPpIRbTtYVa"
      },
      "source": [
        "New function implementing linear FEM system"
      ]
    },
    {
      "cell_type": "code",
      "execution_count": 39,
      "metadata": {
        "id": "m6nAlMgctfk7"
      },
      "outputs": [],
      "source": [
        "def FEM1_1D_GAUSS(omega,mesh,n_qpoints,rhs):\n",
        "  # 1D FEM with k=1 system matrix and rhs for\n",
        "  # diffusion problem with\n",
        "  # homogeneous Dirichlet bc\n",
        "  # uniform grid\n",
        "\n",
        "  # grid\n",
        "  vertices=np.array(list(mesh.geometry[0].values()))\n",
        "  cells=mesh.topology[(1,0)]\n",
        "  N=vertices.size\n",
        "  # quadrature formula on reference element\n",
        "  q, w = quadrature(n_qpoints)\n",
        "\n",
        "  # Evaluation of linear Lagrange basis \n",
        "  phi = np.array([basis1(i)(q) for i in range(2)]).T\n",
        "  dphi = np.array([basis1_derivative(i)(q) for i in range(2)]).T\n",
        "\n",
        "  # initialise system\n",
        "  A = sp.lil_matrix((N, N))\n",
        "  F = np.zeros(N)\n",
        "\n",
        "  for i in cells:\n",
        "    JxW = mapping_J(vertices,i) * w\n",
        "    ele_A = np.einsum('qi,qj,q',dphi,dphi,JxW) / mapping_J(vertices,i)**2#h**2\n",
        "    ele_F = np.einsum('qi,q,q',phi,rhs(mapping(vertices, i)(q)),JxW)\n",
        "\n",
        "    # Assembly local-to-global\n",
        "    A[np.ix_(cells[i],cells[i])]+= ele_A\n",
        "    F[cells[i]] += ele_F\n",
        "\n",
        "\n",
        "  return A, F"
      ]
    },
    {
      "cell_type": "markdown",
      "metadata": {
        "id": "mczafdrluEsw"
      },
      "source": [
        "Apply boundary conditions"
      ]
    },
    {
      "cell_type": "code",
      "execution_count": 40,
      "metadata": {
        "id": "XchWs6S7uGTR"
      },
      "outputs": [],
      "source": [
        "def apply_boundary_conditions(omega,mesh, A, F, g):\n",
        "  # Ideally should scale entries as those of A\n",
        "  vertices=np.array(list(mesh.geometry[0].values()))\n",
        "  cells=mesh.topology[(1,0)]\n",
        "  N=vertices.size\n",
        "  for i in range(N):\n",
        "      if np.size(mesh.topology[(0,1)][i])==1:\n",
        "        A[i,A[i].nonzero()]=0;A[i,i]=1;F[i]=g(vertices[i])\n"
      ]
    },
    {
      "cell_type": "markdown",
      "metadata": {
        "id": "Q9w3rBY3uKFE"
      },
      "source": [
        "Solve problem"
      ]
    },
    {
      "cell_type": "code",
      "execution_count": 42,
      "metadata": {
        "id": "RAUo4avCuLZX"
      },
      "outputs": [
        {
          "name": "stdout",
          "output_type": "stream",
          "text": [
            "discrete max norm error =  2.3956477912534524e-09\n"
          ]
        }
      ],
      "source": [
        "omega = [0,np.pi]\n",
        "rhs = lambda x: np.sin(x)#np.ones(len(x))\n",
        "exact = lambda x: np.sin(x)\n",
        "\n",
        "# Number of Gauss quadrature points\n",
        "n_qpoints = 3\n",
        "\n",
        "# Number of intervals\n",
        "N=10; \n",
        "mesh = equispaced_interval_mesh(omega, N)\n",
        "#mesh = random_interval_mesh(omega, N)\n",
        "#print(np.array(list(mesh.geometry[0].values())))\n",
        "\n",
        "A, F = FEM1_1D_GAUSS(omega,mesh,n_qpoints,rhs)\n",
        "apply_boundary_conditions(omega,mesh, A, F, exact)\n",
        "\n",
        "#print(A.todense())\n",
        "\n",
        "A = A.tocsr()\n",
        "Uh = sp.linalg.spsolve(A,F)\n",
        "\n",
        "x = np.linspace(omega[0],omega[1],N+1)\n",
        "\n",
        "U = exact(x)\n",
        "\n",
        "print(\"discrete max norm error = \", max(abs(U-Uh)))"
      ]
    },
    {
      "cell_type": "markdown",
      "metadata": {
        "id": "Xcquybc4WF1q"
      },
      "source": [
        "**Exercise**: Implement FEM of any order using the mesh class approach "
      ]
    }
  ],
  "metadata": {
    "colab": {
      "authorship_tag": "ABX9TyMJLKHqw8H1umW5JgAdgXqc",
      "include_colab_link": true,
      "name": "C5.ipynb",
      "provenance": []
    },
    "kernelspec": {
      "display_name": "Python 3",
      "name": "python3"
    },
    "language_info": {
      "codemirror_mode": {
        "name": "ipython",
        "version": 3
      },
      "file_extension": ".py",
      "mimetype": "text/x-python",
      "name": "python",
      "nbconvert_exporter": "python",
      "pygments_lexer": "ipython3",
      "version": "3.9.12"
    }
  },
  "nbformat": 4,
  "nbformat_minor": 0
}
