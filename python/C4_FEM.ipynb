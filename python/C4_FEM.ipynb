{
  "cells": [
    {
      "cell_type": "markdown",
      "metadata": {
        "colab_type": "text",
        "id": "view-in-github"
      },
      "source": [
        "<a href=\"https://colab.research.google.com/github/andreacangiani/NSPDE-ANA22/blob/main/python/C4_FEM.ipynb\" target=\"_parent\"><img src=\"https://colab.research.google.com/assets/colab-badge.svg\" alt=\"Open In Colab\"/></a>"
      ]
    },
    {
      "cell_type": "markdown",
      "metadata": {
        "id": "zB4VXUN-IBC6"
      },
      "source": [
        "# Finite Element Method in 1D"
      ]
    },
    {
      "cell_type": "markdown",
      "metadata": {
        "id": "yuQpsduuIGBS"
      },
      "source": [
        "1. Linear ($k=1$) Finite Element Method solver for the 1D Poisson problem:\n",
        "\n",
        "$-\\Delta u=f \\quad \\text{in } \\Omega=(a,b)$\n",
        "\n",
        "$u|_{\\partial\\Omega}=0$"
      ]
    },
    {
      "cell_type": "markdown",
      "metadata": {
        "id": "3uZh9S5ZIYZi"
      },
      "source": [
        "Import usual modules"
      ]
    },
    {
      "cell_type": "code",
      "execution_count": 1,
      "metadata": {
        "id": "7ECrogObH7yZ"
      },
      "outputs": [],
      "source": [
        "import numpy as np\n",
        "import matplotlib.pyplot as plt\n",
        "import scipy.sparse as sp\n",
        "from scipy.sparse.linalg import spsolve\n",
        "from scipy.sparse.linalg import eigsh"
      ]
    },
    {
      "cell_type": "markdown",
      "metadata": {
        "id": "ZA-GnWjJIj2F"
      },
      "source": [
        "FEM system assembly with trapezoidal rule for rhs"
      ]
    },
    {
      "cell_type": "code",
      "execution_count": 2,
      "metadata": {
        "id": "WpXoSBYkIpZv"
      },
      "outputs": [],
      "source": [
        "def FEM1_1D_TRAP(omega,N,rhs):\n",
        "  # 1D FEM with k=1 system matrix and rhs for\n",
        "  # diffusion problem with homogeneous Dirichlet bc\n",
        "  # trapezoidal rule uniform grid\n",
        "\n",
        "  # grid is defined here as uniform grid\n",
        "  h = (omega[1]-omega[0])/N\n",
        "  vertices = np.linspace(omega[0],omega[1],N+1)\n",
        "\n",
        "  # initialise system\n",
        "  A = sp.lil_matrix((N+1, N+1))\n",
        "  F = np.zeros(N+1)\n",
        "  \n",
        "  # Assembly loop\n",
        "  for i in range(N):\n",
        "    # Local contributions\n",
        "    ele_A = np.matrix([[1/h, -1/h],[-1/h, 1/h]])\n",
        "    ele_F = 0.5 * h * rhs(vertices[i:i+2])\n",
        "\n",
        "    # Assembly local-to-global\n",
        "    A[i:i+2,i:i+2] += ele_A\n",
        "    F[i:i+2] += ele_F\n",
        "\n",
        "  # Apply boundary conditions\n",
        "  A[0,0] = 1/h; A[0,1] = 0; F[0]=0\n",
        "  A[N,N] = 1/h; A[N,N-1] = 0; F[N]=0  \n",
        "\n",
        "  # return system matrix and rhs vector\n",
        "  return A, F"
      ]
    },
    {
      "cell_type": "markdown",
      "metadata": {
        "id": "Lk6jlfygJX9c"
      },
      "source": [
        "Define FEM problem and solve"
      ]
    },
    {
      "cell_type": "code",
      "execution_count": 3,
      "metadata": {
        "colab": {
          "base_uri": "https://localhost:8080/",
          "height": 284
        },
        "id": "Haoo0fWRJbLa",
        "outputId": "c5e832f1-6ce9-4655-e75a-37ca9da4408a"
      },
      "outputs": [
        {
          "name": "stdout",
          "output_type": "stream",
          "text": [
            "discrete max norm error =  0.008265416966228623\n"
          ]
        },
        {
          "data": {
            "image/png": "[encoded data removed]",
            "text/plain": [
              "<Figure size 432x288 with 1 Axes>"
            ]
          },
          "metadata": {
            "needs_background": "light"
          },
          "output_type": "display_data"
        }
      ],
      "source": [
        "\n",
        "omega = [0,np.pi]\n",
        "rhs = lambda x: np.sin(x)\n",
        "exact = lambda x: np.sin(x)\n",
        "\n",
        "N=10; \n",
        "n_qpoints = 3\n",
        "\n",
        "# call function computing FEM system\n",
        "A, F = FEM1_1D_TRAP(omega,N,rhs)\n",
        "\n",
        "# solve\n",
        "A = A.tocsr()\n",
        "Uh = sp.linalg.spsolve(A,F)\n",
        "\n",
        "# Plot solution\n",
        "x = np.linspace(omega[0],omega[1],N+1)\n",
        "plt.plot(x,Uh)\n",
        "\n",
        "# Evaluate exact solution at grid nodes\n",
        "U = exact(x)\n",
        "\n",
        "# compute discrete max norm error \n",
        "print(\"discrete max norm error = \", max(abs(U-Uh)))"
      ]
    },
    {
      "cell_type": "markdown",
      "metadata": {
        "id": "H4eLL1bxKjxA"
      },
      "source": [
        "2. Repeat exercise but using arbitrary order Gauss integration and possibly nonuniform grid"
      ]
    },
    {
      "cell_type": "code",
      "execution_count": 4,
      "metadata": {
        "id": "K76sA6orKq44"
      },
      "outputs": [],
      "source": [
        "# Gauss quadrature formula on [0,1]\n",
        "def quadrature(n_quadrature_points):\n",
        "\n",
        "  # exploit numpy Gauss quadrature. This is defined in [-1,1]\n",
        "  q, w = np.polynomial.legendre.leggauss(n_quadrature_points)\n",
        "\n",
        "  return (q+1)/2, w/2"
      ]
    },
    {
      "cell_type": "markdown",
      "metadata": {
        "id": "dXYP11H2WI73"
      },
      "source": [
        "Function defining the mesh"
      ]
    },
    {
      "cell_type": "code",
      "execution_count": 5,
      "metadata": {
        "id": "Lwu1e4TsVyjA"
      },
      "outputs": [],
      "source": [
        "def mesh(omega,N):\n",
        "  return np.linspace(omega[0],omega[1],N+1)"
      ]
    },
    {
      "cell_type": "markdown",
      "metadata": {
        "id": "5ggpOGCCKx0e"
      },
      "source": [
        "Define reference element transformation of coordinates"
      ]
    },
    {
      "cell_type": "code",
      "execution_count": 6,
      "metadata": {
        "id": "EbTQ7oWvKw4O"
      },
      "outputs": [],
      "source": [
        "# Transformation of coordinates functions:\n",
        "# reference element -> current element\n",
        "# [0,1] -> [q[i], q[i+1]]\n",
        "\n",
        "def mapping(q, i):\n",
        "    \n",
        "    # check index is within range\n",
        "    assert i < len(q)-1\n",
        "    assert i >= 0\n",
        "\n",
        "    return lambda x: q[i]+x*(q[i+1]-q[i])\n",
        "\n",
        "def mapping_J(q,i):\n",
        "    assert i < len(q)-1\n",
        "    assert i >= 0\n",
        "    return (q[i+1]-q[i])\n",
        "\n",
        "# Linear lagrange basis on reference element\n",
        "def basis1(i):\n",
        "    assert i < 2\n",
        "    assert i >= 0\n",
        "    if i == 0:\n",
        "      phi = lambda x: 1-x\n",
        "    else:\n",
        "      phi = lambda x: x\n",
        "    return phi\n",
        "\n",
        "# Linear lagrange basis derivatives on reference element\n",
        "def basis1_derivative(i):\n",
        "    assert i < 2\n",
        "    assert i >= 0\n",
        "    if i == 0:\n",
        "      dphi = lambda x: -np.ones(len(x))\n",
        "    else:\n",
        "      dphi = lambda x: np.ones(len(x))\n",
        "    return dphi"
      ]
    },
    {
      "cell_type": "markdown",
      "metadata": {
        "id": "HYYC2YknLOxP"
      },
      "source": [
        "FEM system assembly with Gauss integration\n",
        "\n"
      ]
    },
    {
      "cell_type": "code",
      "execution_count": 7,
      "metadata": {
        "id": "-wIMV3GKLKUa"
      },
      "outputs": [],
      "source": [
        "def FEM1_1D_GAUSS(omega,N,n_qpoints,rhs):\n",
        "  # 1D FEM with k=1 system matrix and rhs\n",
        "\n",
        "  # grid\n",
        "  vertices = mesh(omega,N)\n",
        "\n",
        "  # quadrature formula on reference element\n",
        "  q, w = quadrature(n_qpoints)\n",
        "\n",
        "  # Evaluation of linear Lagrange basis \n",
        "  phi = np.array([basis1(i)(q) for i in range(2)]).T\n",
        "  dphi = np.array([basis1_derivative(i)(q) for i in range(2)]).T\n",
        "\n",
        "  # initialise system\n",
        "  A = sp.lil_matrix((N+1, N+1))\n",
        "  F = np.zeros(N+1)\n",
        "\n",
        "  # Assembly loop\n",
        "  for i in range(N):\n",
        "    JxW = mapping_J(vertices,i) * w\n",
        "    ele_A = np.einsum('qi,qj,q',dphi,dphi,JxW) / mapping_J(vertices,i)**2#h**2\n",
        "    ele_F = np.einsum('qi,q,q',phi,rhs(mapping(vertices, i)(q)),JxW)\n",
        "\n",
        "    # Assembly local-to-global\n",
        "    A[i:i+2,i:i+2] += ele_A\n",
        "    F[i:i+2] += ele_F\n",
        "\n",
        "  # return system matrix and rhs vector\n",
        "  return A, F"
      ]
    },
    {
      "cell_type": "markdown",
      "metadata": {
        "id": "3M2vdz58L3ws"
      },
      "source": [
        "Function implementing the boundary (nonhomogeneous) Dirichlet conditions"
      ]
    },
    {
      "cell_type": "code",
      "execution_count": 8,
      "metadata": {
        "id": "S4MWcm1wMIgr"
      },
      "outputs": [],
      "source": [
        "def apply_boundary_conditions(omega,N, A, F, g):\n",
        "  # Ideally should scale entries as those of A\n",
        "  A[0,0] = 1; A[0,1] = 0; F[0]=g(omega[0])\n",
        "  A[N,N] = 1; A[N,N-1] = 0; F[N]=g(omega[1])"
      ]
    },
    {
      "cell_type": "markdown",
      "metadata": {
        "id": "DBzkZQxjMcQb"
      },
      "source": [
        "Define FEM problem and solve"
      ]
    },
    {
      "cell_type": "code",
      "execution_count": 9,
      "metadata": {
        "colab": {
          "base_uri": "https://localhost:8080/"
        },
        "id": "OAlSKDRFMX_g",
        "outputId": "f94408a3-f123-4742-be3c-6a3339d13711"
      },
      "outputs": [
        {
          "name": "stdout",
          "output_type": "stream",
          "text": [
            "discrete max norm error =  1.4876988529977098e-13\n"
          ]
        }
      ],
      "source": [
        "omega = [0,1]\n",
        "rhs = lambda x: np.sin(x)\n",
        "sol = lambda x: np.sin(x)\n",
        "\n",
        "N = 10\n",
        "n_qpoints = 3\n",
        "\n",
        "# call function computing FEM system\n",
        "A, F = FEM1_1D_GAUSS(omega,N,n_qpoints,rhs)\n",
        "# and apply boundary conditions\n",
        "apply_boundary_conditions(omega,N, A, F, sol)\n",
        "\n",
        "# solve\n",
        "A = A.tocsr()\n",
        "Uh = sp.linalg.spsolve(A,F)\n",
        "\n",
        "# Evaluate exact solution at grid nodes\n",
        "x = np.linspace(omega[0],omega[1],N+1)\n",
        "U = sol(x)\n",
        "\n",
        "# Compute error\n",
        "print(\"discrete max norm error = \", max(abs(U-Uh)))"
      ]
    },
    {
      "cell_type": "markdown",
      "metadata": {
        "id": "_j4PhHQevJnm"
      },
      "source": [
        "**Exercise 1**: Produce convergence plot for: \n",
        "(1) discrete max norm\n",
        "(2) $\\| I_h u - u_h \\|_{H^1(a,b)}$ where $I_h$ is the finite element interpolant of the exact solution $u$. \n",
        "\n",
        "Finally, plot conditioning of the FEM system wrt $N$ and verify that this grows like $N^2$."
      ]
    },
    {
      "cell_type": "code",
      "execution_count": 10,
      "metadata": {
        "id": "a4KjSkFfyQdG"
      },
      "outputs": [],
      "source": [
        "# Problem\n",
        "omega = [0,1]\n",
        "rhs = lambda x: np.sin(x)\n",
        "sol = lambda x: np.sin(x)\n",
        "\n",
        "# Number of quadrature points\n",
        "n_qpoints = 1\n",
        "\n",
        "# Number of experiments\n",
        "no_experiments = 9\n",
        "\n",
        "# Initialize \n",
        "NN = np.zeros(no_experiments)\n",
        "discrete_max_err = np.zeros(no_experiments)\n",
        "interpola_H1_err = np.zeros(no_experiments)\n",
        "conditioning = np.zeros(no_experiments)\n",
        "\n",
        "# Solution loop\n",
        "for i in range(no_experiments):\n",
        "  N = 2**(i+2)\n",
        "  NN[i] = N\n",
        "\n",
        "  # call function computing FEM system\n",
        "  A, F = FEM1_1D_GAUSS(omega,N,n_qpoints,rhs)\n",
        "\n",
        "  # Save matrix A \n",
        "  S = A\n",
        "\n",
        "  # and apply boundary conditions\n",
        "  apply_boundary_conditions(omega,N, A, F, sol)\n",
        "\n",
        "  # Compute condition number of A\n",
        "  conditioning[i] = np.linalg.cond(A.todense(),p=2)\n",
        "\n",
        "  # Solve the system\n",
        "  A = A.tocsr()\n",
        "  Uh = sp.linalg.spsolve(A,F)\n",
        "\n",
        "  # Compute exact solution\n",
        "  x = np.linspace(omega[0],omega[1],N+1)\n",
        "  U = sol(x)\n",
        "\n",
        "  # Compute discrete max norm error\n",
        "  discrete_max_err[i] = max(abs(U-Uh))\n",
        "  interpola_H1_err[i] = (U-Uh).dot(S.dot(U-Uh))\n"
      ]
    },
    {
      "cell_type": "markdown",
      "metadata": {
        "id": "97tIXf7A7tPp"
      },
      "source": [
        "Plot results"
      ]
    },
    {
      "cell_type": "code",
      "execution_count": 11,
      "metadata": {
        "colab": {
          "base_uri": "https://localhost:8080/",
          "height": 290
        },
        "id": "Sl-ds94C7sqe",
        "outputId": "a4079eaa-90f3-4bf8-b186-e490b8ce03ed"
      },
      "outputs": [
        {
          "data": {
            "text/plain": [
              "[<matplotlib.lines.Line2D at 0x1a1eaff8070>]"
            ]
          },
          "execution_count": 11,
          "metadata": {},
          "output_type": "execute_result"
        },
        {
          "data": {
            "image/png": "[encoded data removed]",
            "text/plain": [
              "<Figure size 432x288 with 1 Axes>"
            ]
          },
          "metadata": {
            "needs_background": "light"
          },
          "output_type": "display_data"
        }
      ],
      "source": [
        "# Error loglog plots\n",
        "plt.loglog(NN,discrete_max_err,'o-')\n",
        "plt.loglog(NN,interpola_H1_err**(1/2),'bd-')\n",
        "plt.loglog(NN,NN**(-2),'r')"
      ]
    },
    {
      "cell_type": "code",
      "execution_count": 12,
      "metadata": {
        "colab": {
          "base_uri": "https://localhost:8080/",
          "height": 288
        },
        "id": "dSD-C0rV77jE",
        "outputId": "96959bac-3567-4d92-9f68-16cfd12949ba"
      },
      "outputs": [
        {
          "data": {
            "text/plain": [
              "[<matplotlib.lines.Line2D at 0x1a1d8c76550>]"
            ]
          },
          "execution_count": 12,
          "metadata": {},
          "output_type": "execute_result"
        },
        {
          "data": {
            "image/png": "[encoded data removed]",
            "text/plain": [
              "<Figure size 432x288 with 1 Axes>"
            ]
          },
          "metadata": {
            "needs_background": "light"
          },
          "output_type": "display_data"
        }
      ],
      "source": [
        "# Condition number plot\n",
        "plt.loglog(NN,conditioning,'o-')\n",
        "plt.loglog(NN,NN**(2),'r')"
      ]
    },
    {
      "cell_type": "markdown",
      "metadata": {
        "id": "ATHWTUKJSNP6"
      },
      "source": [
        "Function computing $H^1$-norm error"
      ]
    },
    {
      "cell_type": "code",
      "execution_count": 18,
      "metadata": {
        "id": "5ij1-L_NSZaV"
      },
      "outputs": [],
      "source": [
        "def FEM1_H1(omega,N,n_qpoints,Uh,dsol):\n",
        "  # H1 error\n",
        "\n",
        "  # grid\n",
        "  vertices = np.linspace(omega[0],omega[1],N+1)\n",
        "\n",
        "  # quadrature formula on reference element\n",
        "  q, w = quadrature(n_qpoints)\n",
        "\n",
        "  # Evaluation of linear Lagrange basis \n",
        "  dphi = np.array([basis1_derivative(i)(q) for i in range(2)]).T\n",
        "\n",
        "  # initialise value of norm of error\n",
        "  error = 0\n",
        "\n",
        "  # Assembly error\n",
        "  for i in range(N):\n",
        "    JxW = mapping_J(vertices,i) * w\n",
        "    DUUh2 = ( dsol(mapping(vertices,i)(q)) - np.einsum('i,qi',Uh[i:i+2],dphi/mapping_J(vertices,i)))**2 \n",
        "    error += DUUh2.dot(JxW)\n",
        "\n",
        "  # Return error\n",
        "  return error"
      ]
    },
    {
      "cell_type": "markdown",
      "metadata": {
        "id": "H2OrEhYlxkj2"
      },
      "source": [
        "Test convergence this time for $\\| u - u_h \\|_{H^1(a,b)}$"
      ]
    },
    {
      "cell_type": "code",
      "execution_count": 19,
      "metadata": {
        "id": "Szdki1W3VJ28"
      },
      "outputs": [],
      "source": [
        "import sympy as sym"
      ]
    },
    {
      "cell_type": "code",
      "execution_count": 20,
      "metadata": {
        "colab": {
          "base_uri": "https://localhost:8080/",
          "height": 288
        },
        "id": "XF_PGTB4xxEF",
        "outputId": "c0ef3fd7-e7b5-4c6c-95b0-72dbb3cd0370"
      },
      "outputs": [
        {
          "data": {
            "text/plain": [
              "[<matplotlib.lines.Line2D at 0x1a1edcce9a0>]"
            ]
          },
          "execution_count": 20,
          "metadata": {},
          "output_type": "execute_result"
        },
        {
          "data": {
            "image/png": "[encoded data removed]",
            "text/plain": [
              "<Figure size 432x288 with 1 Axes>"
            ]
          },
          "metadata": {
            "needs_background": "light"
          },
          "output_type": "display_data"
        }
      ],
      "source": [
        "omega = [0,1]\n",
        "rhs = lambda x: np.sin(x)\n",
        "\n",
        "t = sym.var('t')\n",
        "my_sol = sym.sin(t)\n",
        "sol = sym.lambdify(t, my_sol )\n",
        "d_sol = sym.lambdify(t, my_sol.diff(t, 1) )\n",
        "\n",
        "# Number of experiments\n",
        "no_experiments = 7\n",
        "\n",
        "# Initialize \n",
        "NN = np.zeros(no_experiments)\n",
        "true_H1_err = np.zeros(no_experiments)\n",
        "\n",
        "n_qpoints = 5\n",
        "\n",
        "for i in range(no_experiments):\n",
        "  N = 2**(i+2)\n",
        "  NN[i] = N\n",
        "\n",
        "  # call function computing FEM system\n",
        "  A, F = FEM1_1D_GAUSS(omega,N,n_qpoints,rhs)\n",
        "\n",
        "\n",
        "  # and apply boundary conditions\n",
        "  apply_boundary_conditions(omega,N, A, F, sol)\n",
        "\n",
        "\n",
        "  # Solve the system\n",
        "  A = A.tocsr()\n",
        "  Uh = sp.linalg.spsolve(A,F)\n",
        "\n",
        "  # Evaluate derivative of exact solution \n",
        "  true_H1_err[i] = FEM1_H1(omega,N,7,Uh,d_sol)\n",
        "\n",
        "\n",
        "\n",
        "plt.loglog(NN,true_H1_err**(1/2),'o-')\n",
        "\n",
        "plt.loglog(NN,NN**(-1))"
      ]
    },
    {
      "cell_type": "markdown",
      "metadata": {
        "id": "wzuVFLYsXgec"
      },
      "source": [
        "**Exercise 2**: Try code with nonuniform grid "
      ]
    },
    {
      "cell_type": "markdown",
      "metadata": {
        "id": "Cxeu1oSRXpFr"
      },
      "source": [
        "**Exercise 3**: Write code solving general reaction-advection-diffusion problems"
      ]
    }
  ],
  "metadata": {
    "colab": {
      "authorship_tag": "ABX9TyPP4HL7a68L/PXe6MS2Tl26",
      "include_colab_link": true,
      "name": "C4-FEM.ipynb",
      "provenance": []
    },
    "kernelspec": {
      "display_name": "Python 3",
      "name": "python3"
    },
    "language_info": {
      "codemirror_mode": {
        "name": "ipython",
        "version": 3
      },
      "file_extension": ".py",
      "mimetype": "text/x-python",
      "name": "python",
      "nbconvert_exporter": "python",
      "pygments_lexer": "ipython3",
      "version": "3.9.12"
    }
  },
  "nbformat": 4,
  "nbformat_minor": 0
}
