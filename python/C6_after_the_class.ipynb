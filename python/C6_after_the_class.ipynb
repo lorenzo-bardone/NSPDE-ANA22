{
  "nbformat": 4,
  "nbformat_minor": 0,
  "metadata": {
    "colab": {
      "name": "C6_after_the_class.ipynb",
      "provenance": [],
      "authorship_tag": "ABX9TyPtkTnj/xcGgCB8wlPQjfnW",
      "include_colab_link": true
    },
    "kernelspec": {
      "name": "python3",
      "display_name": "Python 3"
    },
    "language_info": {
      "name": "python"
    }
  },
  "cells": [
    {
      "cell_type": "markdown",
      "metadata": {
        "id": "view-in-github",
        "colab_type": "text"
      },
      "source": [
        "<a href=\"https://colab.research.google.com/github/andreacangiani/NSPDE-ANA22/blob/main/python/C6_after_the_class.ipynb\" target=\"_parent\"><img src=\"https://colab.research.google.com/assets/colab-badge.svg\" alt=\"Open In Colab\"/></a>"
      ]
    },
    {
      "cell_type": "markdown",
      "source": [
        "# The FEniCS Project"
      ],
      "metadata": {
        "id": "iBa6BgX7IU2k"
      }
    },
    {
      "cell_type": "markdown",
      "source": [
        "The [FEniCS Project](https://colab.research.google.com/drive/1UX17QtYCpfLQhdu_Z8c3b3VlEh1Onjf8#scrollTo=u-kZtjlmAhjr&line=1&uniqifier=1) is an open-source software project aimed at creating an automated workflow for computational mathematical modelling based on the Finite Element Method (FEM).\n",
        "\n",
        "The latest version of the FEniCS project, FEniCSx, consists of several building blocks: \n",
        "* DOLFINx is the FEM high performance C++ backend of FEniCSx, implementing structures such as meshes, function spaces and functions. DOLFINx also performs finite element assembly and mesh refinement algorithms. Finally, it interfaces to linear algebra solvers and data-structures, such as [PETSc](https://petsc.org/release/).\n",
        "* UFL is a high-level form language for describing variational formulations with a high-level mathematical syntax\n",
        "* FFCx is the form compiler of FEniCSx; given variational formulations written with UFL, it generates efficient C code.\n",
        "* Basix is the finite element backend of FEniCSx, responsible for generating finite element basis functions.\n"
      ],
      "metadata": {
        "id": "u-kZtjlmAhjr"
      }
    },
    {
      "cell_type": "markdown",
      "source": [
        "As many other open-source software, FEniCS uses other packages while carrying out specific tasks of the FEM pipeline. A few notable dependencies of FEniCS are:\n",
        "\n",
        "*  PETSc (and its Python wrapping petsc4py) for linear algebra solvers (and much more, such as nonlinear solvers and time stepping);\n",
        "*    SLEPc (and its Python wrapping slepc4py) for solution of eigenvalue problems;\n",
        "*    MPI for parallel computing;\n",
        "*    ParMETIS and SCOTCH for mesh partitioning in parallel computing;\n",
        "*    Gmsh for generation of complex meshes;\n",
        "*    numpy for matrix/vector manipulation from Python;\n",
        "*    plotly/pyvista for plotting meshes and solutions.\n"
      ],
      "metadata": {
        "id": "vf6wNr55Ff2K"
      }
    },
    {
      "cell_type": "markdown",
      "source": [
        "More details can be found in the original tutorial: \n",
        "* Hans Petter Langtangen, Anders Logg, *[Solving PDEs in Python: The FEniCS Tutorial I](https://link.springer.com/book/10.1007/978-3-319-52462-7)*, Simula SpringerBriefs on Computing, Springer, 2016whose code is found [here](https://jorgensd.github.io/dolfinx-tutorial/)."
      ],
      "metadata": {
        "id": "6Zv6h3qPFzeK"
      }
    },
    {
      "cell_type": "markdown",
      "source": [
        "# FEniCS modules"
      ],
      "metadata": {
        "id": "n6_gG3tNImhr"
      }
    },
    {
      "cell_type": "markdown",
      "source": [
        "In this tutorial we will explicitly use only a few libraries, namely numpy, petsc4py, UFL, dolfinx. However, all FEniCS software components (and many of the dependencies listed above) will be used under the hood \n",
        "\n",
        "We start by importing all modules which we require.\n",
        "\n",
        "We do this through the python try/except blocks: \n",
        "* the try block lets you test a block of code for errors.\n",
        "* the except block lets you handle the error."
      ],
      "metadata": {
        "id": "WK-vItWdGk7O"
      }
    },
    {
      "cell_type": "code",
      "execution_count": null,
      "metadata": {
        "id": "q3mljf8s-3Ql"
      },
      "outputs": [],
      "source": [
        "try:\n",
        "    import dolfinx\n",
        "except ImportError:\n",
        "    !wget \"https://github.com/fem-on-colab/fem-on-colab.github.io/raw/20faf6e/releases/fenicsx-install-real.sh\" -O \"/tmp/fenicsx-install.sh\" && bash \"/tmp/fenicsx-install.sh\"\n",
        "    import dolfinx\n"
      ]
    },
    {
      "cell_type": "code",
      "source": [
        "try:\n",
        "    import pyvista\n",
        "except ImportError:\n",
        "    !pip3 install itkwidgets==0.32.1 pyvista==0.33.2\n",
        "    import pyvista\n",
        "finally:\n",
        "    import google.colab\n",
        "    google.colab.output.enable_custom_widget_manager()"
      ],
      "metadata": {
        "id": "a4HAL3l4Hbks"
      },
      "execution_count": null,
      "outputs": []
    },
    {
      "cell_type": "code",
      "source": [
        "try:\n",
        "    import multiphenicsx\n",
        "except ImportError:\n",
        "    !pip3 install \"multiphenicsx@git+https://github.com/multiphenics/multiphenicsx.git@bdc5d58\"\n",
        "    import multiphenicsx"
      ],
      "metadata": {
        "id": "JT3DqhlRHmP_"
      },
      "execution_count": null,
      "outputs": []
    },
    {
      "cell_type": "code",
      "source": [
        "import dolfinx.fem\n",
        "import dolfinx.mesh\n",
        "import mpi4py\n",
        "import multiphenicsx.io\n",
        "import numpy as np\n",
        "import petsc4py\n",
        "import ufl"
      ],
      "metadata": {
        "id": "32H4dB1cIOXC"
      },
      "execution_count": 4,
      "outputs": []
    },
    {
      "cell_type": "markdown",
      "source": [
        "# Tutorial 1: solving a diffusion problem in 1D"
      ],
      "metadata": {
        "id": "3xXhYbfYI05B"
      }
    },
    {
      "cell_type": "markdown",
      "source": [
        "We consider the model boundary value problem:\n",
        "$$\n",
        "\\left\\{\n",
        "\\begin{array}{l}\n",
        "- u'' = 2, & x \\in I= (0, 1),\\\\\n",
        "u(0) = 0,\\\\\n",
        "u(1) = 1.\n",
        "\\end{array}\n",
        "\\right.\n",
        "$$"
      ],
      "metadata": {
        "id": "aaEABUFhIxr7"
      }
    },
    {
      "cell_type": "markdown",
      "source": [
        "**Task 1: create a mesh.**\n",
        "\n",
        "`dolfinx.mesh` provide some built-in functions to generate simple meshes, and in particular `create_unit_interval` for an equispaced mesh on the unit interval $I$. \n",
        "\n",
        " Create the uniform mesh with 10 cells:"
      ],
      "metadata": {
        "id": "I4WTy9x6JrlO"
      }
    },
    {
      "cell_type": "code",
      "source": [
        "mesh = dolfinx.mesh.create_unit_interval(mpi4py.MPI.COMM_WORLD, 10)"
      ],
      "metadata": {
        "id": "RnAKPpOLJ7MV"
      },
      "execution_count": 5,
      "outputs": []
    },
    {
      "cell_type": "markdown",
      "source": [
        "Note that `dolfinx.mesh` requires that we supply the MPI-communicator. This is to specify how we would like the program to behave in parallel. With:\n",
        "* MPI.COMM_WORLD we create a single mesh, whose data is distributed over the number of processors we would like to use. \n",
        "* MPI.COMM_SELF we create a separate mesh on each processor"
      ],
      "metadata": {
        "id": "j8pwIp-3NDAH"
      }
    },
    {
      "cell_type": "markdown",
      "source": [
        "We can obtain an interactive plot of the domain using `plotly`."
      ],
      "metadata": {
        "id": "pRG-SAyIKJqB"
      }
    },
    {
      "cell_type": "code",
      "source": [
        "multiphenicsx.io.plot_mesh(mesh)"
      ],
      "metadata": {
        "id": "HasVFvBVJ-uj"
      },
      "execution_count": null,
      "outputs": []
    },
    {
      "cell_type": "markdown",
      "source": [
        "A mesh is made by a set of points and a set of subintervals that connect them:"
      ],
      "metadata": {
        "id": "sLBmmlwaKaz3"
      }
    },
    {
      "cell_type": "code",
      "source": [
        "points = mesh.geometry.x\n",
        "points"
      ],
      "metadata": {
        "id": "Sk3bXpVWKTUu"
      },
      "execution_count": null,
      "outputs": []
    },
    {
      "cell_type": "markdown",
      "source": [
        "(Note that `dolfinx` developers decided to store points as vectors in $\\mathbb{R}^3$, regardless of the actual ambient space dimension!)"
      ],
      "metadata": {
        "id": "HMnfAo1GK38u"
      }
    },
    {
      "cell_type": "code",
      "source": [
        "connectivity_cells_to_vertices = mesh.topology.connectivity(mesh.topology.dim, 0)\n",
        "connectivity_cells_to_vertices"
      ],
      "metadata": {
        "id": "9skQomkRLMgp"
      },
      "execution_count": null,
      "outputs": []
    },
    {
      "cell_type": "code",
      "source": [
        "num_cells = len(connectivity_cells_to_vertices)\n",
        "num_cells"
      ],
      "metadata": {
        "id": "wWxBwSowLPwb"
      },
      "execution_count": null,
      "outputs": []
    },
    {
      "cell_type": "markdown",
      "source": [
        "We can have a look at each cell  by using a `for` loop. Each cell is assigned an unique ID and (in 1D) it is uniquely defined by two vertices, which correspond to the endpoints of the subinterval."
      ],
      "metadata": {
        "id": "N9Ys3rvzLmkk"
      }
    },
    {
      "cell_type": "code",
      "source": [
        "for c in range(num_cells):\n",
        "    # Print the ID of the current cell\n",
        "    print(\"Cell ID\", c, \"is defined by the following vertices:\")\n",
        "    # Print the vertices of the current cell\n",
        "    for v in connectivity_cells_to_vertices.links(c):\n",
        "        print(\"\\t\" + \"Vertex ID\", v, \"is located at x =\", points[v][0])"
      ],
      "metadata": {
        "id": "VHQnwac3Lz8N"
      },
      "execution_count": null,
      "outputs": []
    },
    {
      "cell_type": "markdown",
      "source": [
        "Next, we identify the IDs corresponding to boundary nodes. We use the\n",
        "\n",
        "`dolfinx.mesh` function `locate_entities_boundary`. It requires the following inputs:\n",
        " * the first argument is the mesh,\n",
        " * the second argument represent the topological dimension of the mesh entities which we are interested in. In 1D, `mesh.topology.dim` is equal to 1, and entities of topological dimension 1 are the cells (subintervals), while `mesh.topology.dim - 1` is equal to 0, and entities of topological dimension 0 are the vertices of mesh. \n",
        " * the third argument is a condition (i.e., a function that returns either `True` or `False`) on the coordinates `x`, which are stored as a vector. Since we are interested in finding the vertex located at $x = 0$, we may think of using `x[0] == 0` as a condition: however, due to floating point arithmetic, it is safer to use $\\left|x - 0\\right| < \\varepsilon$, where $\\varepsilon$ is a small number, which may be written as `np.isclose(x[0], 0.0)`."
      ],
      "metadata": {
        "id": "YfemXRQQQgvT"
      }
    },
    {
      "cell_type": "code",
      "source": [
        "tdim = mesh.topology.dim\n",
        "fdim = tdim - 1"
      ],
      "metadata": {
        "id": "cN0R_bzulT2F"
      },
      "execution_count": null,
      "outputs": []
    },
    {
      "cell_type": "code",
      "source": [
        "left_boundary_entities = dolfinx.mesh.locate_entities_boundary(\n",
        "    mesh, fdim, lambda x: np.isclose(x[0], 0.0))\n",
        "left_boundary_entities"
      ],
      "metadata": {
        "id": "7jVpxpLwRcWT"
      },
      "execution_count": null,
      "outputs": []
    },
    {
      "cell_type": "code",
      "source": [
        "right_boundary_entities = dolfinx.mesh.locate_entities(\n",
        "    mesh, fdim, lambda x: np.isclose(x[0], 1.0))\n",
        "right_boundary_entities"
      ],
      "metadata": {
        "id": "9JVrAUydRjGa"
      },
      "execution_count": null,
      "outputs": []
    },
    {
      "cell_type": "markdown",
      "source": [
        "**Task 2: create FEM space.**\n",
        "\n",
        "We define the finite element function space $V_h$ using $\\mathbb{P}_2$ Lagrange elements.\n",
        "\n",
        "This is obtained using the `FunctionSpace` class of `dolfinx.fem`.\n",
        "\n",
        "The first argument specifies the mesh. The second the type of FE space. To define the standard (conforming) Lagrange elements we input `\"CG\"`. Using instead `\"Lagrange\"` or `\"P\"` yields the same space."
      ],
      "metadata": {
        "id": "Ps4N7UAcRtXa"
      }
    },
    {
      "cell_type": "code",
      "source": [
        "Vh = dolfinx.fem.FunctionSpace(mesh, (\"CG\", 2))\n",
        "Vh"
      ],
      "metadata": {
        "colab": {
          "base_uri": "https://localhost:8080/"
        },
        "id": "CoidZDPdSwyz",
        "outputId": "cf9a5999-7f6b-4661-99c7-e9b7b574b51b"
      },
      "execution_count": 51,
      "outputs": [
        {
          "output_type": "execute_result",
          "data": {
            "text/plain": [
              "FunctionSpace(Mesh(VectorElement(FiniteElement('Lagrange', interval, 1), dim=1), 0), FiniteElement('Lagrange', interval, 1))"
            ]
          },
          "metadata": {},
          "execution_count": 51
        }
      ]
    },
    {
      "cell_type": "markdown",
      "source": [
        "Store the dimension of the space:"
      ],
      "metadata": {
        "id": "zO-nLsFrUMaQ"
      }
    },
    {
      "cell_type": "code",
      "source": [
        "Vh_dim = Vh.dofmap.index_map.size_local\n",
        "Vh_dim"
      ],
      "metadata": {
        "id": "BonrakZiUQrQ"
      },
      "execution_count": null,
      "outputs": []
    },
    {
      "cell_type": "markdown",
      "source": [
        "Once the FE space is at hand, we introduce ufl symbols to define the trial and test functions for our weak formulation:"
      ],
      "metadata": {
        "id": "QrhctjdIUVUT"
      }
    },
    {
      "cell_type": "code",
      "source": [
        "uh = ufl.TrialFunction(Vh)\n",
        "vh = ufl.TestFunction(Vh)"
      ],
      "metadata": {
        "id": "gsjHc467UbKE"
      },
      "execution_count": 53,
      "outputs": []
    },
    {
      "cell_type": "markdown",
      "source": [
        "**Task 3:** Set up FEM system"
      ],
      "metadata": {
        "id": "UrUjD77qsFvR"
      }
    },
    {
      "cell_type": "markdown",
      "source": [
        "Now we are ready to define the FEM using the ufl capability.\n",
        "* `uh.dx(0)` corresponds to $\\frac{\\partial u}{\\partial x}$, where the argument `0` to `dx` means to take the derivative with respect to the first space coordinate (the only one of interest in this case).\n",
        "* `ufl.dx` provides a measure for integration over the domain. Integration will automatically occur over the entire domain."
      ],
      "metadata": {
        "id": "EZBjfjYBUtwh"
      }
    },
    {
      "cell_type": "code",
      "source": [
        "a = uh.dx(0) * vh.dx(0) * ufl.dx\n",
        "\n",
        "F = 2 * vh * ufl.dx"
      ],
      "metadata": {
        "id": "w7-HO_gdUzJB"
      },
      "execution_count": 54,
      "outputs": []
    },
    {
      "cell_type": "markdown",
      "source": [
        "**Task 4:** Apply boundary conditions"
      ],
      "metadata": {
        "id": "uIm-FZt8sOVv"
      }
    },
    {
      "cell_type": "markdown",
      "source": [
        "It remains to implement the boundary conditions. To do so we:\n",
        "* determine the degree of freedom that corresponds to the boundary vertices.\n",
        "* define a `Constant` equal to `0` and a `Constant` equal to `1` corresponding to the values on the boundary.\n",
        "* create a list containing the Dirichlet boundary conditions (two in this case), that is the constraints on the FE function DoF:"
      ],
      "metadata": {
        "id": "2lF6nZNBWksG"
      }
    },
    {
      "cell_type": "code",
      "source": [
        "left_boundary_dofs = dolfinx.fem.locate_dofs_topological(Vh, fdim, left_boundary_entities)\n",
        "left_boundary_dofs"
      ],
      "metadata": {
        "id": "dKGxbV-bXyWu"
      },
      "execution_count": null,
      "outputs": []
    },
    {
      "cell_type": "code",
      "source": [
        "right_boundary_dofs = dolfinx.fem.locate_dofs_topological(Vh, fdim, right_boundary_entities)\n",
        "right_boundary_dofs"
      ],
      "metadata": {
        "id": "VA-TKKWlX35t"
      },
      "execution_count": null,
      "outputs": []
    },
    {
      "cell_type": "code",
      "source": [
        "zero = dolfinx.fem.Constant(mesh, 0.)\n",
        "one = dolfinx.fem.Constant(mesh, 1.)"
      ],
      "metadata": {
        "id": "-CSBO8wiX56Y"
      },
      "execution_count": 33,
      "outputs": []
    },
    {
      "cell_type": "code",
      "source": [
        "bcs = [dolfinx.fem.dirichletbc(zero, left_boundary_dofs, Vh), dolfinx.fem.dirichletbc(one, right_boundary_dofs, Vh)]\n",
        "bcs"
      ],
      "metadata": {
        "id": "KDgMAlG-YAEP"
      },
      "execution_count": null,
      "outputs": []
    },
    {
      "cell_type": "markdown",
      "source": [
        "Alternatively use boundary data function automaticallly: \n",
        "\n",
        "* Define the boundary data through a function, for instance:"
      ],
      "metadata": {
        "id": "QRIFqIxbusHN"
      }
    },
    {
      "cell_type": "code",
      "source": [
        "uD = dolfinx.fem.Function(Vh)\n",
        "uD.interpolate(lambda x: x[0])"
      ],
      "metadata": {
        "id": "PfjILXHtptJm"
      },
      "execution_count": 55,
      "outputs": []
    },
    {
      "cell_type": "markdown",
      "source": [
        "* Create facet to cell connectivity required to determine boundary facets"
      ],
      "metadata": {
        "id": "N8dSNc3euxBl"
      }
    },
    {
      "cell_type": "code",
      "source": [
        "mesh.topology.create_connectivity(fdim, tdim)\n",
        "\n",
        "print(dolfinx.mesh.compute_boundary_facets(mesh.topology))\n",
        "\n",
        "# np.flatnonzero gives indices of the elements that are non-zero\n",
        "boundary_points = np.flatnonzero(dolfinx.mesh.compute_boundary_facets(mesh.topology))\n",
        "\n",
        "boundary_points"
      ],
      "metadata": {
        "id": "yk32L0WrsiLx"
      },
      "execution_count": null,
      "outputs": []
    },
    {
      "cell_type": "markdown",
      "source": [
        "* We can now apply the boundary conditions:"
      ],
      "metadata": {
        "id": "JqcGJmsjufph"
      }
    },
    {
      "cell_type": "code",
      "source": [
        "boundary_dofs = dolfinx.fem.locate_dofs_topological(Vh, fdim, boundary_points)\n",
        "bcs = dolfinx.fem.dirichletbc(uD, boundary_dofs)\n",
        "bcs"
      ],
      "metadata": {
        "id": "AO-9Dn-4ufKL"
      },
      "execution_count": null,
      "outputs": []
    },
    {
      "cell_type": "markdown",
      "source": [
        "**Task 5:** Solve the FEM system\n",
        "\n",
        "In order to solve the FEM system, we go through the following steps:\n",
        "\n",
        "* `dolfinx.fem` provides a `Function` class to store the solution of a finite element problem:\n",
        "* solve the discrete problem allocating a new `LinearProblem` (which uses `PETSc`), providing as input the bilinear form `a`, the linear functional `F`, the boundary conditions `bcs`, and where to store the solution. Further solver options can also be passed to `PETSc`."
      ],
      "metadata": {
        "id": "m0t_9i7IYdoX"
      }
    },
    {
      "cell_type": "code",
      "source": [
        "solution = dolfinx.fem.Function(Vh)"
      ],
      "metadata": {
        "id": "jxZYnUJ-Y0ij"
      },
      "execution_count": 58,
      "outputs": []
    },
    {
      "cell_type": "code",
      "source": [
        "problem = dolfinx.fem.petsc.LinearProblem(\n",
        "    a, F, bcs=[bcs], u=solution,\n",
        "    petsc_options={\"ksp_type\": \"preonly\", \"pc_type\": \"lu\", \"pc_factor_mat_solver_type\": \"mumps\"})\n",
        "_ = problem.solve()\n",
        "\n",
        "print(solution.vector.array)"
      ],
      "metadata": {
        "id": "_kMhuylXZTwj"
      },
      "execution_count": null,
      "outputs": []
    },
    {
      "cell_type": "code",
      "source": [
        "multiphenicsx.io.plot_scalar_field(solution, \"u_h\")"
      ],
      "metadata": {
        "id": "Bfv9C4bhZw5n"
      },
      "execution_count": null,
      "outputs": []
    },
    {
      "cell_type": "markdown",
      "source": [
        "# Compute error"
      ],
      "metadata": {
        "id": "jD4ebiQtakng"
      }
    },
    {
      "cell_type": "markdown",
      "source": [
        "**Task 6:** compute the $L^2$ and $H^1$ errors.\n",
        "\n",
        "The exact solution is:\n",
        "$$ u(x) = - x^2 + 2 x.$$\n",
        "\n",
        "The $L^2(I)$ norm of the error $u - u_h$ is defined as:\n",
        "$$ e_h^2 = \\int_I \\left(u(x) - u_h(x)\\right)^2 \\ \\mathrm{d}x.$$"
      ],
      "metadata": {
        "id": "WaJgOx07aqTt"
      }
    },
    {
      "cell_type": "markdown",
      "source": [
        "In order to evaluate the error, we first need to define a symbolic representation in `ufl` of the exact solution $u(x)$. To this end, we need to define a symbol for the coordinate `x` ..."
      ],
      "metadata": {
        "id": "1pRRgIewbelh"
      }
    },
    {
      "cell_type": "code",
      "source": [
        "xyz = ufl.SpatialCoordinate(mesh)\n",
        "x = xyz[0]"
      ],
      "metadata": {
        "id": "o4NlXNL0bqDr"
      },
      "execution_count": 87,
      "outputs": []
    },
    {
      "cell_type": "markdown",
      "source": [
        "and then we can define a symbolic expression in `ufl` for the exact solution $u$:"
      ],
      "metadata": {
        "id": "Ck4ZAWrZbzBG"
      }
    },
    {
      "cell_type": "code",
      "source": [
        "exact_solution = - x**2 + 2 * x"
      ],
      "metadata": {
        "id": "US-982tcbsCt"
      },
      "execution_count": 88,
      "outputs": []
    },
    {
      "cell_type": "markdown",
      "source": [
        "Hence we can define a symbolic expression in `ufl` for the integral defining the error:"
      ],
      "metadata": {
        "id": "3jDHvG9Ebya3"
      }
    },
    {
      "cell_type": "code",
      "source": [
        "error_L2squared_ufl = (exact_solution - solution)**2 * ufl.dx"
      ],
      "metadata": {
        "id": "EntFew8EcIic"
      },
      "execution_count": 89,
      "outputs": []
    },
    {
      "cell_type": "markdown",
      "source": [
        "Finally, we evaluate the error using the `dolfinx.fem` function `assemble_scalar`:"
      ],
      "metadata": {
        "id": "zlprrnpccPEn"
      }
    },
    {
      "cell_type": "code",
      "source": [
        "error_L2squared = dolfinx.fem.assemble_scalar(dolfinx.fem.form(error_L2squared_ufl))\n",
        "error_L2squared"
      ],
      "metadata": {
        "id": "gxQ8Sh4ocADe"
      },
      "execution_count": null,
      "outputs": []
    },
    {
      "cell_type": "markdown",
      "source": [
        "Note that, given that we are using quadratic elements, we expect the error to be zero!"
      ],
      "metadata": {
        "id": "NSae1SaZcdvn"
      }
    },
    {
      "cell_type": "markdown",
      "source": [
        "Similarly we can compute the H1 seminorm error:"
      ],
      "metadata": {
        "id": "QTnw7C3b4GsS"
      }
    },
    {
      "cell_type": "code",
      "source": [
        "error_H1squared_ufl = (exact_solution.dx(0) - solution.dx(0))**2 * ufl.dx\n",
        "error_H1squared = dolfinx.fem.assemble_scalar(dolfinx.fem.form(error_H1squared_ufl))\n",
        "error_H1squared"
      ],
      "metadata": {
        "id": "KybnFblW3SCo"
      },
      "execution_count": null,
      "outputs": []
    }
  ]
}