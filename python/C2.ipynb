{
  "cells": [
    {
      "cell_type": "markdown",
      "metadata": {
        "colab_type": "text",
        "id": "view-in-github"
      },
      "source": [
        "<a href=\"https://colab.research.google.com/github/andreacangiani/NSPDE-ANA22/blob/main/python/C2.ipynb\" target=\"_parent\"><img src=\"https://colab.research.google.com/assets/colab-badge.svg\" alt=\"Open In Colab\"/></a>"
      ]
    },
    {
      "cell_type": "markdown",
      "metadata": {
        "id": "WLd_JqUTLlx7"
      },
      "source": [
        "# Divided differences using sparse matrix"
      ]
    },
    {
      "cell_type": "markdown",
      "metadata": {
        "id": "lAvcakieLgH4"
      },
      "source": [
        "Import the usual modules"
      ]
    },
    {
      "cell_type": "code",
      "execution_count": 1,
      "metadata": {
        "id": "UhR8FV_9KpLl"
      },
      "outputs": [],
      "source": [
        "import numpy as np\n",
        "import matplotlib.pyplot as plt\n",
        "import sympy as sym"
      ]
    },
    {
      "cell_type": "markdown",
      "metadata": {
        "id": "TEsSBeGDMz-9"
      },
      "source": [
        "New module: sparse algebra"
      ]
    },
    {
      "cell_type": "code",
      "execution_count": 2,
      "metadata": {
        "id": "knW_Lj85M3g2"
      },
      "outputs": [],
      "source": [
        "import scipy.sparse as sp"
      ]
    },
    {
      "cell_type": "markdown",
      "metadata": {
        "id": "AOx_KN1HLSBn"
      },
      "source": [
        "Function implementing the forward difference in sparse format"
      ]
    },
    {
      "cell_type": "code",
      "execution_count": 3,
      "metadata": {
        "id": "bPMMOZh0LRd5"
      },
      "outputs": [],
      "source": [
        "def forward_difference(a, b, N):\n",
        "  h = (b-a)/N\n",
        " \n",
        "  # Compute FD matrix as sparse using Compressed Sparse Row (CSR) format \n",
        "  data = [-np.ones(N+1), np.ones(N)]\n",
        "  FD = sp.diags(data,[0,1], format=\"csr\")\n",
        "  return FD / h"
      ]
    },
    {
      "cell_type": "code",
      "execution_count": 4,
      "metadata": {
        "id": "DJ6b0gTXR63S"
      },
      "outputs": [],
      "source": [
        "a=0\n",
        "b=1\n",
        "N=5\n",
        "FD = forward_difference(a, b, N)"
      ]
    },
    {
      "cell_type": "code",
      "execution_count": 5,
      "metadata": {
        "id": "kecwHOrVSNSK"
      },
      "outputs": [
        {
          "name": "stdout",
          "output_type": "stream",
          "text": [
            "  (0, 0)\t-5.0\n",
            "  (0, 1)\t5.0\n",
            "  (1, 1)\t-5.0\n",
            "  (1, 2)\t5.0\n",
            "  (2, 2)\t-5.0\n",
            "  (2, 3)\t5.0\n",
            "  (3, 3)\t-5.0\n",
            "  (3, 4)\t5.0\n",
            "  (4, 4)\t-5.0\n",
            "  (4, 5)\t5.0\n",
            "  (5, 5)\t-5.0\n"
          ]
        }
      ],
      "source": [
        "print (FD)"
      ]
    },
    {
      "cell_type": "code",
      "execution_count": 6,
      "metadata": {
        "id": "lUfU966YSY9U"
      },
      "outputs": [
        {
          "name": "stdout",
          "output_type": "stream",
          "text": [
            "[[-5.  5.  0.  0.  0.  0.]\n",
            " [ 0. -5.  5.  0.  0.  0.]\n",
            " [ 0.  0. -5.  5.  0.  0.]\n",
            " [ 0.  0.  0. -5.  5.  0.]\n",
            " [ 0.  0.  0.  0. -5.  5.]\n",
            " [ 0.  0.  0.  0.  0. -5.]]\n"
          ]
        }
      ],
      "source": [
        "print(FD.todense())"
      ]
    },
    {
      "cell_type": "markdown",
      "metadata": {
        "id": "vFJoKMnYMThw"
      },
      "source": [
        "Use the FD to evaluate the derivative of $f(x)=\\frac{x^2}{2}$"
      ]
    },
    {
      "cell_type": "code",
      "execution_count": 7,
      "metadata": {
        "id": "6Nq2C60jL6PZ"
      },
      "outputs": [
        {
          "name": "stdout",
          "output_type": "stream",
          "text": [
            "8.6 µs ± 254 ns per loop (mean ± std. dev. of 7 runs, 100000 loops each)\n"
          ]
        }
      ],
      "source": [
        "t = sym.var('t')\n",
        "my_f = 0.5 * t**2\n",
        "fsym = sym.lambdify(t, my_f )\n",
        "\n",
        "a=0 \n",
        "b=1\n",
        "N = 100\n",
        "\n",
        "# Evaluate FD matrix\n",
        "FD = forward_difference(a, b, N)\n",
        "\n",
        "# Values of the derivative at the \n",
        "# internal grid points\n",
        "x=np.linspace(0,1,N+1)\n",
        "\n",
        "%timeit u_x = FD.dot(fsym(x))[1:N]\n",
        "\n",
        "# Print results\n",
        "#print(u_x)"
      ]
    },
    {
      "cell_type": "markdown",
      "metadata": {
        "id": "8sObv8G9YSof"
      },
      "source": [
        "**Exercise.** Find a way to evaluate execution time and compare full vs sparse exectution time"
      ]
    },
    {
      "cell_type": "markdown",
      "metadata": {
        "id": "3EVlhgPcKty_"
      },
      "source": [
        "# Central finite differences in 1D"
      ]
    },
    {
      "cell_type": "markdown",
      "metadata": {
        "id": "cPX73u-NK2Pq"
      },
      "source": [
        "Poisson problem in 1D:\n",
        "\n",
        "$-u''(x)=f(x) \\quad \\in (a,b)$\n",
        "\n",
        "$u(a)=0, \\quad u(b)=0$\n",
        "\n",
        "We use the second central divided difference to approxima the second derivative.\n",
        "\n",
        "Given $h>0$, \n",
        "\n",
        "$u''(x)≈\\frac{u(x+h)-2u(x)+u(x-h)}{h^2}$"
      ]
    },
    {
      "cell_type": "markdown",
      "metadata": {
        "id": "Uf1tUssmNf7d"
      },
      "source": [
        "Function for second central matrix"
      ]
    },
    {
      "cell_type": "code",
      "execution_count": 8,
      "metadata": {
        "id": "6AkrOqiXNcTJ"
      },
      "outputs": [],
      "source": [
        "def CD2(N):\n",
        "  # Function defining nominator of\n",
        "  # second central FD formula on a \n",
        "  # uniform grid in sparse CSR format\n",
        "  data = [np.ones(N), -2 * np.ones(N+1), np.ones(N)]\n",
        "  return sp.diags(data,[-1,0,1], format=\"csr\")"
      ]
    },
    {
      "cell_type": "code",
      "execution_count": 9,
      "metadata": {
        "id": "KUOiecYxW5ES"
      },
      "outputs": [
        {
          "name": "stdout",
          "output_type": "stream",
          "text": [
            "[[-2.  1.  0.  0.  0.  0.]\n",
            " [ 1. -2.  1.  0.  0.  0.]\n",
            " [ 0.  1. -2.  1.  0.  0.]\n",
            " [ 0.  0.  1. -2.  1.  0.]\n",
            " [ 0.  0.  0.  1. -2.  1.]\n",
            " [ 0.  0.  0.  0.  1. -2.]]\n"
          ]
        }
      ],
      "source": [
        "N = 5\n",
        "A = CD2(N)\n",
        "\n",
        "print(A.todense())"
      ]
    },
    {
      "cell_type": "markdown",
      "metadata": {
        "id": "kQFF0QdiNvCt"
      },
      "source": [
        "Test problem:\n",
        "\n",
        "$(a,b)=(0,\\pi)$\n",
        "\n",
        "u(x)=sin(x)"
      ]
    },
    {
      "cell_type": "code",
      "execution_count": 10,
      "metadata": {
        "id": "6o6A_IUkNuMG"
      },
      "outputs": [],
      "source": [
        "# Define right-hand side function\n",
        "t = sym.var('t')\n",
        "my_f = sym.sin(t)\n",
        "rhs_f = sym.lambdify(t, my_f )\n",
        "\n",
        "# Define exact solution\n",
        "my_sol = sym.sin(t)\n",
        "exact_sol = sym.lambdify(t, my_sol )"
      ]
    },
    {
      "cell_type": "markdown",
      "metadata": {
        "id": "SWzKNz0vOOWW"
      },
      "source": [
        "Define FD problem:\n",
        "\n",
        "for $h=(b-a)/N$\n",
        "\n",
        "$ A U = - h^2 F $\n",
        "\n",
        "with $A$ the nominator of CD formula."
      ]
    },
    {
      "cell_type": "code",
      "execution_count": 11,
      "metadata": {
        "id": "9ZJJbGtGOME1"
      },
      "outputs": [],
      "source": [
        "# Problem domain\n",
        "a = 0\n",
        "b= np.pi\n",
        "\n",
        "# Size of grid\n",
        "N = 20\n",
        "h = (b-a)/N\n",
        "\n",
        "# Grid\n",
        "x = np.linspace(a,b,N+1)\n",
        "\n",
        "# CD matrix\n",
        "A = CD2(N)\n",
        "\n",
        "# Right-hand side\n",
        "F = - h**2 * rhs_f(x[1:-1])\n",
        "\n",
        "# Homogeneous Dirichlet boundary conditions\n",
        "A = A[1:-1,1:-1]\n"
      ]
    },
    {
      "cell_type": "markdown",
      "metadata": {
        "id": "3civ7pL9bGQe"
      },
      "source": [
        "Import solver"
      ]
    },
    {
      "cell_type": "code",
      "execution_count": 12,
      "metadata": {
        "id": "BEJ07uM1bJ07"
      },
      "outputs": [],
      "source": [
        "from scipy.sparse.linalg import spsolve"
      ]
    },
    {
      "cell_type": "markdown",
      "metadata": {
        "id": "AKmPecQMO4Kr"
      },
      "source": [
        "Solve problem and print result"
      ]
    },
    {
      "cell_type": "code",
      "execution_count": 13,
      "metadata": {
        "colab": {
          "base_uri": "https://localhost:8080/",
          "height": 283
        },
        "id": "l7B-YKy9O5jF",
        "outputId": "b1bb3808-b174-4fb3-8896-1a1cf220a3fa"
      },
      "outputs": [
        {
          "data": {
            "text/plain": [
              "[<matplotlib.lines.Line2D at 0x15071cf9f40>]"
            ]
          },
          "execution_count": 13,
          "metadata": {},
          "output_type": "execute_result"
        },
        {
          "data": {
            "image/png": "[encoded data removed]",
            "text/plain": [
              "<Figure size 432x288 with 1 Axes>"
            ]
          },
          "metadata": {
            "needs_background": "light"
          },
          "output_type": "display_data"
        }
      ],
      "source": [
        "# Compute solution at internal nodes\n",
        "FD_sol = spsolve(A,F)\n",
        "\n",
        "# plot solution\n",
        "plt.plot(x[1:-1],FD_sol)"
      ]
    },
    {
      "cell_type": "code",
      "execution_count": 14,
      "metadata": {
        "id": "UQ9kqgtrZHom"
      },
      "outputs": [
        {
          "name": "stdout",
          "output_type": "stream",
          "text": [
            "0.002058706764533902\n"
          ]
        }
      ],
      "source": [
        "# print max error\n",
        "\n",
        "print(np.max(np.abs(FD_sol-exact_sol(x[1:-1]))))"
      ]
    },
    {
      "cell_type": "markdown",
      "metadata": {
        "id": "EbHL94cyPFWM"
      },
      "source": [
        "**Exercise 1.** test for convergence and plot convergence plot"
      ]
    },
    {
      "cell_type": "markdown",
      "metadata": {},
      "source": [
        "We repeat what done before for increasingly higher values of N, then plot the error and see if it goes to 0."
      ]
    },
    {
      "cell_type": "code",
      "execution_count": 15,
      "metadata": {},
      "outputs": [],
      "source": [
        "import time"
      ]
    },
    {
      "cell_type": "code",
      "execution_count": 33,
      "metadata": {},
      "outputs": [
        {
          "data": {
            "image/png": "[encoded data removed]",
            "text/plain": [
              "<Figure size 432x288 with 1 Axes>"
            ]
          },
          "metadata": {
            "needs_background": "light"
          },
          "output_type": "display_data"
        },
        {
          "data": {
            "image/png": "[encoded data removed]",
            "text/plain": [
              "<Figure size 432x288 with 1 Axes>"
            ]
          },
          "metadata": {
            "needs_background": "light"
          },
          "output_type": "display_data"
        },
        {
          "data": {
            "text/plain": [
              "[<matplotlib.lines.Line2D at 0x15077a5f6a0>]"
            ]
          },
          "execution_count": 33,
          "metadata": {},
          "output_type": "execute_result"
        },
        {
          "data": {
            "image/png": "[encoded data removed]",
            "text/plain": [
              "<Figure size 432x288 with 1 Axes>"
            ]
          },
          "metadata": {
            "needs_background": "light"
          },
          "output_type": "display_data"
        }
      ],
      "source": [
        "# Define right-hand side function\n",
        "t = sym.var('t')\n",
        "my_f = sym.sin(t)\n",
        "rhs_f = sym.lambdify(t, my_f )\n",
        "\n",
        "# Define exact solution\n",
        "my_sol = sym.sin(t)\n",
        "exact_sol = sym.lambdify(t, my_sol )\n",
        "\n",
        "# Problem domain\n",
        "a = 0\n",
        "b= np.pi\n",
        "\n",
        "Nvals=[]\n",
        "errors=[]\n",
        "times=[]\n",
        "\n",
        "for i in range(2,15):\n",
        "    # Size of grid\n",
        "    N=2**i\n",
        "    Nvals.append(N)\n",
        "    h = (b-a)/N\n",
        "    # Grid\n",
        "    x = np.linspace(a,b,N+1)\n",
        "    # CD matrix\n",
        "    A = CD2(N)\n",
        "    # Right-hand side\n",
        "    F = - h**2 * rhs_f(x[1:-1])\n",
        "    # Homogeneous Dirichlet boundary conditions\n",
        "    A = A[1:-1,1:-1]\n",
        "    # Compute solution at internal nodes\n",
        "    FD_sol = spsolve(A,F)\n",
        "    error=np.max(np.abs(FD_sol-exact_sol(x[1:-1])))\n",
        "    errors.append(error)\n",
        "    times.append(time.time())\n",
        "plt.loglog(Nvals,errors)\n",
        "plt.show()\n",
        "plt.semilogx(Nvals,times)\n",
        "plt.show()\n",
        "plt.plot(x[1:-1],FD_sol)"
      ]
    },
    {
      "cell_type": "markdown",
      "metadata": {
        "id": "T2QXoNYhP228"
      },
      "source": [
        "**Exercise 2.** Solve the problem with nonhomogeneous Dirichlet conditions:\n",
        "\n",
        "$-\\alpha u''(x)=f(x) \\quad \\in (a,b)$\n",
        "\n",
        "$u(a)=u_a, \\quad u(b)=u_b$"
      ]
    },
    {
      "cell_type": "markdown",
      "metadata": {
        "id": "PWX-C4sbQd-p"
      },
      "source": [
        "For example, you could fix: $(a,b)=(0,\\pi/2)$, solution $u$ as before, $\\alpha=\\frac{1}{2}$"
      ]
    },
    {
      "cell_type": "markdown",
      "metadata": {
        "id": "DwxTZDyTQ_cV"
      },
      "source": [
        "**Exercise 3.** Solve the problem with (homogeneous) Neumann conditions:\n",
        "\n",
        "$-\\alpha u''(x)=f(x) \\quad \\in (a,b)$\n",
        "\n",
        "$u(a)=u_a, \\quad u'(b)=0$"
      ]
    },
    {
      "cell_type": "markdown",
      "metadata": {
        "id": "9RTu8ZaBcUJ_"
      },
      "source": []
    },
    {
      "cell_type": "markdown",
      "metadata": {
        "id": "aySe91zwRMq3"
      },
      "source": [
        "For example, you could fix: $(a,b)=(0,\\pi/2)$, solution $u$ as before, $\\alpha=1$."
      ]
    },
    {
      "cell_type": "markdown",
      "metadata": {
        "id": "MyrPdJSCSOeG"
      },
      "source": [
        "**Exercise 4.** Solve the reaction-advection-diffusion problem (still with central differences):\n",
        "\n",
        "$-\\alpha u''(x)+\\beta u'(x)+\\gamma u(x)=f(x) \\quad \\in (a,b)$\n",
        "\n",
        "$u(a)=u_a, \\quad u(b)=u_b$\n"
      ]
    },
    {
      "cell_type": "markdown",
      "metadata": {
        "id": "j8p08w7TRj34"
      },
      "source": [
        "**Exercise 5.** Now take any of the problems above, but this time with data such that you do not know the exact solution. How would you test the order of convergence of the FD method?"
      ]
    },
    {
      "cell_type": "markdown",
      "metadata": {
        "id": "V7wJbF9dcdqr"
      },
      "source": [
        "**Exersie 6.** Consider again the problem from Exercise 4.\n",
        "\n",
        "Fix $a=0$, $b=1$, $u_a=1$, $u_b=0$ $f=0$.\n",
        "\n",
        "Try first with $\\alpha=\\beta=\\gamma=1$ and plot the solution.\n",
        "\n",
        "Next, try with $\\alpha=0.01$, and $\\beta=1$, $\\gamma=0$. What happens? Can you explain?"
      ]
    }
  ],
  "metadata": {
    "colab": {
      "authorship_tag": "ABX9TyMB44PUPUfh4syakkIwGftm",
      "include_colab_link": true,
      "name": "C2.ipynb",
      "provenance": []
    },
    "kernelspec": {
      "display_name": "Python 3",
      "name": "python3"
    },
    "language_info": {
      "codemirror_mode": {
        "name": "ipython",
        "version": 3
      },
      "file_extension": ".py",
      "mimetype": "text/x-python",
      "name": "python",
      "nbconvert_exporter": "python",
      "pygments_lexer": "ipython3",
      "version": "3.9.10"
    }
  },
  "nbformat": 4,
  "nbformat_minor": 0
}
