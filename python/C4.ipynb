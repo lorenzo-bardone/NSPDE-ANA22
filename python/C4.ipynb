{
  "cells": [
    {
      "cell_type": "markdown",
      "metadata": {
        "colab_type": "text",
        "id": "view-in-github"
      },
      "source": [
        "<a href=\"https://colab.research.google.com/github/andreacangiani/NSPDE-ANA22/blob/main/python/C4.ipynb\" target=\"_parent\"><img src=\"https://colab.research.google.com/assets/colab-badge.svg\" alt=\"Open In Colab\"/></a>"
      ]
    },
    {
      "cell_type": "markdown",
      "metadata": {
        "id": "zB4VXUN-IBC6"
      },
      "source": [
        "# Finite Element Method in 1D"
      ]
    },
    {
      "cell_type": "markdown",
      "metadata": {
        "id": "yuQpsduuIGBS"
      },
      "source": [
        "1. Linear ($k=1$) Finite Element Method solver for the 1D Poisson problem:\n",
        "\n",
        "$-\\Delta u=f \\quad \\in \\Omega=(a,b)^2$\n",
        "\n",
        "$u|_{\\partial\\Omega}=0$"
      ]
    },
    {
      "cell_type": "markdown",
      "metadata": {
        "id": "3uZh9S5ZIYZi"
      },
      "source": [
        "Import usual modules"
      ]
    },
    {
      "cell_type": "code",
      "execution_count": 1,
      "metadata": {
        "id": "7ECrogObH7yZ"
      },
      "outputs": [],
      "source": [
        "import numpy as np\n",
        "import matplotlib.pyplot as plt\n",
        "import scipy.sparse as sp\n",
        "from scipy.sparse.linalg import spsolve\n",
        "from scipy.sparse.linalg import eigsh"
      ]
    },
    {
      "cell_type": "markdown",
      "metadata": {
        "id": "ZA-GnWjJIj2F"
      },
      "source": [
        "FEM system assembly with trapezoidal rule for rhs"
      ]
    },
    {
      "cell_type": "code",
      "execution_count": 2,
      "metadata": {
        "id": "WpXoSBYkIpZv"
      },
      "outputs": [],
      "source": [
        "def FEM1_1D_TRAP(omega,N,rhs):\n",
        "  # 1D FEM with k=1 system matrix and rhs for\n",
        "  # diffusion problem with homogeneous Dirichlet bc\n",
        "  # trapezoidal rule uniform grid\n",
        "\n",
        "  # grid is defined here as uni\n",
        "  h = (omega[1]-omega[0])/N\n",
        "  vertices = np.linspace(omega[0],omega[1],N+1)\n",
        "\n",
        "  # initialise system\n",
        "  A=sp.lil_matrix((N+1,N+1))\n",
        "  F=np.zeros(N+1)\n",
        "  # Assembly loop (create local matrix 2x2 and local rhs and then assembly )\n",
        "  for  i in range(N):\n",
        "    #ele_A by a priori knowledge\n",
        "    ele_A=np.array([[1/h, -1/h],[-1/h,1/h]])\n",
        "\n",
        "    #see L9 last part for formula of integral\n",
        "    ele_F=0.5*h*rhs(vertices[i:i+2])\n",
        "\n",
        "    #Assembly local-to-global\n",
        "    A[i:i+2,i:i+2]+= ele_A\n",
        "    F[i:i+2] += ele_F\n",
        "    \n",
        "  # Apply boundary conditions\n",
        "  A[0,0]=1/h;A[0,1]=0; F[0]=0\n",
        "  A[-1,-1]=1/h; A[-1,-2]=0; F[N]=0\n",
        "\n",
        "  # return system matrix and rhs vector\n",
        "  return A, F"
      ]
    },
    {
      "cell_type": "markdown",
      "metadata": {
        "id": "Lk6jlfygJX9c"
      },
      "source": [
        "Define FEM problem and solve"
      ]
    },
    {
      "cell_type": "code",
      "execution_count": 5,
      "metadata": {
        "id": "Haoo0fWRJbLa"
      },
      "outputs": [
        {
          "name": "stdout",
          "output_type": "stream",
          "text": [
            "discrete error 0.003643371514502114\n"
          ]
        }
      ],
      "source": [
        "\n",
        "omega = [0,np.pi]\n",
        "rhs = lambda x: np.sin(x)\n",
        "exact = lambda x: np.sin(x)\n",
        "\n",
        "N=15; \n",
        "n_qpoints = 3\n",
        "\n",
        "# call function computing FEM system\n",
        "A,F=FEM1_1D_TRAP(omega,N,rhs)\n",
        "\n",
        "# solve\n",
        "Uh=sp.linalg.spsolve(A,F)\n",
        "# Evaluate exact solution at grid nodes\n",
        "x=np.linspace(omega[0],omega[1],N+1)\n",
        "U=exact(x)\n",
        "print(\"discrete error\",np.max(np.abs(Uh-U)))\n",
        "\n",
        "# Plot solutions\n",
        "\n",
        "# compute discrete max norm error \n"
      ]
    },
    {
      "cell_type": "markdown",
      "metadata": {
        "id": "H4eLL1bxKjxA"
      },
      "source": [
        "2. Repeat exercise but using arbitrary order Gauss integration and possibly nonuniform grid"
      ]
    },
    {
      "cell_type": "code",
      "execution_count": 6,
      "metadata": {
        "id": "K76sA6orKq44"
      },
      "outputs": [],
      "source": [
        "# Gauss quadrature formula on [0,1]\n",
        "def quadrature(n_quadrature_points):\n",
        "\n",
        "  # exploit numpy Gauss quadrature. This is defined in [-1,1]\n",
        "  q, w = np.polynomial.legendre.leggauss(n_quadrature_points)\n",
        "\n",
        "  return (q+1)/2, w/2"
      ]
    },
    {
      "cell_type": "markdown",
      "metadata": {
        "id": "dXYP11H2WI73"
      },
      "source": [
        "Function defining the mesh"
      ]
    },
    {
      "cell_type": "code",
      "execution_count": 7,
      "metadata": {
        "id": "Lwu1e4TsVyjA"
      },
      "outputs": [],
      "source": [
        "def mesh(omega,N):\n",
        "  return np.linspace(omega[0],omega[1],N+1)"
      ]
    },
    {
      "cell_type": "markdown",
      "metadata": {
        "id": "5ggpOGCCKx0e"
      },
      "source": [
        "Define reference element transformation of coordinates"
      ]
    },
    {
      "cell_type": "code",
      "execution_count": 8,
      "metadata": {
        "id": "EbTQ7oWvKw4O"
      },
      "outputs": [],
      "source": [
        "# Transformation of coordinates functions:\n",
        "# reference element -> current element\n",
        "# [0,1] -> [q[i], q[i+1]]\n",
        "\n",
        "def mapping(q, i):\n",
        "    \n",
        "    # check index is within range\n",
        "    assert i < len(q)-1\n",
        "    assert i >= 0\n",
        "\n",
        "    return lambda x: q[i]+x*(q[i+1]-q[i])\n",
        "\n",
        "def mapping_J(q,i):\n",
        "    assert i < len(q)-1\n",
        "    assert i >= 0\n",
        "    return (q[i+1]-q[i])\n",
        "\n",
        "# Linear lagrange basis on reference element\n",
        "def basis1(i):\n",
        "    assert i < 2\n",
        "    assert i >= 0\n",
        "    if i == 0:\n",
        "      phi = lambda x: 1-x\n",
        "    else:\n",
        "      phi = lambda x: x\n",
        "    return phi\n",
        "\n",
        "# Linear lagrange basis derivatives on reference element\n",
        "def basis1_derivative(i):\n",
        "    assert i < 2\n",
        "    assert i >= 0\n",
        "    if i == 0:\n",
        "      dphi = lambda x: -np.ones(len(x))\n",
        "    else:\n",
        "      dphi = lambda x: np.ones(len(x))\n",
        "    return dphi"
      ]
    },
    {
      "cell_type": "markdown",
      "metadata": {
        "id": "HYYC2YknLOxP"
      },
      "source": [
        "FEM system assembly with Gauss integration\n",
        "\n"
      ]
    },
    {
      "cell_type": "code",
      "execution_count": null,
      "metadata": {
        "id": "-wIMV3GKLKUa"
      },
      "outputs": [],
      "source": [
        "def FEM1_1D_GAUSS(omega,N,n_qpoints,rhs):\n",
        "  # 1D FEM with k=1 system matrix and rhs\n",
        "\n",
        "  # grid\n",
        "  vertices=mesh(omega, N)\n",
        "\n",
        "  # quadrature formula on reference element\n",
        "  q,w=quadrature(n_qpoints)\n",
        "\n",
        "  # Evaluation of linear Lagrange basis \n",
        "  #see recording or solutions\n",
        "\n",
        "  # initialise system\n",
        "\n",
        "  # Assembly loop\n",
        "\n",
        "  # return system matrix and rhs vector\n",
        "  return A, F"
      ]
    },
    {
      "cell_type": "markdown",
      "metadata": {
        "id": "3M2vdz58L3ws"
      },
      "source": [
        "Function implementing the boundary (nonhomogeneous) Dirichlet conditions"
      ]
    },
    {
      "cell_type": "code",
      "execution_count": null,
      "metadata": {
        "id": "S4MWcm1wMIgr"
      },
      "outputs": [],
      "source": [
        "def apply_boundary_conditions(omega,N, A, F, g):\n"
      ]
    },
    {
      "cell_type": "markdown",
      "metadata": {
        "id": "DBzkZQxjMcQb"
      },
      "source": [
        "Define FEM problem and solve"
      ]
    },
    {
      "cell_type": "code",
      "execution_count": null,
      "metadata": {
        "id": "OAlSKDRFMX_g"
      },
      "outputs": [],
      "source": [
        "omega = [0,1]\n",
        "rhs = lambda x: np.sin(x)\n",
        "sol = lambda x: np.sin(x)\n",
        "\n",
        "# Initialise error vector\n",
        "Err = np.zeros(7)\n",
        "NN = np.zeros(7)\n",
        "Cond = np.zeros(7)\n",
        "\n",
        "for i in range(7):\n",
        "  N = 2**(i+2)\n",
        "  NN[i] = N\n",
        "  n_qpoints = 1\n",
        "\n",
        "  # call function computing FEM system\n",
        "\n",
        "  # solve\n",
        "\n",
        "  #condition number of Stiffness matrix\n",
        "\n",
        "  # Evaluate exact solution at grid nodes\n",
        "\n",
        "  # Compute errors \n",
        "\n",
        "  # Plot error"
      ]
    },
    {
      "cell_type": "markdown",
      "metadata": {
        "id": "ATHWTUKJSNP6"
      },
      "source": [
        "Function computing $H^1$-norm error"
      ]
    },
    {
      "cell_type": "code",
      "execution_count": null,
      "metadata": {
        "id": "5ij1-L_NSZaV"
      },
      "outputs": [],
      "source": [
        "def FEM1_H1(omega,N,n_qpoints,Uh,sol):\n",
        "  # H1 error\n",
        "\n",
        "  # grid\n",
        "\n",
        "  # quadrature formula on reference element\n",
        "\n",
        "\n",
        "  # Evaluation of linear Lagrange basis \n",
        "\n",
        "\n",
        "  # initialise value of norm of error\n",
        "\n",
        "\n",
        "  # Assembly error\n",
        "  \n",
        "\n",
        "  # Return error\n"
      ]
    },
    {
      "cell_type": "markdown",
      "metadata": {
        "id": "wzuVFLYsXgec"
      },
      "source": [
        "**Exercise 1**: Try code with nonuniform grid "
      ]
    },
    {
      "cell_type": "markdown",
      "metadata": {
        "id": "Cxeu1oSRXpFr"
      },
      "source": [
        "**Exercise 2**: Write code solving general reaction-advection-diffusion problems"
      ]
    }
  ],
  "metadata": {
    "colab": {
      "authorship_tag": "ABX9TyOVXYe1em/Srmd/iFKfwxbd",
      "include_colab_link": true,
      "name": "C4.ipynb",
      "provenance": []
    },
    "kernelspec": {
      "display_name": "Python 3",
      "name": "python3"
    },
    "language_info": {
      "codemirror_mode": {
        "name": "ipython",
        "version": 3
      },
      "file_extension": ".py",
      "mimetype": "text/x-python",
      "name": "python",
      "nbconvert_exporter": "python",
      "pygments_lexer": "ipython3",
      "version": "3.9.12"
    }
  },
  "nbformat": 4,
  "nbformat_minor": 0
}
