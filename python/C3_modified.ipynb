{
  "cells": [
    {
      "cell_type": "markdown",
      "metadata": {
        "colab_type": "text",
        "id": "view-in-github"
      },
      "source": [
        "<a href=\"https://colab.research.google.com/github/andreacangiani/NSPDE-ANA22/blob/main/python/C3.ipynb\" target=\"_parent\"><img src=\"https://colab.research.google.com/assets/colab-badge.svg\" alt=\"Open In Colab\"/></a>"
      ]
    },
    {
      "cell_type": "markdown",
      "metadata": {
        "id": "EYPTFFAQN3BY"
      },
      "source": [
        "# Finite Difference for 1D reaction-advection-diffusion problem"
      ]
    },
    {
      "cell_type": "markdown",
      "metadata": {
        "id": "VXF0WBPFNRtO"
      },
      "source": [
        "1. Finite Difference solver for the reaction-advection-diffusion problem:\n",
        "\n",
        "$-\\alpha u''(x)+\\beta u'(x)+\\gamma u(x)=f(x) \\quad \\in (a,b)$\n",
        "\n",
        "$u(a)=0, \\quad u(b)=0$"
      ]
    },
    {
      "cell_type": "code",
      "execution_count": 5,
      "metadata": {
        "id": "cVTxIyM7NFyh"
      },
      "outputs": [],
      "source": [
        "import numpy as np\n",
        "import matplotlib.pyplot as plt\n",
        "import scipy.sparse as sp\n",
        "from scipy.sparse.linalg import spsolve"
      ]
    },
    {
      "cell_type": "markdown",
      "metadata": {
        "id": "SRJ5pqdRPUtH"
      },
      "source": [
        "Function computing the 1D FD algebric system"
      ]
    },
    {
      "cell_type": "code",
      "execution_count": 23,
      "metadata": {
        "id": "vdKU9vmTOI72"
      },
      "outputs": [],
      "source": [
        "def FD1D(omega,N,alpha,beta,gamma,rhs):\n",
        "  # FD system matrix and rhs for\n",
        "  # diffusion-advection-reaction problem with coeffs\n",
        "  # alpha,beta,gamma,rhs\n",
        "  # homogeneous Dirichlet bc\n",
        "  # uniform grid in sparse CSR format\n",
        "\n",
        "  # grid\n",
        "  h = (omega[1]-omega[0])/N\n",
        "  x = np.linspace(omega[0],omega[1],N+1)\n",
        "\n",
        "  # compute rhs\n",
        "  f = rhs(x[1:-1])\n",
        "  \n",
        "  # evaluate PDE coeffs\n",
        "  diff = alpha(x)\n",
        "  conv = beta(x)\n",
        "  reac = gamma(x)\n",
        "\n",
        "  # compute diagonal entries\n",
        "  diff_term =[-diff[1:], 2*diff, -diff[:-1]]\n",
        "  conv_term = [-conv[1:], conv[0:-1]]\n",
        "\n",
        "  # compute systmen matrix\n",
        "  A =(1./h**2)*sp.diags(diff_term,[-1,0,1],format=\"csr\") +(1./(2*h))*sp.diags(conv_term,[-1,1],format=\"csr\")+ sp.diags(reac,0,format=\"csr\")\n",
        "  A=A[1:-1,1:-1]\n",
        "\n",
        "  # apply boundary conditions\n",
        "\n",
        "  return A,f"
      ]
    },
    {
      "cell_type": "code",
      "execution_count": 24,
      "metadata": {},
      "outputs": [],
      "source": [
        "def FD1Dalt(omega,N,alpha,beta,gamma,rhs):\n",
        "  # FD system matrix and rhs for\n",
        "  # diffusion-advection-reaction problem with coeffs\n",
        "  # alpha,beta,gamma,rhs\n",
        "  # homogeneous Dirichlet bc\n",
        "  # uniform grid in sparse CSR format\n",
        "\n",
        "  # grid\n",
        "  h = (omega[1]-omega[0])/N\n",
        "  x = np.linspace(omega[0],omega[1],N+1)\n",
        "\n",
        "  # compute rhs\n",
        "  f = rhs(x)\n",
        "  \n",
        "  # evaluate PDE coeffs\n",
        "  diff = alpha(x)\n",
        "  conv = beta(x)\n",
        "  reac = gamma(x)\n",
        "\n",
        "  # compute diagonal entries\n",
        "  diff_term =[-diff[1:], 2*diff, -diff[:-1]]\n",
        "  conv_term = [-conv[1:], conv[0:-1]]\n",
        "\n",
        "  # compute systmen matrix\n",
        "  A =(1./h**2)*sp.diags(diff_term,[-1,0,1],format=\"csr\") +(1./(2*h))*sp.diags(conv_term,[-1,1],format=\"csr\")+ sp.diags(reac,0,format=\"csr\")\n",
        "\n",
        "  # apply boundary conditions\n",
        "  A[0,0]=1; A[0,1]=0; f[0]=0\n",
        "  A[N,N]=1; A[N,N-1]; f[N]=0\n",
        "  return A,f"
      ]
    },
    {
      "cell_type": "markdown",
      "metadata": {
        "id": "kmjRdyh3PcKK"
      },
      "source": [
        "Define FD problem and solve"
      ]
    },
    {
      "cell_type": "code",
      "execution_count": 29,
      "metadata": {
        "id": "6W46kuk6PguW"
      },
      "outputs": [
        {
          "data": {
            "text/plain": [
              "[<matplotlib.lines.Line2D at 0x1567cb3e310>]"
            ]
          },
          "execution_count": 29,
          "metadata": {},
          "output_type": "execute_result"
        },
        {
          "data": {
            "image/png": "[encoded data removed]",
            "text/plain": [
              "<Figure size 432x288 with 1 Axes>"
            ]
          },
          "metadata": {
            "needs_background": "light"
          },
          "output_type": "display_data"
        }
      ],
      "source": [
        "# Problem domain\n",
        "omega = [0,np.pi]\n",
        "\n",
        "alpha = lambda x : 0.01 * np.ones(len(x))\n",
        "beta = lambda x :  1. * np.ones(len(x))\n",
        "gamma = lambda x : 1 * np.ones(len(x))\n",
        "rhs = lambda x :   1 * np.ones(len(x))\n",
        "\n",
        "# Grid\n",
        "N=20\n",
        "h = (omega[1]-omega[0])/N\n",
        "x = np.linspace(omega[0],omega[1],N+1)\n",
        "\n",
        "# FD system\n",
        "A, F = FD1Dalt(omega,N,alpha,beta,gamma,rhs)\n",
        "\n",
        "# solve\n",
        "Uh = sp.linalg.spsolve(A,F)\n",
        "\n",
        "# insert boundary conditions\n",
        "#Uh = np.insert(Uh,[0, N-1], [0., 0.])\n",
        "\n",
        "# plot solution\n",
        "plt.plot(x,Uh)"
      ]
    },
    {
      "cell_type": "markdown",
      "metadata": {
        "id": "shVPIPkmTlQy"
      },
      "source": [
        "Repeat exercise with larger system including boundary conditions"
      ]
    },
    {
      "cell_type": "code",
      "execution_count": null,
      "metadata": {
        "id": "Csg0gbiITqSg"
      },
      "outputs": [],
      "source": []
    },
    {
      "cell_type": "markdown",
      "metadata": {
        "id": "ohPbdO6sTsaw"
      },
      "source": [
        "Compute experimental order of convergence (EOC) using knowledge that \n",
        "\n",
        "$|| U-U_h ||_\\infty \\approx C h^k$\n",
        "\n",
        "with $C$ independent of $h$. Hence,\n",
        "\n",
        "$\\frac{|| U-U_{h_1} ||_\\infty}{|| U-U_{h_2} ||_\\infty}\\approx\\large(\\frac{h_1}{h_2}\\large)^k$,\n",
        "\n",
        "and then,\n",
        "\n",
        "$k\\approx\\frac{\\log || U-U_{h_1} ||_\\infty-\\log|| U-U_{h_2} ||_\\infty}{\\log h_1 - \\log h_2}$.\n",
        "\n",
        "Notice that to estimate the EOC you need to run at least two experiments, for instance with $h_1=h$, $h_2=h/2$."
      ]
    },
    {
      "cell_type": "code",
      "execution_count": null,
      "metadata": {
        "id": "34lm792MXmOu"
      },
      "outputs": [],
      "source": [
        "# Problem domain\n",
        "omega = [0,np.pi]\n",
        "\n",
        "alpha = lambda x : 1. * np.ones(len(x))\n",
        "beta = lambda x :  0. * np.ones(len(x))\n",
        "gamma = lambda x : 0. * np.ones(len(x))\n",
        "rhs =   lambda x : np.sin(x)\n",
        "sol =   lambda x : np.sin(x)\n",
        "\n",
        "# Fix number of experiments\n",
        "no_experiments = 12\n",
        "\n",
        "# initialise with first experiment\n",
        "\n",
        "# evaluate system for given N\n",
        "N = 5\n",
        "A, F = FD1D(omega,N,alpha,beta,gamma,rhs)\n",
        "# Solve\n",
        "U1 = sp.linalg.spsolve(A,F)\n",
        "\n",
        "for i in range(no_experiments-1):\n",
        "  # evaluate system for given N\n",
        "\n",
        "#exercise or copy professor solution\n",
        "\n",
        "\n",
        "  # Solve\n",
        " \n",
        "  # Compute error \n",
        "\n",
        "  # Update\n",
        "\n"
      ]
    },
    {
      "cell_type": "markdown",
      "metadata": {
        "id": "1qj6q7X1Xmwm"
      },
      "source": [
        "What if the exact solution is not known? Then we can still estiate the EOC but three experiments. Indeed, letting $h_2=\\theta h_1$, we have\n",
        "\n",
        "$|| U_{h_2}-U_{h_1} ||_\\infty\\le || U-U_{h_1} ||_\\infty + || U-U_{h_2} ||_\\infty\\approx C h_1^k+C h_2^k \\approx C (1+\\theta^k) h_1^k$\n",
        "\n",
        "Now, given also $h_3 = \\theta h_2$, we have similarly\n",
        "\n",
        "$|| U_{h_3}-U_{h_2} ||_\\infty \\approx C (1+\\theta^k) h_2^k=C (1+\\theta^k)\\theta^k h_1^k$\n",
        "\n",
        "hence,\n",
        "\n",
        "$\\frac{|| U_{h_2}-U_{h_1} ||_\\infty}{|| U_{h_3}-U_{h_2} ||_\\infty}\\approx \\frac{C (1+\\theta^k) h_1^k}{C (1+\\theta^k)\\theta^k h_1^k}=\\theta^{-k}$\n",
        "\n",
        "from which $k$ can be estimated as before by passing to the logs."
      ]
    },
    {
      "cell_type": "markdown",
      "metadata": {
        "id": "k3kDh9ypbi9-"
      },
      "source": []
    },
    {
      "cell_type": "markdown",
      "metadata": {
        "id": "N3UJHKF0XsQh"
      },
      "source": [
        "**Exercise:** try this out for the problem with $f=1$."
      ]
    },
    {
      "cell_type": "markdown",
      "metadata": {
        "id": "Ip4XOCpJb6xb"
      },
      "source": []
    },
    {
      "cell_type": "markdown",
      "metadata": {
        "id": "k0NjhLsBbd5b"
      },
      "source": [
        "# Finite Difference in 2D"
      ]
    },
    {
      "cell_type": "markdown",
      "metadata": {
        "id": "zeuhbUNybj4H"
      },
      "source": [
        "1. Finite Difference solver for the 2D Poisson problem:\n",
        "\n",
        "$-\\Delta u=f \\quad \\in \\Omega=(a,b)^2$\n",
        "\n",
        "$u|_{\\partial\\Omega}=0$"
      ]
    },
    {
      "cell_type": "markdown",
      "metadata": {
        "id": "x3qW3fmUdA7p"
      },
      "source": [
        "Function computing the 1D FD algebric system"
      ]
    },
    {
      "cell_type": "code",
      "execution_count": null,
      "metadata": {
        "id": "tdSowUE-bjKr"
      },
      "outputs": [],
      "source": [
        "def FD2D(omega,N,rhs):\n",
        "  # FD system matrix and rhs in omega^2 for\n",
        "  # diffusion-advection-reaction problem with coeffs\n",
        "  # alpha,beta,gamma,rhs\n",
        "  # homogeneous Dirichlet bc\n",
        "  # uniform grid in sparse CSR format\n",
        "  # with Nx = Ny = N\n",
        "\n",
        "  # grid\n",
        "  h = (omega[1]-omega[0])/N\n",
        "  x = np.linspace(omega[0],omega[1],N+1)\n",
        "  y = x\n",
        "\n",
        "  # Compute rhs\n",
        "  \n",
        "  # compute system matrix\n",
        "\n",
        "  # Implement boundary conditions\n",
        "\n",
        "\n",
        "  return"
      ]
    },
    {
      "cell_type": "markdown",
      "metadata": {
        "id": "k-aLijlBdhYB"
      },
      "source": [
        "Define FD problem and solve"
      ]
    },
    {
      "cell_type": "code",
      "execution_count": null,
      "metadata": {
        "id": "fWI5O3vYdiKk"
      },
      "outputs": [],
      "source": [
        "omega = [0,np.pi,0,np.pi]\n",
        "N = 100\n",
        "rhs = lambda x, y : 2 * np.sin(x) * np.sin(y)\n",
        "exact = lambda x, y : np.sin(x) * np.sin(y)\n",
        "\n",
        "# call function computing FD system\n",
        "\n",
        "# solve\n",
        "\n",
        "# plot solution\n",
        "\n",
        "# Prepare data for plotting \n",
        "\n",
        "# Plot the solution\n",
        "fig, ax = plt.subplots(subplot_kw={\"projection\": \"3d\"})\n",
        "surf = ax.plot_surface(X, Y, U, cmap=cm.coolwarm,\n",
        "                       linewidth=0, antialiased=False)\n",
        "\n",
        "plt.show()\n",
        "\n",
        "\n",
        "\n",
        "\n"
      ]
    },
    {
      "cell_type": "markdown",
      "metadata": {
        "id": "hkDkYnV2elVw"
      },
      "source": [
        "**Exercise:** Compute error and EOC "
      ]
    },
    {
      "cell_type": "markdown",
      "metadata": {
        "id": "3WgSBqKuezhV"
      },
      "source": [
        "**Exercise:** Generalise to more general elliptic problems (PDE and boundary conditions)"
      ]
    }
  ],
  "metadata": {
    "colab": {
      "authorship_tag": "ABX9TyM2dnOth48qX3Kp3z7pfNGv",
      "include_colab_link": true,
      "name": "C3.ipynb",
      "provenance": []
    },
    "kernelspec": {
      "display_name": "Python 3",
      "name": "python3"
    },
    "language_info": {
      "codemirror_mode": {
        "name": "ipython",
        "version": 3
      },
      "file_extension": ".py",
      "mimetype": "text/x-python",
      "name": "python",
      "nbconvert_exporter": "python",
      "pygments_lexer": "ipython3",
      "version": "3.9.10"
    }
  },
  "nbformat": 4,
  "nbformat_minor": 0
}
