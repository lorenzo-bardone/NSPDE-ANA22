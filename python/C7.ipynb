{
  "nbformat": 4,
  "nbformat_minor": 0,
  "metadata": {
    "colab": {
      "name": "C7.ipynb",
      "provenance": [],
      "authorship_tag": "ABX9TyMQBXS+DhucO1RC7A8rN+9a",
      "include_colab_link": true
    },
    "kernelspec": {
      "name": "python3",
      "display_name": "Python 3"
    },
    "language_info": {
      "name": "python"
    }
  },
  "cells": [
    {
      "cell_type": "markdown",
      "metadata": {
        "id": "view-in-github",
        "colab_type": "text"
      },
      "source": [
        "<a href=\"https://colab.research.google.com/github/andreacangiani/NSPDE-ANA22/blob/main/python/C7.ipynb\" target=\"_parent\"><img src=\"https://colab.research.google.com/assets/colab-badge.svg\" alt=\"Open In Colab\"/></a>"
      ]
    },
    {
      "cell_type": "markdown",
      "source": [
        "# FEniCSx Tutorial 2: solving a diffusion problem in 2D"
      ],
      "metadata": {
        "id": "_xNKsr0STBRP"
      }
    },
    {
      "cell_type": "markdown",
      "source": [
        ""
      ],
      "metadata": {
        "id": "aWmrfpBxS_0H"
      }
    },
    {
      "cell_type": "markdown",
      "source": [
        "Load FEniCSx modules"
      ],
      "metadata": {
        "id": "fBMAMfrnTT63"
      }
    },
    {
      "cell_type": "code",
      "execution_count": null,
      "metadata": {
        "id": "WMF6CUwWS29z"
      },
      "outputs": [],
      "source": [
        "try:\n",
        "    import dolfinx\n",
        "except ImportError:\n",
        "    !wget \"https://github.com/fem-on-colab/fem-on-colab.github.io/raw/20faf6e/releases/fenicsx-install-real.sh\" -O \"/tmp/fenicsx-install.sh\" && bash \"/tmp/fenicsx-install.sh\"\n",
        "    import dolfinx"
      ]
    },
    {
      "cell_type": "code",
      "source": [
        "try:\n",
        "    import pyvista\n",
        "except ImportError:\n",
        "    !pip3 install itkwidgets==0.32.1 pyvista==0.33.2\n",
        "    import pyvista\n",
        "finally:\n",
        "    import google.colab\n",
        "    google.colab.output.enable_custom_widget_manager()"
      ],
      "metadata": {
        "id": "Jy79QPMRTdK9"
      },
      "execution_count": null,
      "outputs": []
    },
    {
      "cell_type": "code",
      "source": [
        "try:\n",
        "    import multiphenicsx\n",
        "except ImportError:\n",
        "    !pip3 install \"multiphenicsx@git+https://github.com/multiphenics/multiphenicsx.git@bdc5d58\"\n",
        "    import multiphenicsx"
      ],
      "metadata": {
        "id": "GuIOrrDvTfxx"
      },
      "execution_count": null,
      "outputs": []
    },
    {
      "cell_type": "code",
      "source": [
        "import dolfinx.fem\n",
        "import dolfinx.mesh\n",
        "import mpi4py\n",
        "import multiphenicsx.io\n",
        "import numpy as np\n",
        "import ufl"
      ],
      "metadata": {
        "id": "uPArpuUgTglM"
      },
      "execution_count": null,
      "outputs": []
    },
    {
      "cell_type": "markdown",
      "source": [
        "We consider the model boundary value problem: find $u: \\Omega = (0, 1)^2 \\to \\mathbb{R}$ such that\n",
        "\\begin{equation*}\n",
        "\\begin{cases}\n",
        "- \\Delta u = f, & \\text{in } \\Omega,\\\\\n",
        "u = g, & \\text{on } \\partial\\Omega.\n",
        "\\end{cases}\n",
        "\\end{equation*}\n",
        "\n",
        "with $f\\equiv 1$ and the boundary value $g(\\mathbf{x})$ given by\n",
        "$$\n",
        "g(\\mathbf{x}) = g(x_0, x_1) = \\sin(3 \\pi x_0 + 1) \\ \\sin(3 \\pi x_1 + 1).\n",
        "$$"
      ],
      "metadata": {
        "id": "5n3yU3bgTqSh"
      }
    },
    {
      "cell_type": "markdown",
      "source": [
        "\n",
        "**Task 1: create a mesh.** As first example, we generate a triangular mesh of the domain $\\Omega$, dividing both the horizontal and vertical sides of the square in nxm equispaced subintervals.\n",
        "\n",
        "Similarly to 1D case, `dolfinx.mesh` provides the function `create_unit_square` for this task. "
      ],
      "metadata": {
        "id": "JuPOCXx-T8wV"
      }
    },
    {
      "cell_type": "code",
      "source": [
        "n =\n",
        "m =\n",
        "mesh = "
      ],
      "metadata": {
        "id": "pF1Tpx8IUjTz"
      },
      "execution_count": null,
      "outputs": []
    },
    {
      "cell_type": "markdown",
      "source": [
        "Let's see how many cells are in the mesh. \n",
        "\n",
        "We store in:\n",
        "* tdim: the problem dimension (2)\n",
        "* fdim: the mesh scheleton entities dimension (1)\n",
        "* num_cells: the number of triangles in the mesh"
      ],
      "metadata": {
        "id": "ef4UIz_thrih"
      }
    },
    {
      "cell_type": "code",
      "source": [
        "tdim = \n",
        "fdim = \n",
        "\n",
        "num_cells"
      ],
      "metadata": {
        "id": "sAmv5f7kbFvS"
      },
      "execution_count": null,
      "outputs": []
    },
    {
      "cell_type": "markdown",
      "source": [
        "We can obtain an interactive plot of the domain using `pyvista`. (Click on the menu: next to the dropdown that contains \"Geometry 0\" you may find three different representations: the domain itself, the edges of the mesh, and both overlayed.)"
      ],
      "metadata": {
        "id": "sQzzflCSVMah"
      }
    },
    {
      "cell_type": "code",
      "source": [
        "multiphenicsx.io.plot_mesh(mesh)"
      ],
      "metadata": {
        "id": "I1osUxojVrPJ"
      },
      "execution_count": null,
      "outputs": []
    },
    {
      "cell_type": "markdown",
      "source": [
        "**Task 2:** Determine IDs of boundary edges in view of the application of the Dirichlet boundary condition.\n",
        "\n",
        "As in 1D case, this is obtained via the `dolfinx.mesh` `locate_entities_boundary` function. We want all edges on the boundary, but the function always requires a third input to permit the selection of parts of the boundary. As a workaround to this, we pass as third argument the function which always returns `True`."
      ],
      "metadata": {
        "id": "asiKDasAWY6n"
      }
    },
    {
      "cell_type": "code",
      "source": [
        "boundary_entities = \n"
      ],
      "metadata": {
        "id": "SVXfQiIeWwGc"
      },
      "execution_count": null,
      "outputs": []
    },
    {
      "cell_type": "markdown",
      "source": [
        "and we can visualise the found boundary entities to check this was done correctly."
      ],
      "metadata": {
        "id": "Z4MIxH8AYV7D"
      }
    },
    {
      "cell_type": "code",
      "source": [
        "multiphenicsx.io.plot_mesh_entities(mesh, fdim, boundary_entities)"
      ],
      "metadata": {
        "id": "SRVpHc01YdNU"
      },
      "execution_count": null,
      "outputs": []
    },
    {
      "cell_type": "markdown",
      "source": [
        "**Task 3: create FEM space.**\n",
        "\n",
        "Define the finite element function space $V_h$ using $\\mathbb{P}_1$ Lagrange elements.\n",
        "\n",
        "This part of the code is indistinguishable from the 1D version..."
      ],
      "metadata": {
        "id": "NOMQFzZJmVTd"
      }
    },
    {
      "cell_type": "code",
      "source": [
        "Vh = "
      ],
      "metadata": {
        "id": "D1QNin0imfl4"
      },
      "execution_count": null,
      "outputs": []
    },
    {
      "cell_type": "markdown",
      "source": [
        "... and compute its dimension"
      ],
      "metadata": {
        "id": "0vWpPzr5mmI3"
      }
    },
    {
      "cell_type": "code",
      "source": [
        "Vh_dim = "
      ],
      "metadata": {
        "id": "iKYaXya1mozq"
      },
      "execution_count": null,
      "outputs": []
    },
    {
      "cell_type": "markdown",
      "source": [
        "Once the FE space is at hand, we introduce ufl symbols to define the trial and test functions for our weak formulation:"
      ],
      "metadata": {
        "id": "gfq7b2dRmzIF"
      }
    },
    {
      "cell_type": "code",
      "source": [
        "uh = \n",
        "vh = "
      ],
      "metadata": {
        "id": "srnG2gYjnAfD"
      },
      "execution_count": null,
      "outputs": []
    },
    {
      "cell_type": "markdown",
      "source": [
        "**Task 4:** set up FEM system\n",
        "\n",
        "We produce the weak formulation of the problem: find $u_h\\in V_h$ such that\n",
        "$$ \\int_\\Omega \\nabla u \\cdot \\nabla v \\ \\mathrm{d} \\mathbf{x} = \\int_\\Omega f \\ v \\ \\mathrm{d} \\mathbf{x},\\qquad\\forall v_h\\in V_h$$\n",
        "using `ufl`."
      ],
      "metadata": {
        "id": "6O-LPzYQnK5L"
      }
    },
    {
      "cell_type": "code",
      "source": [
        ""
      ],
      "metadata": {
        "id": "34_EvwwYnilD"
      },
      "execution_count": null,
      "outputs": []
    },
    {
      "cell_type": "code",
      "source": [
        ""
      ],
      "metadata": {
        "id": "JLZ2N4eeooHb"
      },
      "execution_count": null,
      "outputs": []
    },
    {
      "cell_type": "markdown",
      "source": [
        "**Task 5:** set up the boundary conditions\n",
        "\n",
        "In order to assign the boundary condition we first need to evaluate the expression of $g$ (i.e. $\\sin(3 \\pi x_0 + 1) \\ \\sin(3 \\pi x_1 + 1)$ in our case) on the finite element space $V_h$. We do this by interpolation, so we define the discrete boundary condition as \n",
        "$$g_h=I_h g$$ \n",
        "\n",
        "with $I_h$ the interpolation operator."
      ],
      "metadata": {
        "id": "20lvPHWOFAb-"
      }
    },
    {
      "cell_type": "code",
      "source": [
        "gh = "
      ],
      "metadata": {
        "id": "zCKAWD0ME_6m"
      },
      "execution_count": null,
      "outputs": []
    },
    {
      "cell_type": "markdown",
      "source": [
        "We then initialize a `dolfinx.fem` `dirichletbc` object, stating that the Dirichlet boundary condition should be equal to `gh` on each facet in `boundary_entities`."
      ],
      "metadata": {
        "id": "ivZhXNbxHEZo"
      }
    },
    {
      "cell_type": "code",
      "source": [
        "boundary_dofs = \n",
        "bc = "
      ],
      "metadata": {
        "id": "BeL2pvXvHKLl"
      },
      "execution_count": null,
      "outputs": []
    },
    {
      "cell_type": "markdown",
      "source": [
        "**Task 6:** solve the FEM system.\n",
        "\n",
        "As in 1D case, we have to first provide a `Function` class to store the solution of a finite element problem and then we are ready to solve the discrete problem allocating a new `LinearProblem` (which uses `PETSc`), providing as input the bilinear form `a`, the linear functional `F`, the boundary conditions `bcs`, and where to store the solution. Further solver options can also be passed to `PETSc`."
      ],
      "metadata": {
        "id": "4yPtHI-hHfuA"
      }
    },
    {
      "cell_type": "code",
      "source": [
        "solution = "
      ],
      "metadata": {
        "id": "pOevHkspHm81"
      },
      "execution_count": null,
      "outputs": []
    },
    {
      "cell_type": "code",
      "source": [
        "problem = dolfinx.fem.petsc.LinearProblem(\n",
        "    a, F, bcs=[bc], u=solution,\n",
        "    petsc_options={\"ksp_type\": \"preonly\", \"pc_type\": \"lu\", \"pc_factor_mat_solver_type\": \"mumps\"})\n",
        "_ = problem.solve()"
      ],
      "metadata": {
        "id": "TTmev_CpICDD"
      },
      "execution_count": null,
      "outputs": []
    },
    {
      "cell_type": "markdown",
      "source": [
        "**Task7:** plot the solution"
      ],
      "metadata": {
        "id": "zpCAqJaFIHgJ"
      }
    },
    {
      "cell_type": "code",
      "source": [
        "multiphenicsx.io.plot_scalar_field(solution, \"u_h\")"
      ],
      "metadata": {
        "id": "1WiMjCEgIL_6"
      },
      "execution_count": null,
      "outputs": []
    },
    {
      "cell_type": "markdown",
      "source": [
        "And here is a3D plot:"
      ],
      "metadata": {
        "id": "o8TKxXjpJAHj"
      }
    },
    {
      "cell_type": "code",
      "source": [
        "multiphenicsx.io.plot_scalar_field(solution, \"u_h\", warp_factor=0.1)"
      ],
      "metadata": {
        "id": "68FcGJtpJCTR"
      },
      "execution_count": null,
      "outputs": []
    },
    {
      "cell_type": "markdown",
      "source": [
        "# Working with subdomains"
      ],
      "metadata": {
        "id": "_k_oWWpCLBM_"
      }
    },
    {
      "cell_type": "markdown",
      "source": [
        "We now solve the same problem but with the forcing function given by:\n",
        "\n",
        "$$\n",
        "f(\\mathbf{x}) = \\begin{cases}\n",
        "50, & \\mathbf{x} \\in [0.2, 0.8]^2,\\\\\n",
        "1, & \\text{otherwise},\n",
        "\\end{cases}\n",
        "$$\n"
      ],
      "metadata": {
        "id": "pdIpkRmtMffA"
      }
    },
    {
      "cell_type": "markdown",
      "source": [
        "We shall code this using by defining two subdomains:\n",
        "$$\\Omega_0 = [0.2, 0.8]^2 \\quad \\text{and} \\quad \\Omega_1 = \\Omega \\setminus \\Omega_0$$ \n",
        "\n",
        " In order to do so, we need to ensure that the mesh is alligned with the subdomains. For instance, we can take $n=m=10$: "
      ],
      "metadata": {
        "id": "HNWURYx1NsdW"
      }
    },
    {
      "cell_type": "code",
      "source": [
        "n = 10\n",
        "m = 10\n",
        "mesh = dolfinx.mesh.create_unit_square(mpi4py.MPI.COMM_WORLD, n, m)\n",
        "\n",
        "num_cells = mesh.topology.index_map(tdim).size_local\n",
        "num_cells"
      ],
      "metadata": {
        "id": "9UA5SYccOXy-"
      },
      "execution_count": null,
      "outputs": []
    },
    {
      "cell_type": "code",
      "source": [
        "multiphenicsx.io.plot_mesh(mesh)"
      ],
      "metadata": {
        "id": "aJKirouJOiZq"
      },
      "execution_count": null,
      "outputs": []
    },
    {
      "cell_type": "code",
      "source": [
        ""
      ],
      "metadata": {
        "id": "Nc_S0bJNOwg-"
      },
      "execution_count": null,
      "outputs": []
    },
    {
      "cell_type": "markdown",
      "source": [
        "**New Task:** Define the two subdomains $\\Omega_0$ and $\\Omega_1$ in view of the implementation of the forcing function $f$.\n",
        "\n",
        "*   mark $\\Omega_0$ and $\\Omega_1$ with labels `0` and `1`\n",
        "*   use the `dolfinx.mesh` function `locate_entities` to determine whether a cell is in $\\Omega_0$. This function checks each of the three vertices of the triangular cell, and locates all cells in which the provided condition is satisfied on all three vertices."
      ],
      "metadata": {
        "id": "i1_BNXZwYxlE"
      }
    },
    {
      "cell_type": "code",
      "source": [
        ""
      ],
      "metadata": {
        "id": "lYVPmDpJaxet"
      },
      "execution_count": null,
      "outputs": []
    },
    {
      "cell_type": "markdown",
      "source": [
        "We label each cell in $\\Omega_0$ with the label `0` by using the `np.full` function which return a new array with shape of input filled with value."
      ],
      "metadata": {
        "id": "TSV13ZuEiZf8"
      }
    },
    {
      "cell_type": "code",
      "source": [
        "cells_0_labels = "
      ],
      "metadata": {
        "id": "p0TrhbrEe-qh"
      },
      "execution_count": null,
      "outputs": []
    },
    {
      "cell_type": "markdown",
      "source": [
        "The remaining cells will belong to $\\Omega_1$.\n",
        "\n",
        "To find them we use `np.arange(ar1,ar2)` which finds gives the set difference of two arrays (return the unique values in `ar1` that are not in `ar2`)."
      ],
      "metadata": {
        "id": "VG7DBQ5wfYbj"
      }
    },
    {
      "cell_type": "code",
      "source": [
        "cells_1 ="
      ],
      "metadata": {
        "id": "6yYZG9FqfcbD"
      },
      "execution_count": null,
      "outputs": []
    },
    {
      "cell_type": "code",
      "source": [
        "cells_1_labels = "
      ],
      "metadata": {
        "id": "Nc4fxsJLfzcJ"
      },
      "execution_count": null,
      "outputs": []
    },
    {
      "cell_type": "markdown",
      "source": [
        "We then store both subdomains in a `dolfinx.mesh` `MeshTags` object."
      ],
      "metadata": {
        "id": "jM9Li2apbfzF"
      }
    },
    {
      "cell_type": "code",
      "source": [
        "subdomains = dolfinx.mesh.MeshTags(\n",
        "    mesh, tdim,\n",
        "    np.hstack((cells_1, cells_0)),\n",
        "    np.hstack((cells_1_labels, cells_0_labels)))"
      ],
      "metadata": {
        "id": "X5RpQDDNbgh2"
      },
      "execution_count": null,
      "outputs": []
    },
    {
      "cell_type": "markdown",
      "source": [
        "We finally plot with `pyvista` the subdomains to verify the correct assignment of the label."
      ],
      "metadata": {
        "id": "ecBWYU0Gbqc-"
      }
    },
    {
      "cell_type": "code",
      "source": [
        "multiphenicsx.io.plot_mesh_tags(subdomains)"
      ],
      "metadata": {
        "id": "pxuoZpcMbqBz"
      },
      "execution_count": null,
      "outputs": []
    },
    {
      "cell_type": "markdown",
      "source": [
        "Defining the FEM space is as before:"
      ],
      "metadata": {
        "id": "HWx3IFLIQxLI"
      }
    },
    {
      "cell_type": "code",
      "source": [
        "Vh = "
      ],
      "metadata": {
        "id": "XjYuCIjDQ0z7"
      },
      "execution_count": null,
      "outputs": []
    },
    {
      "cell_type": "code",
      "source": [
        "uh = \n",
        "vh = "
      ],
      "metadata": {
        "id": "LpwbJzkIQ6vQ"
      },
      "execution_count": null,
      "outputs": []
    },
    {
      "cell_type": "markdown",
      "source": [
        "In order to write this in `ufl`, we need to inform the integral measure `dx` of the subdomain labels, using `ufl.Measure` and providing as data the `subdomains` object that we have created."
      ],
      "metadata": {
        "id": "WHTEGxESn7Uq"
      }
    },
    {
      "cell_type": "code",
      "source": [
        "dx ="
      ],
      "metadata": {
        "id": "l8IKuU_WIY57"
      },
      "execution_count": null,
      "outputs": []
    },
    {
      "cell_type": "markdown",
      "source": [
        "The bilinear form is straighforward:"
      ],
      "metadata": {
        "id": "CjWnyJz1n9AH"
      }
    },
    {
      "cell_type": "code",
      "source": [
        "a ="
      ],
      "metadata": {
        "id": "ZhVaFywEKxPb"
      },
      "execution_count": null,
      "outputs": []
    },
    {
      "cell_type": "code",
      "source": [
        "F = "
      ],
      "metadata": {
        "id": "CzSrFjmXLT2z"
      },
      "execution_count": null,
      "outputs": []
    },
    {
      "cell_type": "markdown",
      "source": [
        "The rest is as before:"
      ],
      "metadata": {
        "id": "hjtN_RU9LY9p"
      }
    },
    {
      "cell_type": "code",
      "source": [
        ""
      ],
      "metadata": {
        "id": "hpOGN-NCLbDV"
      },
      "execution_count": null,
      "outputs": []
    },
    {
      "cell_type": "code",
      "source": [
        "multiphenicsx.io.plot_scalar_field(solution, \"u_h\", warp_factor=0.1)"
      ],
      "metadata": {
        "id": "b9VKGEB4L7xg"
      },
      "execution_count": null,
      "outputs": []
    },
    {
      "cell_type": "markdown",
      "source": [
        "**Exercise 1:** Use the subdomain idea to solve the problem: find $u: \\Omega = (0, 1)^2 \\to \\mathbb{R}$ such that\n",
        "\\begin{equation*}\n",
        "\\begin{cases}\n",
        "- \\nabla (\\kappa \\nabla u) = f, & \\text{in } \\Omega,\\\\\n",
        "u = g, & \\text{on } \\partial\\Omega.\n",
        "\\end{cases}\n",
        "\\end{equation*}\n",
        "with $f$  and $g$ as before and\n",
        "$$\n",
        "\\kappa(\\mathbf{x}) = \\begin{cases}\n",
        "1, & \\mathbf{x} \\in [0.2, 0.8]^2,\\\\\n",
        "0.1, & \\text{otherwise},\n",
        "\\end{cases}\n",
        "$$\n"
      ],
      "metadata": {
        "id": "MiVeXHdlRjtE"
      }
    },
    {
      "cell_type": "markdown",
      "source": [
        "**Exercise 1:** By yourself or using the official tutorial\n",
        "\n",
        "https://jorgensd.github.io/dolfinx-tutorial/index.html\n",
        "\n",
        "as reference, find out how to use the subdomain idea to define different boundary conditions. For instance, solve with:\n",
        "$$\n",
        "u = g \\quad\\text{if } \\quad x=0 \\quad \\text{or}\\quad  x=1,\n",
        "$$\n",
        "and \n",
        "$$\n",
        "-\\frac{\\partial u}{\\partial {\\mathbf n}} = h \\quad \\text{otherwise}.\n",
        "$$\n",
        "with\n",
        "$$\n",
        "h(x,y)=\n",
        "\\left\\{\n",
        "\\begin{array}{ll}\n",
        "0 & \\text{if } y=0\\\\\n",
        "-4 & \\text{if } y=1.\n",
        "\\end{array}\n",
        "\\right.\n",
        "$$\n",
        "\n"
      ],
      "metadata": {
        "id": "ZpKMz1KsSniE"
      }
    }
  ]
}